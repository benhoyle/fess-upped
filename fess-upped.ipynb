{
 "cells": [
  {
   "cell_type": "markdown",
   "id": "e8220474-d156-4f65-911f-bbd3548b87d3",
   "metadata": {},
   "source": [
    "# Fess Upped\n",
    "\n",
    "An analysis of our confessions using Python.\n",
    "\n",
    "First create a virtual environment and install requirements as per the Readme file:\n",
    "\n",
    "```bash\n",
    "python3 -m venv venv\n",
    "\n",
    "source venv/bin/activate\n",
    "\n",
    "pip install --upgrade pip\n",
    "\n",
    "pip install -r requirements.txt\n",
    "```"
   ]
  },
  {
   "cell_type": "markdown",
   "id": "f6d0f558-e390-4d9d-b626-feb3e423d2ca",
   "metadata": {},
   "source": [
    "## Setup Access to Twitter\n",
    "\n",
    "If you don't have a Twitter account create one.\n",
    "\n",
    "Register for developer access as per here - https://www.earthdatascience.org/courses/use-data-open-source-python/intro-to-apis/twitter-data-in-python/\n",
    "\n",
    "Store the API Key, the API Key Secret and the Bearer token on three consecutive lines of a ```secrets.txt``` file, e.g.:\n",
    "```\n",
    "[Paste API KEY]\n",
    "[Paste API Key Secret]\n",
    "[Paste Bearer Token]\n",
    "```\n",
    "\n",
    "Then as per the guide, go into you Twitter \"app\" setup and generate an Access Key and Secret. Add these as lines 4 and 5 of the secrets.txt file:\n",
    "```\n",
    "[Paste API KEY]\n",
    "[Paste API Key Secret]\n",
    "[Paste Bearer Token]\n",
    "[Paste Access Key]\n",
    "[Paste Access Token]\n",
    "```"
   ]
  },
  {
   "cell_type": "code",
   "execution_count": 8,
   "id": "0590192a-daed-4c94-adec-5c87f4904f1a",
   "metadata": {},
   "outputs": [],
   "source": [
    "with open(\"secrets.txt\") as file:\n",
    "    lines = file.readlines()\n",
    "    lines = [line.rstrip() for line in lines]\n",
    "\n",
    "consumer_key = lines[0]\n",
    "consumer_secret = lines[1]\n",
    "bearer_token = lines[2]\n",
    "access_token = lines[3]\n",
    "access_token_secret = lines[4]"
   ]
  },
  {
   "cell_type": "markdown",
   "id": "b398875f-f330-4e66-a5c7-c34da719dc44",
   "metadata": {},
   "source": [
    "## Libraries and Code\n",
    "\n",
    "We'll use the tweepy library to access Twitter and pandas to save the data."
   ]
  },
  {
   "cell_type": "code",
   "execution_count": 9,
   "id": "c2f99e38-d58c-4701-883d-6d58af78c140",
   "metadata": {},
   "outputs": [],
   "source": [
    "# Import Libraries\n",
    "import os\n",
    "import tweepy as tw\n",
    "import pandas as pd"
   ]
  },
  {
   "cell_type": "code",
   "execution_count": 10,
   "id": "37449dac-799d-4cd3-a797-c24ebbb25bb8",
   "metadata": {},
   "outputs": [],
   "source": [
    "# Setup programmatic API access\n",
    "client = tw.Client(bearer_token)\n",
    "auth = tw.OAuthHandler(consumer_key, consumer_secret)\n",
    "auth.set_access_token(access_token, access_token_secret)\n",
    "api = tw.API(auth, wait_on_rate_limit=True)"
   ]
  },
  {
   "cell_type": "markdown",
   "id": "aebea674-8811-4471-9126-c1269d6d12de",
   "metadata": {},
   "source": []
  },
  {
   "cell_type": "code",
   "execution_count": 15,
   "id": "a13fdc71-d2b8-462a-a8c5-6024bebc7a9b",
   "metadata": {},
   "outputs": [
    {
     "data": {
      "text/plain": [
       "Response(data=[<User id=1007749631818821638 name=Fesshole 🧻 username=fesshole>], includes={}, errors=[], meta={})"
      ]
     },
     "execution_count": 15,
     "metadata": {},
     "output_type": "execute_result"
    }
   ],
   "source": [
    "# Lookup the Twitter ID for fesshole\n",
    "client.get_users(usernames=[\"fesshole\"])"
   ]
  },
  {
   "cell_type": "code",
   "execution_count": 17,
   "id": "3be72250-f7aa-45ef-b678-7a4c3cd12eb0",
   "metadata": {},
   "outputs": [],
   "source": [
    "user_id = 1007749631818821638"
   ]
  },
  {
   "cell_type": "code",
   "execution_count": 18,
   "id": "ae462129-5fe9-4439-b278-2693c0e094da",
   "metadata": {},
   "outputs": [],
   "source": [
    "tweets = client.get_users_tweets(id=user_id, tweet_fields=['context_annotations','created_at','geo'])"
   ]
  },
  {
   "cell_type": "code",
   "execution_count": 19,
   "id": "2c7b35d0-1a99-40cb-aa01-0e8972f9f3fa",
   "metadata": {},
   "outputs": [
    {
     "name": "stdout",
     "output_type": "stream",
     "text": [
      "[<Tweet id=1548599650646728705 text='I saw half of an old episode of Thomas the Tank Engine recently, and someone snogged one of the engines. The idea that Percy the Green Engine has had more action than me over the past 12 months has probably sent me into a depressive spiral.'>, <Tweet id=1548584547834527744 text='I will instigate sex in the morning with my wife, knowing that she will rebuff my advances and instantly get up and make me coffee in bed'>, <Tweet id=1548569448721879040 text=\"I'm a 38 year old man and when I arrange the soft toys on my daughters bed while making it I'll position them in a way that they would be able to interact in case there is any consciousness in there.\">, <Tweet id=1548433556682133504 text='I fell in love with a woman created by the AI account \"This Person Does Not Exist\" and it kills me that we can never be together.'>, <Tweet id=1548418456030105602 text=\"Refunding kindle books can cost authors so I never do it but I've been buying &amp; returning all Tory MPs books I can find. If everyone does it it might make a difference\">, <Tweet id=1548403355524812801 text=\"My husband likes taking mucky photos of me in the nude. I don't mind, mainly because I've realised that he always does a brilliant job of tidying the bedroom up before we do it. I've started suggesting different rooms round the house; the en-suite needs a good scrub.\">, <Tweet id=1548388253887188992 text='My wife will not give anything away, old clothes, carpet offcuts, nothing; and regularly gets me to put it on Facebook to sell. Fuck that. I leave it a couple of days, take whatever it is to the tip, then give her the money out of my own pocket.'>, <Tweet id=1548373160436764673 text='Whenever a website asks me to sign up for their newsletter I do it, then flag all the emails as spam. I hope I am doing my bit to spoil the newsletter economy'>, <Tweet id=1548370645670457347 text='Add your confession to the form:\\n\\nMaybe you did something charming with an oric atmos?\\n\\nhttps://t.co/We2jXkUUnN\\n\\n&gt;&gt; Sponsored by @hebtroco'>, <Tweet id=1548358056886513665 text=\"If I'm in a bad mood and I'm in the car, I don't drive aggressively - that dangerous and a total dick move. I drive at about ⅔ of the speed limit. Seriously pisses of the people behind me, and nothing helps a bad mood quite like spreading it around.\">]\n",
      "{}\n",
      "[]\n",
      "{'result_count': 10, 'newest_id': '1548599650646728705', 'oldest_id': '1548358056886513665', 'next_token': '7140dibdnow9c7btw4228myixwc23vdbddh42h184wo51'}\n"
     ]
    }
   ],
   "source": [
    "for tweet in tweets:\n",
    "    print(tweet)"
   ]
  },
  {
   "cell_type": "code",
   "execution_count": 20,
   "id": "5955292c-8036-4fa5-9074-1b7be3401ad1",
   "metadata": {},
   "outputs": [
    {
     "data": {
      "text/plain": [
       "Response(data=[<Tweet id=1548599650646728705 text='I saw half of an old episode of Thomas the Tank Engine recently, and someone snogged one of the engines. The idea that Percy the Green Engine has had more action than me over the past 12 months has probably sent me into a depressive spiral.'>, <Tweet id=1548584547834527744 text='I will instigate sex in the morning with my wife, knowing that she will rebuff my advances and instantly get up and make me coffee in bed'>, <Tweet id=1548569448721879040 text=\"I'm a 38 year old man and when I arrange the soft toys on my daughters bed while making it I'll position them in a way that they would be able to interact in case there is any consciousness in there.\">, <Tweet id=1548433556682133504 text='I fell in love with a woman created by the AI account \"This Person Does Not Exist\" and it kills me that we can never be together.'>, <Tweet id=1548418456030105602 text=\"Refunding kindle books can cost authors so I never do it but I've been buying &amp; returning all Tory MPs books I can find. If everyone does it it might make a difference\">, <Tweet id=1548403355524812801 text=\"My husband likes taking mucky photos of me in the nude. I don't mind, mainly because I've realised that he always does a brilliant job of tidying the bedroom up before we do it. I've started suggesting different rooms round the house; the en-suite needs a good scrub.\">, <Tweet id=1548388253887188992 text='My wife will not give anything away, old clothes, carpet offcuts, nothing; and regularly gets me to put it on Facebook to sell. Fuck that. I leave it a couple of days, take whatever it is to the tip, then give her the money out of my own pocket.'>, <Tweet id=1548373160436764673 text='Whenever a website asks me to sign up for their newsletter I do it, then flag all the emails as spam. I hope I am doing my bit to spoil the newsletter economy'>, <Tweet id=1548370645670457347 text='Add your confession to the form:\\n\\nMaybe you did something charming with an oric atmos?\\n\\nhttps://t.co/We2jXkUUnN\\n\\n&gt;&gt; Sponsored by @hebtroco'>, <Tweet id=1548358056886513665 text=\"If I'm in a bad mood and I'm in the car, I don't drive aggressively - that dangerous and a total dick move. I drive at about ⅔ of the speed limit. Seriously pisses of the people behind me, and nothing helps a bad mood quite like spreading it around.\">], includes={}, errors=[], meta={'result_count': 10, 'newest_id': '1548599650646728705', 'oldest_id': '1548358056886513665', 'next_token': '7140dibdnow9c7btw4228myixwc23vdbddh42h184wo51'})"
      ]
     },
     "execution_count": 20,
     "metadata": {},
     "output_type": "execute_result"
    }
   ],
   "source": [
    "tweets"
   ]
  },
  {
   "cell_type": "code",
   "execution_count": 27,
   "id": "ef501767-0ca0-4f28-8975-aac5e1ba9c00",
   "metadata": {},
   "outputs": [
    {
     "data": {
      "text/plain": [
       "'7140dibdnow9c7btw4228myixwc23vdbddh42h184wo51'"
      ]
     },
     "execution_count": 27,
     "metadata": {},
     "output_type": "execute_result"
    }
   ],
   "source": [
    "tweets.meta['next_token']"
   ]
  },
  {
   "cell_type": "markdown",
   "id": "52de25e2-c6d0-4601-bbde-82568b896e40",
   "metadata": {},
   "source": [
    "### API Method\n",
    "\n",
    "We need to use this method - https://docs.tweepy.org/en/stable/client.html#tweepy.Client.get_users_tweets\n",
    "\n",
    "### Twitter Limitations on API\n",
    "\n",
    "The \"Reverse chronological home timeline\" has limitations of \"a per-user rate limit of 180 requests per 15-minute window and returns 800 of the most recent Tweets\".\n",
    "\n",
    "The endpoint can return the 3,200 most recent Tweets.\n",
    "\n",
    "The user Tweet timeline endpoint is designed to support two common usage patterns: \n",
    "\n",
    "\"Get a user’s historical Tweets\": Requests made to user Tweet timeline in order to receive Tweets authored by the user of interest in chronological order over a specific recent timeframe. The timeframe can be set using the start_time and end_time and paginating through the full results.  In some cases, a user’s entire history of Tweets can be retrieved if the user has only authored up to 3,200 Tweets in their account. Tweets included will depend on the public availability and the authentication that is used for the requests.\n",
    "\n",
    "\"Polling for new Tweets\": Requests made to user Tweet timeline on a continual basis, to retrieve new Tweets authored by a specific user. The last Tweet ID received can be set as a parameter for any new requests since the last Tweet."
   ]
  },
  {
   "cell_type": "markdown",
   "id": "69e07999-8137-464d-a43b-523d1bf15452",
   "metadata": {},
   "source": [
    "We need to use pagenation to cycle through 32 requests to get the 3200 recent tweets.\n",
    "\n",
    "We pass a ```pagination_token``` which is returned from the previous request."
   ]
  },
  {
   "cell_type": "code",
   "execution_count": 28,
   "id": "73448484-846b-4190-810b-8509b17b56bd",
   "metadata": {},
   "outputs": [],
   "source": [
    "tweets2 = client.get_users_tweets(id=user_id, max_results=10, pagination_token=tweets.meta['next_token'])"
   ]
  },
  {
   "cell_type": "code",
   "execution_count": 29,
   "id": "39453ce6-690a-4298-94ff-88ddabdaf867",
   "metadata": {},
   "outputs": [
    {
     "data": {
      "text/plain": [
       "Response(data=[<Tweet id=1548342958591619074 text='I babysat for an awful family with two kids. The kids had a pet rabbit they abused horribly. One day I volunteered to take him to the vet, told the vet to write on his card that he was euthanized and dead.. I took the bunny home. He turns 8 this summer.'>, <Tweet id=1548327859571175424 text=\"My wife loves Bees. We found a dying one and gave it sugary water. Woke up the next day and it was gone. She was so happy. I don't have the heart to tell her it drowned so I chucked it next door.\">, <Tweet id=1548312759518892036 text=\"I suffered a severe double Inguinal Hernia 20 years ago lifting a heavy bag of compost. My employer kindly paid for the very painful operation as an emergency following doctor's advice. I lied. My wife &amp; I had spent an entire Easter weekend shagging, off our faces on ecstasy.\">, <Tweet id=1548297658632007685 text=\"When I was a kid, my parents were trying to think of a creative punishment and asked if taking the batteries out of a Gameboy would wipe the save games. \\nIt doesn't, but I told them it did and they used that as a way to punish me for years.\">, <Tweet id=1548282561511559169 text=\"My breakfast tasted awful and I thought it meant COVID. Took 2 days off work until the PCR test came back negative. Turned out the milk was off. Can't tell anyone though.\">, <Tweet id=1548267461782360066 text=\"When I was a teenager my mum bought one if those spaghetti measuring tools to see how much pasta you need to feed that's family. One afternoon I put my dick in it to see how many people it would feed. It was a family of 3.\">, <Tweet id=1548262147594919937 text=\"Aged five and six - me and my brother were having an epic game of marbles in rural Shropshire. Except we didn't bring any marbles with us and our parents explained to us we were playing with rabbit shit.\">, <Tweet id=1548237259698163712 text='As a secondary school English teacher, I often subcontract my marking to my own kids. Paying my daughter £10 to mark thirty crappy books seems like money well spent.'>, <Tweet id=1548222163987025920 text=\"Occasionally when I'm swiping on Tinder I come across the husbands of women I was in school with. I take screenshots of the profiles and send them to their wives under an anonymous Facebook account.\">, <Tweet id=1548207061699137538 text='I have been calling my lazy and inept coworker \"John\" instead of \"Joan\". She doesn\\'t dare to correct me as I am not a native speaker. She hates it so much that I started looking for her to talk about the weather or other inane stuff JUST so I can call her John.'>], includes={}, errors=[], meta={'result_count': 10, 'newest_id': '1548342958591619074', 'oldest_id': '1548207061699137538', 'previous_token': '77qpymm88g5h9vqklurdp2gvncktokcyyuze8wkjd52yc', 'next_token': '7140dibdnow9c7btw4228my7xvmtlukc7xxh2fjquujaw'})"
      ]
     },
     "execution_count": 29,
     "metadata": {},
     "output_type": "execute_result"
    }
   ],
   "source": [
    "tweets2"
   ]
  },
  {
   "cell_type": "code",
   "execution_count": 31,
   "id": "d4f3a456-e10e-40d4-a0a9-b7fdf665a220",
   "metadata": {},
   "outputs": [],
   "source": [
    "import time\n",
    "\n",
    "responses = list()\n",
    "pagination_token = None\n",
    "# Iterate over 32 pages of 100 tweets\n",
    "for i in range(0, 32):\n",
    "    if not pagination_token:\n",
    "        response = client.get_users_tweets(id=user_id, max_results=100)\n",
    "    else:\n",
    "        response = client.get_users_tweets(id=user_id, max_results=100, pagination_token=pagination_token)\n",
    "    pagination_token = response.meta['next_token']\n",
    "    responses.append(response) \n",
    "    # Throttle a little to be kind\n",
    "    time.sleep(0.5)"
   ]
  },
  {
   "cell_type": "code",
   "execution_count": 32,
   "id": "49b4c4bb-81b1-43f5-b17e-cacf084ab6cb",
   "metadata": {},
   "outputs": [
    {
     "data": {
      "text/plain": [
       "32"
      ]
     },
     "execution_count": 32,
     "metadata": {},
     "output_type": "execute_result"
    }
   ],
   "source": [
    "len(responses)"
   ]
  },
  {
   "cell_type": "code",
   "execution_count": 34,
   "id": "c7beff12-b4e4-4831-83a4-cb855a70de22",
   "metadata": {},
   "outputs": [
    {
     "data": {
      "text/plain": [
       "(<Tweet id=1548614747280576513 text='I forgot to scan a bottle of wine at Tesco Express and realised when I got home. Walked back and told them so I could pay for it. I am an utter loser.'>,\n",
       " <Tweet id=1546440421299163138 text='My southern husband is very sniffy about \"northern\" water and insists on buying posh bottled water from Waitrose. Little does he know this is what gets poured into the dogs water bowl and his bottle gets filled up with dirty northern muck.'>)"
      ]
     },
     "execution_count": 34,
     "metadata": {},
     "output_type": "execute_result"
    }
   ],
   "source": [
    "responses[0].data[0], responses[1].data[0]"
   ]
  },
  {
   "cell_type": "markdown",
   "id": "9779d25f-0155-4704-8664-15d8be9b9c4d",
   "metadata": {},
   "source": [
    "There seem to be about 16 tweets per day. So 3200 is about 200 days worth. So you would fetch twice a year to update."
   ]
  },
  {
   "cell_type": "code",
   "execution_count": 36,
   "id": "9a18417e-5181-4622-b29b-7c4c0e0530c6",
   "metadata": {},
   "outputs": [],
   "source": [
    "import pickle\n",
    "\n",
    "def SaveLists(data, filename):\n",
    "    open_file = open(filename, \"wb\")\n",
    "    pickle.dump(data, open_file)\n",
    "    open_file.close()\n",
    "\n",
    "def LoadLists(file):\n",
    "    open_file = open(file, \"rb\")\n",
    "    loaded_list = pickle.load(open_file)\n",
    "    open_file.close()\n",
    "    return loaded_list\n",
    "\n",
    "SaveLists(responses, \"2022-07-17 - Saved Data\")"
   ]
  },
  {
   "cell_type": "code",
   "execution_count": 38,
   "id": "fd631efd-c0b9-4509-b084-c4543f94236e",
   "metadata": {},
   "outputs": [],
   "source": [
    "# This tweet has recap photo data\n",
    "tweet_id = 1543983465368018947"
   ]
  },
  {
   "cell_type": "code",
   "execution_count": 40,
   "id": "d30fb659-5e8e-464b-aa1b-9535518797ba",
   "metadata": {},
   "outputs": [
    {
     "data": {
      "text/plain": [
       "Response(data=<Tweet id=1543983465368018947 text='Best public confessions for April 2022, what a great month that was. Do keep sending stories in and keeping us laughing. Thank you everyone, and remember to encourage your friends to FOLLOW @FESSHOLE NOW, so we can keep it all going with your most extraordinary confessions. https://t.co/iEQaPLFz5N'>, includes={}, errors=[], meta={})"
      ]
     },
     "execution_count": 40,
     "metadata": {},
     "output_type": "execute_result"
    }
   ],
   "source": [
    "r = client.get_tweet(id=tweet_id); r "
   ]
  },
  {
   "cell_type": "code",
   "execution_count": 44,
   "id": "5adebcc6-5eb5-45bc-aa0b-393eb86b6aeb",
   "metadata": {},
   "outputs": [
    {
     "data": {
      "text/plain": [
       "(True, True)"
      ]
     },
     "execution_count": 44,
     "metadata": {},
     "output_type": "execute_result"
    }
   ],
   "source": [
    "\"https://\" in r.data.text, \"@\" in r.data.text"
   ]
  },
  {
   "cell_type": "markdown",
   "id": "4c7754a8-9f0b-4719-b859-c7672cd1d0af",
   "metadata": {},
   "source": [
    "### Post Processing\n",
    "\n",
    "We need to exclude any tweets that have a link, twitter handle or attached media.\n",
    "* Link we can just look for \"http://\" in tweet. This also filters out \"recap\" posts with media as these have an https link as above.\n",
    "* Look for @ in tweet."
   ]
  },
  {
   "cell_type": "code",
   "execution_count": 46,
   "id": "7adeb600-1bb8-4fee-8a99-a14c950a9b8e",
   "metadata": {},
   "outputs": [],
   "source": [
    "# Process Tweets\n",
    "cleaned_data = list()\n",
    "for response in responses:\n",
    "    for tweet in response.data:\n",
    "        if not \"https://\" in tweet.text and not \"@\" in tweet.text:\n",
    "            cleaned_data.append(tweet.text)"
   ]
  },
  {
   "cell_type": "code",
   "execution_count": 48,
   "id": "309230ba-e5f6-44ae-b879-21aba1e71542",
   "metadata": {},
   "outputs": [
    {
     "data": {
      "text/plain": [
       "['I forgot to scan a bottle of wine at Tesco Express and realised when I got home. Walked back and told them so I could pay for it. I am an utter loser.',\n",
       " 'I saw half of an old episode of Thomas the Tank Engine recently, and someone snogged one of the engines. The idea that Percy the Green Engine has had more action than me over the past 12 months has probably sent me into a depressive spiral.',\n",
       " 'I will instigate sex in the morning with my wife, knowing that she will rebuff my advances and instantly get up and make me coffee in bed',\n",
       " \"I'm a 38 year old man and when I arrange the soft toys on my daughters bed while making it I'll position them in a way that they would be able to interact in case there is any consciousness in there.\",\n",
       " 'I fell in love with a woman created by the AI account \"This Person Does Not Exist\" and it kills me that we can never be together.',\n",
       " \"Refunding kindle books can cost authors so I never do it but I've been buying &amp; returning all Tory MPs books I can find. If everyone does it it might make a difference\",\n",
       " \"My husband likes taking mucky photos of me in the nude. I don't mind, mainly because I've realised that he always does a brilliant job of tidying the bedroom up before we do it. I've started suggesting different rooms round the house; the en-suite needs a good scrub.\",\n",
       " 'My wife will not give anything away, old clothes, carpet offcuts, nothing; and regularly gets me to put it on Facebook to sell. Fuck that. I leave it a couple of days, take whatever it is to the tip, then give her the money out of my own pocket.',\n",
       " 'Whenever a website asks me to sign up for their newsletter I do it, then flag all the emails as spam. I hope I am doing my bit to spoil the newsletter economy',\n",
       " \"If I'm in a bad mood and I'm in the car, I don't drive aggressively - that dangerous and a total dick move. I drive at about ⅔ of the speed limit. Seriously pisses of the people behind me, and nothing helps a bad mood quite like spreading it around.\"]"
      ]
     },
     "execution_count": 48,
     "metadata": {},
     "output_type": "execute_result"
    }
   ],
   "source": [
    "cleaned_data[0:10]"
   ]
  },
  {
   "cell_type": "code",
   "execution_count": 49,
   "id": "53c84ae4-d5b5-4b08-b2d1-c1402672179e",
   "metadata": {},
   "outputs": [
    {
     "name": "stdout",
     "output_type": "stream",
     "text": [
      "Collecting en-core-web-sm==3.4.0\n",
      "  Downloading https://github.com/explosion/spacy-models/releases/download/en_core_web_sm-3.4.0/en_core_web_sm-3.4.0-py3-none-any.whl (12.8 MB)\n",
      "\u001b[2K     \u001b[38;2;114;156;31m━━━━━━━━━━━━━━━━━━━━━━━━━━━━━━━━━━━━━━━━\u001b[0m \u001b[32m12.8/12.8 MB\u001b[0m \u001b[31m36.9 MB/s\u001b[0m eta \u001b[36m0:00:00\u001b[0mm eta \u001b[36m0:00:01\u001b[0m[36m0:00:01\u001b[0m\n",
      "\u001b[?25hRequirement already satisfied: spacy<3.5.0,>=3.4.0 in ./venv/lib/python3.8/site-packages (from en-core-web-sm==3.4.0) (3.4.0)\n",
      "Requirement already satisfied: wasabi<1.1.0,>=0.9.1 in ./venv/lib/python3.8/site-packages (from spacy<3.5.0,>=3.4.0->en-core-web-sm==3.4.0) (0.9.1)\n",
      "Requirement already satisfied: spacy-loggers<2.0.0,>=1.0.0 in ./venv/lib/python3.8/site-packages (from spacy<3.5.0,>=3.4.0->en-core-web-sm==3.4.0) (1.0.3)\n",
      "Requirement already satisfied: pydantic!=1.8,!=1.8.1,<1.10.0,>=1.7.4 in ./venv/lib/python3.8/site-packages (from spacy<3.5.0,>=3.4.0->en-core-web-sm==3.4.0) (1.9.1)\n",
      "Requirement already satisfied: murmurhash<1.1.0,>=0.28.0 in ./venv/lib/python3.8/site-packages (from spacy<3.5.0,>=3.4.0->en-core-web-sm==3.4.0) (1.0.7)\n",
      "Requirement already satisfied: cymem<2.1.0,>=2.0.2 in ./venv/lib/python3.8/site-packages (from spacy<3.5.0,>=3.4.0->en-core-web-sm==3.4.0) (2.0.6)\n",
      "Requirement already satisfied: langcodes<4.0.0,>=3.2.0 in ./venv/lib/python3.8/site-packages (from spacy<3.5.0,>=3.4.0->en-core-web-sm==3.4.0) (3.3.0)\n",
      "Requirement already satisfied: jinja2 in ./venv/lib/python3.8/site-packages (from spacy<3.5.0,>=3.4.0->en-core-web-sm==3.4.0) (3.1.2)\n",
      "Requirement already satisfied: catalogue<2.1.0,>=2.0.6 in ./venv/lib/python3.8/site-packages (from spacy<3.5.0,>=3.4.0->en-core-web-sm==3.4.0) (2.0.7)\n",
      "Requirement already satisfied: thinc<8.2.0,>=8.1.0 in ./venv/lib/python3.8/site-packages (from spacy<3.5.0,>=3.4.0->en-core-web-sm==3.4.0) (8.1.0)\n",
      "Requirement already satisfied: pathy>=0.3.5 in ./venv/lib/python3.8/site-packages (from spacy<3.5.0,>=3.4.0->en-core-web-sm==3.4.0) (0.6.2)\n",
      "Requirement already satisfied: numpy>=1.15.0 in ./venv/lib/python3.8/site-packages (from spacy<3.5.0,>=3.4.0->en-core-web-sm==3.4.0) (1.23.1)\n",
      "Requirement already satisfied: typer<0.5.0,>=0.3.0 in ./venv/lib/python3.8/site-packages (from spacy<3.5.0,>=3.4.0->en-core-web-sm==3.4.0) (0.4.2)\n",
      "Requirement already satisfied: setuptools in ./venv/lib/python3.8/site-packages (from spacy<3.5.0,>=3.4.0->en-core-web-sm==3.4.0) (63.2.0)\n",
      "Requirement already satisfied: srsly<3.0.0,>=2.4.3 in ./venv/lib/python3.8/site-packages (from spacy<3.5.0,>=3.4.0->en-core-web-sm==3.4.0) (2.4.3)\n",
      "Requirement already satisfied: requests<3.0.0,>=2.13.0 in ./venv/lib/python3.8/site-packages (from spacy<3.5.0,>=3.4.0->en-core-web-sm==3.4.0) (2.28.1)\n",
      "Requirement already satisfied: spacy-legacy<3.1.0,>=3.0.9 in ./venv/lib/python3.8/site-packages (from spacy<3.5.0,>=3.4.0->en-core-web-sm==3.4.0) (3.0.9)\n",
      "Requirement already satisfied: packaging>=20.0 in ./venv/lib/python3.8/site-packages (from spacy<3.5.0,>=3.4.0->en-core-web-sm==3.4.0) (21.3)\n",
      "Requirement already satisfied: tqdm<5.0.0,>=4.38.0 in ./venv/lib/python3.8/site-packages (from spacy<3.5.0,>=3.4.0->en-core-web-sm==3.4.0) (4.64.0)\n",
      "Requirement already satisfied: preshed<3.1.0,>=3.0.2 in ./venv/lib/python3.8/site-packages (from spacy<3.5.0,>=3.4.0->en-core-web-sm==3.4.0) (3.0.6)\n",
      "Requirement already satisfied: pyparsing!=3.0.5,>=2.0.2 in ./venv/lib/python3.8/site-packages (from packaging>=20.0->spacy<3.5.0,>=3.4.0->en-core-web-sm==3.4.0) (3.0.9)\n",
      "Requirement already satisfied: smart-open<6.0.0,>=5.2.1 in ./venv/lib/python3.8/site-packages (from pathy>=0.3.5->spacy<3.5.0,>=3.4.0->en-core-web-sm==3.4.0) (5.2.1)\n",
      "Requirement already satisfied: typing-extensions>=3.7.4.3 in ./venv/lib/python3.8/site-packages (from pydantic!=1.8,!=1.8.1,<1.10.0,>=1.7.4->spacy<3.5.0,>=3.4.0->en-core-web-sm==3.4.0) (4.3.0)\n",
      "Requirement already satisfied: idna<4,>=2.5 in ./venv/lib/python3.8/site-packages (from requests<3.0.0,>=2.13.0->spacy<3.5.0,>=3.4.0->en-core-web-sm==3.4.0) (3.3)\n",
      "Requirement already satisfied: certifi>=2017.4.17 in ./venv/lib/python3.8/site-packages (from requests<3.0.0,>=2.13.0->spacy<3.5.0,>=3.4.0->en-core-web-sm==3.4.0) (2022.6.15)\n",
      "Requirement already satisfied: charset-normalizer<3,>=2 in ./venv/lib/python3.8/site-packages (from requests<3.0.0,>=2.13.0->spacy<3.5.0,>=3.4.0->en-core-web-sm==3.4.0) (2.1.0)\n",
      "Requirement already satisfied: urllib3<1.27,>=1.21.1 in ./venv/lib/python3.8/site-packages (from requests<3.0.0,>=2.13.0->spacy<3.5.0,>=3.4.0->en-core-web-sm==3.4.0) (1.26.10)\n",
      "Requirement already satisfied: blis<0.8.0,>=0.7.8 in ./venv/lib/python3.8/site-packages (from thinc<8.2.0,>=8.1.0->spacy<3.5.0,>=3.4.0->en-core-web-sm==3.4.0) (0.7.8)\n",
      "Requirement already satisfied: click<9.0.0,>=7.1.1 in ./venv/lib/python3.8/site-packages (from typer<0.5.0,>=0.3.0->spacy<3.5.0,>=3.4.0->en-core-web-sm==3.4.0) (8.1.3)\n",
      "Requirement already satisfied: MarkupSafe>=2.0 in ./venv/lib/python3.8/site-packages (from jinja2->spacy<3.5.0,>=3.4.0->en-core-web-sm==3.4.0) (2.1.1)\n",
      "Installing collected packages: en-core-web-sm\n",
      "Successfully installed en-core-web-sm-3.4.0\n",
      "\u001b[38;5;2m✔ Download and installation successful\u001b[0m\n",
      "You can now load the package via spacy.load('en_core_web_sm')\n"
     ]
    }
   ],
   "source": [
    "# Setup spacy by downloading the small web model, which should be good for tweets\n",
    "!python -m spacy download en_core_web_sm"
   ]
  },
  {
   "cell_type": "code",
   "execution_count": 50,
   "id": "35008f43-66a2-4f20-9c86-1ece029c2cab",
   "metadata": {},
   "outputs": [],
   "source": [
    "# Process Text with Spacy\n",
    "import spacy\n",
    "\n",
    "nlp = spacy.load(\"en_core_web_sm\")\n",
    "docs = list(nlp.pipe(cleaned_data))"
   ]
  },
  {
   "cell_type": "markdown",
   "id": "dea5dbbe-8a4c-42cf-b1dd-0fdb75420588",
   "metadata": {},
   "source": [
    "### LDA\n",
    "\n",
    "Gensim provides library functions to perform LDA. \n",
    "\n",
    "We can replace some of the functions used in the tutorial with outputs from spacy. For example, we can use the lemma_ attribute of tokens and then take the lower of this."
   ]
  },
  {
   "cell_type": "code",
   "execution_count": 51,
   "id": "ddf9d21a-4a14-4fa0-b84d-1a684f954e0a",
   "metadata": {},
   "outputs": [],
   "source": [
    "# Lemmatise the docs and take the lowercase representation\n",
    "lower_lemmas = [[t.lemma_.lower() for t in doc] for doc in docs]"
   ]
  },
  {
   "cell_type": "code",
   "execution_count": 52,
   "id": "0afb04ff-a897-44dc-8c58-6f2a566358ad",
   "metadata": {},
   "outputs": [
    {
     "data": {
      "text/plain": [
       "['i',\n",
       " 'babysat',\n",
       " 'for',\n",
       " 'an',\n",
       " 'awful',\n",
       " 'family',\n",
       " 'with',\n",
       " 'two',\n",
       " 'kid',\n",
       " '.',\n",
       " 'the',\n",
       " 'kid',\n",
       " 'have',\n",
       " 'a',\n",
       " 'pet',\n",
       " 'rabbit',\n",
       " 'they',\n",
       " 'abuse',\n",
       " 'horribly',\n",
       " '.',\n",
       " 'one',\n",
       " 'day',\n",
       " 'i',\n",
       " 'volunteer',\n",
       " 'to',\n",
       " 'take',\n",
       " 'he',\n",
       " 'to',\n",
       " 'the',\n",
       " 'vet',\n",
       " ',',\n",
       " 'tell',\n",
       " 'the',\n",
       " 'vet',\n",
       " 'to',\n",
       " 'write',\n",
       " 'on',\n",
       " 'his',\n",
       " 'card',\n",
       " 'that',\n",
       " 'he',\n",
       " 'be',\n",
       " 'euthanize',\n",
       " 'and',\n",
       " 'dead',\n",
       " '..',\n",
       " 'i',\n",
       " 'take',\n",
       " 'the',\n",
       " 'bunny',\n",
       " 'home',\n",
       " '.',\n",
       " 'he',\n",
       " 'turn',\n",
       " '8',\n",
       " 'this',\n",
       " 'summer',\n",
       " '.']"
      ]
     },
     "execution_count": 52,
     "metadata": {},
     "output_type": "execute_result"
    }
   ],
   "source": [
    "lower_lemmas[10]"
   ]
  },
  {
   "cell_type": "code",
   "execution_count": 55,
   "id": "f3ee688d-84b6-4c4e-92c3-df25c76bab86",
   "metadata": {},
   "outputs": [
    {
     "name": "stdout",
     "output_type": "stream",
     "text": [
      "I True\n",
      "babysat False\n",
      "for True\n",
      "an True\n",
      "awful False\n",
      "family False\n",
      "with True\n",
      "two True\n",
      "kids False\n",
      ". False\n",
      "The True\n",
      "kids False\n",
      "had True\n",
      "a True\n",
      "pet False\n",
      "rabbit False\n",
      "they True\n",
      "abused False\n",
      "horribly False\n",
      ". False\n"
     ]
    }
   ],
   "source": [
    "# Spacy has an inbuilt stoplist that is available as a token attribute\n",
    "for t in docs[10][0:20]:\n",
    "    print(t, t.is_stop)"
   ]
  },
  {
   "cell_type": "code",
   "execution_count": 56,
   "id": "856e2636-29cf-41b6-be9d-2b7d1b4975f7",
   "metadata": {},
   "outputs": [],
   "source": [
    "# Let's also (as per old NLP) remove numbers, punctuation and single letter words.\n",
    "processed_text = [[t.lemma_.lower() for t in doc if not (t.is_stop or t.is_punct or t.is_digit)] for doc in docs]"
   ]
  },
  {
   "cell_type": "code",
   "execution_count": 57,
   "id": "e1c50bb1-4a9d-4013-8e8c-fbc93d46ea0e",
   "metadata": {},
   "outputs": [
    {
     "data": {
      "text/plain": [
       "['babysat',\n",
       " 'awful',\n",
       " 'family',\n",
       " 'kid',\n",
       " 'kid',\n",
       " 'pet',\n",
       " 'rabbit',\n",
       " 'abuse',\n",
       " 'horribly',\n",
       " 'day',\n",
       " 'volunteer',\n",
       " 'vet',\n",
       " 'tell',\n",
       " 'vet',\n",
       " 'write',\n",
       " 'card',\n",
       " 'euthanize',\n",
       " 'dead',\n",
       " 'take',\n",
       " 'bunny',\n",
       " 'home',\n",
       " 'turn',\n",
       " 'summer']"
      ]
     },
     "execution_count": 57,
     "metadata": {},
     "output_type": "execute_result"
    }
   ],
   "source": [
    "processed_text[10]"
   ]
  },
  {
   "cell_type": "code",
   "execution_count": 67,
   "id": "2141875d-d045-490c-aeaa-bf0f584cc912",
   "metadata": {},
   "outputs": [
    {
     "name": "stderr",
     "output_type": "stream",
     "text": [
      "2022-07-17 12:22:29,223 : INFO : collecting all words and their counts\n",
      "2022-07-17 12:22:29,224 : INFO : PROGRESS: at sentence #0, processed 0 words and 0 word types\n",
      "2022-07-17 12:22:29,268 : INFO : collected 50947 token types (unigram + bigrams) from a corpus of 51200 words and 2935 sentences\n",
      "2022-07-17 12:22:29,269 : INFO : merged Phrases<50947 vocab, min_count=20, threshold=10.0, max_vocab_size=40000000>\n",
      "2022-07-17 12:22:29,269 : INFO : Phrases lifecycle event {'msg': 'built Phrases<50947 vocab, min_count=20, threshold=10.0, max_vocab_size=40000000> in 0.05s', 'datetime': '2022-07-17T12:22:29.269866', 'gensim': '4.2.0', 'python': '3.8.5 (default, Sep  4 2020, 07:30:14) \\n[GCC 7.3.0]', 'platform': 'Linux-5.15.0-41-generic-x86_64-with-glibc2.10', 'event': 'created'}\n"
     ]
    }
   ],
   "source": [
    "# Configure Logging for Gensim\n",
    "import logging\n",
    "logging.basicConfig(format='%(asctime)s : %(levelname)s : %(message)s', level=logging.INFO)\n",
    "\n",
    "# Add n_grams to the doc tokens\n",
    "# Compute bigrams.\n",
    "from gensim.models import Phrases\n",
    "\n",
    "# Add bigrams and trigrams to docs (only ones that appear 20 times or more).\n",
    "bigram = Phrases(processed_text, min_count=20)\n",
    "for idx in range(len(processed_text)):\n",
    "    for token in bigram[processed_text[idx]]:\n",
    "        if '_' in token:\n",
    "            # Token is a bigram, add to document.\n",
    "            processed_text[idx].append(token)"
   ]
  },
  {
   "cell_type": "code",
   "execution_count": 69,
   "id": "b709c327-0844-4040-b2f6-9d42de81024a",
   "metadata": {},
   "outputs": [
    {
     "name": "stderr",
     "output_type": "stream",
     "text": [
      "2022-07-17 12:23:21,838 : INFO : adding document #0 to Dictionary<0 unique tokens: []>\n",
      "2022-07-17 12:23:21,895 : INFO : built Dictionary<7880 unique tokens: ['bottle', 'express', 'forgot', 'get', 'home']...> from 2935 documents (total 51698 corpus positions)\n",
      "2022-07-17 12:23:21,895 : INFO : Dictionary lifecycle event {'msg': \"built Dictionary<7880 unique tokens: ['bottle', 'express', 'forgot', 'get', 'home']...> from 2935 documents (total 51698 corpus positions)\", 'datetime': '2022-07-17T12:23:21.895933', 'gensim': '4.2.0', 'python': '3.8.5 (default, Sep  4 2020, 07:30:14) \\n[GCC 7.3.0]', 'platform': 'Linux-5.15.0-41-generic-x86_64-with-glibc2.10', 'event': 'created'}\n"
     ]
    }
   ],
   "source": [
    "from gensim.corpora import Dictionary\n",
    "\n",
    "# Create a dictionary representation of the documents.\n",
    "dictionary = Dictionary(processed_text)"
   ]
  },
  {
   "cell_type": "markdown",
   "id": "a5dd273a-d0b5-439a-84f2-a9ae4c613bbb",
   "metadata": {},
   "source": [
    "I omitted the token filtering as this reduced the dictionary to only 470 tokens. We can maybe try this as a variation.\n",
    "```\n",
    "# Filter out words that occur less than 20 documents, or more than 50% of the documents.\n",
    "dictionary.filter_extremes(no_below=20, no_above=0.5)\n",
    "print('Number of unique tokens: %d' % len(dictionary))\n",
    "```"
   ]
  },
  {
   "cell_type": "code",
   "execution_count": 70,
   "id": "a3418e85-9a10-4b4b-8eab-65ef6b388bd6",
   "metadata": {},
   "outputs": [],
   "source": [
    "# Bag-of-words representation of the documents.\n",
    "corpus = [dictionary.doc2bow(doc) for doc in processed_text]"
   ]
  },
  {
   "cell_type": "code",
   "execution_count": 71,
   "id": "a14b1266-17c9-48bc-b443-55976797f29a",
   "metadata": {},
   "outputs": [
    {
     "name": "stderr",
     "output_type": "stream",
     "text": [
      "2022-07-17 12:24:36,631 : INFO : using autotuned alpha, starting with [0.1, 0.1, 0.1, 0.1, 0.1, 0.1, 0.1, 0.1, 0.1, 0.1]\n",
      "2022-07-17 12:24:36,633 : INFO : using serial LDA version on this node\n",
      "2022-07-17 12:24:36,638 : INFO : running online (multi-pass) LDA training, 10 topics, 20 passes over the supplied corpus of 2935 documents, updating model once every 2935 documents, evaluating perplexity every 0 documents, iterating 400x with a convergence threshold of 0.001000\n",
      "2022-07-17 12:24:36,639 : INFO : PROGRESS: pass 0, at document #2935/2935\n",
      "2022-07-17 12:24:37,934 : INFO : optimized alpha [0.07004665, 0.07151671, 0.07835673, 0.07398079, 0.080541484, 0.07157614, 0.07575834, 0.07633582, 0.083537795, 0.07283665]\n",
      "2022-07-17 12:24:37,938 : INFO : topic #0 (0.070): 0.009*\"go\" + 0.009*\"like\" + 0.007*\"time\" + 0.006*\"try\" + 0.006*\"year\" + 0.006*\"year_old\" + 0.006*\"day\" + 0.005*\"wife\" + 0.005*\"buy\" + 0.005*\"tell\"\n",
      "2022-07-17 12:24:37,939 : INFO : topic #1 (0.072): 0.009*\"year\" + 0.008*\"day\" + 0.007*\"like\" + 0.007*\"leave\" + 0.006*\"work\" + 0.006*\"know\" + 0.006*\"buy\" + 0.005*\"think\" + 0.005*\"find\" + 0.005*\"people\"\n",
      "2022-07-17 12:24:37,940 : INFO : topic #2 (0.078): 0.018*\"year_ago\" + 0.012*\"year\" + 0.009*\"day\" + 0.009*\"work\" + 0.008*\"know\" + 0.007*\"find\" + 0.007*\"ago\" + 0.006*\"tell\" + 0.006*\"husband\" + 0.005*\"get\"\n",
      "2022-07-17 12:24:37,940 : INFO : topic #4 (0.081): 0.015*\"year_old\" + 0.012*\"think\" + 0.011*\"year\" + 0.009*\"wife\" + 0.008*\"work\" + 0.007*\"old\" + 0.007*\"get\" + 0.007*\"look\" + 0.007*\"take\" + 0.006*\"day\"\n",
      "2022-07-17 12:24:37,941 : INFO : topic #8 (0.084): 0.011*\"time\" + 0.011*\"year\" + 0.011*\"go\" + 0.009*\"amp\" + 0.009*\"tell\" + 0.009*\"like\" + 0.008*\"work\" + 0.007*\"buy\" + 0.007*\"think\" + 0.006*\"year_old\"\n",
      "2022-07-17 12:24:37,941 : INFO : topic diff=7.304484, rho=1.000000\n",
      "2022-07-17 12:24:37,946 : INFO : PROGRESS: pass 1, at document #2935/2935\n",
      "2022-07-17 12:24:38,449 : INFO : optimized alpha [0.06111791, 0.06281461, 0.07095556, 0.0655614, 0.07386751, 0.0628397, 0.067716844, 0.06880376, 0.07698126, 0.064429805]\n",
      "2022-07-17 12:24:38,454 : INFO : topic #0 (0.061): 0.010*\"go\" + 0.009*\"like\" + 0.007*\"time\" + 0.006*\"try\" + 0.006*\"day\" + 0.006*\"wife\" + 0.006*\"year\" + 0.005*\"year_old\" + 0.005*\"buy\" + 0.005*\"tell\"\n",
      "2022-07-17 12:24:38,455 : INFO : topic #5 (0.063): 0.010*\"year\" + 0.009*\"know\" + 0.008*\"wife\" + 0.007*\"think\" + 0.006*\"work\" + 0.005*\"amp\" + 0.005*\"go\" + 0.005*\"get\" + 0.004*\"day\" + 0.004*\"buy\"\n",
      "2022-07-17 12:24:38,456 : INFO : topic #2 (0.071): 0.020*\"year_ago\" + 0.012*\"year\" + 0.009*\"day\" + 0.008*\"work\" + 0.008*\"know\" + 0.007*\"ago\" + 0.007*\"find\" + 0.006*\"tell\" + 0.006*\"husband\" + 0.005*\"start\"\n",
      "2022-07-17 12:24:38,457 : INFO : topic #4 (0.074): 0.017*\"year_old\" + 0.012*\"think\" + 0.011*\"year\" + 0.009*\"wife\" + 0.008*\"work\" + 0.008*\"old\" + 0.007*\"get\" + 0.007*\"look\" + 0.007*\"take\" + 0.006*\"time\"\n",
      "2022-07-17 12:24:38,458 : INFO : topic #8 (0.077): 0.012*\"time\" + 0.011*\"year\" + 0.011*\"go\" + 0.010*\"amp\" + 0.009*\"tell\" + 0.009*\"like\" + 0.008*\"work\" + 0.007*\"think\" + 0.007*\"buy\" + 0.006*\"year_old\"\n",
      "2022-07-17 12:24:38,458 : INFO : topic diff=0.019635, rho=0.577350\n",
      "2022-07-17 12:24:38,463 : INFO : PROGRESS: pass 2, at document #2935/2935\n",
      "2022-07-17 12:24:38,929 : INFO : optimized alpha [0.055107363, 0.056902703, 0.06580331, 0.05976928, 0.069153845, 0.056896202, 0.06213093, 0.06356101, 0.07221837, 0.05866365]\n",
      "2022-07-17 12:24:38,934 : INFO : topic #0 (0.055): 0.010*\"go\" + 0.009*\"like\" + 0.008*\"time\" + 0.006*\"wife\" + 0.006*\"try\" + 0.006*\"day\" + 0.005*\"year\" + 0.005*\"buy\" + 0.005*\"spend\" + 0.005*\"tell\"\n",
      "2022-07-17 12:24:38,935 : INFO : topic #5 (0.057): 0.010*\"year\" + 0.008*\"know\" + 0.008*\"wife\" + 0.007*\"think\" + 0.006*\"work\" + 0.005*\"amp\" + 0.005*\"go\" + 0.005*\"get\" + 0.004*\"day\" + 0.004*\"make\"\n",
      "2022-07-17 12:24:38,935 : INFO : topic #2 (0.066): 0.023*\"year_ago\" + 0.013*\"year\" + 0.009*\"day\" + 0.008*\"work\" + 0.008*\"ago\" + 0.008*\"know\" + 0.007*\"find\" + 0.006*\"husband\" + 0.006*\"tell\" + 0.006*\"wife\"\n",
      "2022-07-17 12:24:38,936 : INFO : topic #4 (0.069): 0.019*\"year_old\" + 0.012*\"think\" + 0.012*\"year\" + 0.009*\"wife\" + 0.009*\"old\" + 0.008*\"work\" + 0.007*\"get\" + 0.007*\"look\" + 0.007*\"take\" + 0.006*\"time\"\n",
      "2022-07-17 12:24:38,937 : INFO : topic #8 (0.072): 0.012*\"time\" + 0.011*\"go\" + 0.011*\"year\" + 0.010*\"amp\" + 0.009*\"tell\" + 0.009*\"like\" + 0.008*\"work\" + 0.007*\"buy\" + 0.006*\"think\" + 0.006*\"look_like\"\n",
      "2022-07-17 12:24:38,937 : INFO : topic diff=0.019947, rho=0.500000\n",
      "2022-07-17 12:24:38,943 : INFO : PROGRESS: pass 3, at document #2935/2935\n",
      "2022-07-17 12:24:39,401 : INFO : optimized alpha [0.050653625, 0.052497376, 0.061889105, 0.05543357, 0.06555458, 0.052479755, 0.057939485, 0.059573233, 0.06846485, 0.054374177]\n",
      "2022-07-17 12:24:39,405 : INFO : topic #0 (0.051): 0.010*\"go\" + 0.009*\"like\" + 0.008*\"time\" + 0.006*\"wife\" + 0.006*\"try\" + 0.006*\"day\" + 0.005*\"year\" + 0.005*\"buy\" + 0.005*\"spend\" + 0.005*\"tell\"\n",
      "2022-07-17 12:24:39,406 : INFO : topic #5 (0.052): 0.010*\"year\" + 0.008*\"know\" + 0.008*\"wife\" + 0.007*\"think\" + 0.006*\"work\" + 0.005*\"amp\" + 0.005*\"go\" + 0.005*\"get\" + 0.004*\"day\" + 0.004*\"make\"\n",
      "2022-07-17 12:24:39,407 : INFO : topic #2 (0.062): 0.025*\"year_ago\" + 0.013*\"year\" + 0.009*\"day\" + 0.009*\"ago\" + 0.008*\"work\" + 0.008*\"know\" + 0.007*\"find\" + 0.006*\"husband\" + 0.006*\"tell\" + 0.006*\"start\"\n",
      "2022-07-17 12:24:39,407 : INFO : topic #4 (0.066): 0.020*\"year_old\" + 0.013*\"think\" + 0.012*\"year\" + 0.009*\"old\" + 0.009*\"wife\" + 0.009*\"work\" + 0.007*\"get\" + 0.007*\"look\" + 0.007*\"take\" + 0.006*\"time\"\n",
      "2022-07-17 12:24:39,408 : INFO : topic #8 (0.068): 0.012*\"time\" + 0.011*\"go\" + 0.010*\"year\" + 0.010*\"amp\" + 0.009*\"tell\" + 0.009*\"like\" + 0.008*\"work\" + 0.007*\"buy\" + 0.007*\"look_like\" + 0.006*\"think\"\n",
      "2022-07-17 12:24:39,408 : INFO : topic diff=0.019422, rho=0.447214\n",
      "2022-07-17 12:24:39,413 : INFO : PROGRESS: pass 4, at document #2935/2935\n",
      "2022-07-17 12:24:39,859 : INFO : optimized alpha [0.04718093, 0.049047627, 0.058779605, 0.052024413, 0.062603496, 0.049038403, 0.054625027, 0.056394555, 0.06538459, 0.051034745]\n",
      "2022-07-17 12:24:39,863 : INFO : topic #0 (0.047): 0.010*\"go\" + 0.009*\"like\" + 0.008*\"time\" + 0.006*\"wife\" + 0.006*\"day\" + 0.005*\"try\" + 0.005*\"buy\" + 0.005*\"year\" + 0.005*\"spend\" + 0.005*\"tell\"\n",
      "2022-07-17 12:24:39,864 : INFO : topic #1 (0.049): 0.009*\"year\" + 0.008*\"day\" + 0.008*\"like\" + 0.007*\"leave\" + 0.006*\"buy\" + 0.006*\"work\" + 0.006*\"know\" + 0.006*\"think\" + 0.005*\"people\" + 0.005*\"love\"\n",
      "2022-07-17 12:24:39,865 : INFO : topic #2 (0.059): 0.027*\"year_ago\" + 0.014*\"year\" + 0.010*\"ago\" + 0.009*\"day\" + 0.008*\"work\" + 0.008*\"know\" + 0.007*\"find\" + 0.006*\"husband\" + 0.006*\"tell\" + 0.006*\"start\"\n",
      "2022-07-17 12:24:39,865 : INFO : topic #4 (0.063): 0.021*\"year_old\" + 0.013*\"think\" + 0.012*\"year\" + 0.010*\"old\" + 0.009*\"wife\" + 0.009*\"work\" + 0.007*\"get\" + 0.007*\"take\" + 0.007*\"look\" + 0.006*\"time\"\n",
      "2022-07-17 12:24:39,866 : INFO : topic #8 (0.065): 0.012*\"time\" + 0.011*\"go\" + 0.010*\"year\" + 0.010*\"amp\" + 0.010*\"like\" + 0.009*\"tell\" + 0.008*\"work\" + 0.007*\"look_like\" + 0.006*\"think\" + 0.006*\"buy\"\n",
      "2022-07-17 12:24:39,867 : INFO : topic diff=0.018535, rho=0.408248\n",
      "2022-07-17 12:24:39,875 : INFO : PROGRESS: pass 5, at document #2935/2935\n",
      "2022-07-17 12:24:40,317 : INFO : optimized alpha [0.044356603, 0.046245165, 0.056248613, 0.049218707, 0.06018044, 0.046235684, 0.051883683, 0.05380977, 0.06279744, 0.048305638]\n",
      "2022-07-17 12:24:40,322 : INFO : topic #0 (0.044): 0.010*\"go\" + 0.009*\"like\" + 0.008*\"time\" + 0.006*\"wife\" + 0.005*\"day\" + 0.005*\"try\" + 0.005*\"buy\" + 0.005*\"spend\" + 0.005*\"tell\" + 0.005*\"year\"\n",
      "2022-07-17 12:24:40,323 : INFO : topic #5 (0.046): 0.009*\"year\" + 0.008*\"know\" + 0.008*\"wife\" + 0.007*\"think\" + 0.006*\"work\" + 0.005*\"amp\" + 0.005*\"go\" + 0.005*\"get\" + 0.004*\"make\" + 0.004*\"day\"\n",
      "2022-07-17 12:24:40,324 : INFO : topic #2 (0.056): 0.028*\"year_ago\" + 0.014*\"year\" + 0.010*\"ago\" + 0.009*\"day\" + 0.008*\"work\" + 0.008*\"know\" + 0.007*\"find\" + 0.006*\"husband\" + 0.006*\"tell\" + 0.006*\"start\"\n",
      "2022-07-17 12:24:40,324 : INFO : topic #4 (0.060): 0.022*\"year_old\" + 0.013*\"think\" + 0.012*\"year\" + 0.010*\"old\" + 0.009*\"wife\" + 0.009*\"work\" + 0.007*\"get\" + 0.007*\"take\" + 0.007*\"look\" + 0.006*\"time\"\n",
      "2022-07-17 12:24:40,325 : INFO : topic #8 (0.063): 0.012*\"time\" + 0.011*\"go\" + 0.010*\"amp\" + 0.010*\"year\" + 0.010*\"like\" + 0.009*\"tell\" + 0.008*\"work\" + 0.007*\"look_like\" + 0.007*\"think\" + 0.006*\"buy\"\n",
      "2022-07-17 12:24:40,326 : INFO : topic diff=0.017803, rho=0.377964\n",
      "2022-07-17 12:24:40,334 : INFO : PROGRESS: pass 6, at document #2935/2935\n",
      "2022-07-17 12:24:40,786 : INFO : optimized alpha [0.0420015, 0.043906488, 0.0540972, 0.046875525, 0.058125112, 0.04390298, 0.04956036, 0.051650666, 0.060573198, 0.046010803]\n",
      "2022-07-17 12:24:40,791 : INFO : topic #0 (0.042): 0.010*\"go\" + 0.009*\"like\" + 0.008*\"time\" + 0.006*\"wife\" + 0.005*\"day\" + 0.005*\"try\" + 0.005*\"buy\" + 0.005*\"spend\" + 0.005*\"tell\" + 0.004*\"dog\"\n",
      "2022-07-17 12:24:40,791 : INFO : topic #1 (0.044): 0.008*\"year\" + 0.008*\"day\" + 0.008*\"like\" + 0.007*\"leave\" + 0.006*\"buy\" + 0.006*\"work\" + 0.006*\"know\" + 0.006*\"think\" + 0.005*\"people\" + 0.005*\"love\"\n",
      "2022-07-17 12:24:40,792 : INFO : topic #2 (0.054): 0.030*\"year_ago\" + 0.014*\"year\" + 0.011*\"ago\" + 0.009*\"day\" + 0.008*\"work\" + 0.008*\"know\" + 0.007*\"find\" + 0.006*\"husband\" + 0.006*\"start\" + 0.006*\"tell\"\n",
      "2022-07-17 12:24:40,793 : INFO : topic #4 (0.058): 0.023*\"year_old\" + 0.013*\"think\" + 0.012*\"year\" + 0.011*\"old\" + 0.009*\"wife\" + 0.009*\"work\" + 0.007*\"get\" + 0.007*\"take\" + 0.007*\"look\" + 0.006*\"time\"\n",
      "2022-07-17 12:24:40,793 : INFO : topic #8 (0.061): 0.012*\"time\" + 0.011*\"go\" + 0.010*\"amp\" + 0.010*\"year\" + 0.010*\"like\" + 0.009*\"tell\" + 0.008*\"work\" + 0.007*\"look_like\" + 0.006*\"buy\" + 0.006*\"think\"\n",
      "2022-07-17 12:24:40,794 : INFO : topic diff=0.016405, rho=0.353553\n",
      "2022-07-17 12:24:40,798 : INFO : PROGRESS: pass 7, at document #2935/2935\n",
      "2022-07-17 12:24:41,242 : INFO : optimized alpha [0.03999629, 0.041914403, 0.052243117, 0.044873696, 0.056324523, 0.041905113, 0.047554635, 0.04982805, 0.05863099, 0.044048786]\n",
      "2022-07-17 12:24:41,246 : INFO : topic #0 (0.040): 0.010*\"go\" + 0.009*\"like\" + 0.008*\"time\" + 0.006*\"wife\" + 0.005*\"day\" + 0.005*\"try\" + 0.005*\"buy\" + 0.005*\"spend\" + 0.005*\"tell\" + 0.004*\"dog\"\n",
      "2022-07-17 12:24:41,247 : INFO : topic #1 (0.042): 0.008*\"year\" + 0.008*\"day\" + 0.008*\"like\" + 0.007*\"leave\" + 0.006*\"buy\" + 0.006*\"work\" + 0.006*\"know\" + 0.006*\"think\" + 0.005*\"people\" + 0.005*\"love\"\n",
      "2022-07-17 12:24:41,248 : INFO : topic #2 (0.052): 0.031*\"year_ago\" + 0.015*\"year\" + 0.011*\"ago\" + 0.009*\"day\" + 0.008*\"work\" + 0.008*\"know\" + 0.007*\"find\" + 0.006*\"husband\" + 0.006*\"start\" + 0.006*\"tell\"\n",
      "2022-07-17 12:24:41,248 : INFO : topic #4 (0.056): 0.024*\"year_old\" + 0.013*\"think\" + 0.012*\"year\" + 0.011*\"old\" + 0.009*\"wife\" + 0.009*\"work\" + 0.007*\"get\" + 0.007*\"take\" + 0.007*\"look\" + 0.006*\"time\"\n",
      "2022-07-17 12:24:41,249 : INFO : topic #8 (0.059): 0.012*\"time\" + 0.011*\"go\" + 0.010*\"amp\" + 0.010*\"like\" + 0.010*\"year\" + 0.009*\"tell\" + 0.008*\"work\" + 0.008*\"look_like\" + 0.006*\"buy\" + 0.006*\"think\"\n",
      "2022-07-17 12:24:41,249 : INFO : topic diff=0.014943, rho=0.333333\n",
      "2022-07-17 12:24:41,257 : INFO : PROGRESS: pass 8, at document #2935/2935\n",
      "2022-07-17 12:24:41,690 : INFO : optimized alpha [0.03826052, 0.040185243, 0.050617557, 0.043146245, 0.054740794, 0.04017129, 0.04580817, 0.048226632, 0.05690732, 0.04234441]\n",
      "2022-07-17 12:24:41,699 : INFO : topic #0 (0.038): 0.010*\"go\" + 0.009*\"like\" + 0.008*\"time\" + 0.006*\"wife\" + 0.005*\"day\" + 0.005*\"try\" + 0.005*\"buy\" + 0.005*\"spend\" + 0.005*\"tell\" + 0.004*\"dog\"\n",
      "2022-07-17 12:24:41,699 : INFO : topic #1 (0.040): 0.008*\"year\" + 0.008*\"like\" + 0.008*\"day\" + 0.007*\"leave\" + 0.006*\"buy\" + 0.006*\"work\" + 0.006*\"know\" + 0.006*\"think\" + 0.005*\"people\" + 0.005*\"love\"\n",
      "2022-07-17 12:24:41,700 : INFO : topic #2 (0.051): 0.033*\"year_ago\" + 0.015*\"year\" + 0.012*\"ago\" + 0.009*\"day\" + 0.008*\"work\" + 0.008*\"know\" + 0.007*\"find\" + 0.006*\"husband\" + 0.006*\"start\" + 0.006*\"tell\"\n",
      "2022-07-17 12:24:41,701 : INFO : topic #4 (0.055): 0.024*\"year_old\" + 0.013*\"think\" + 0.013*\"year\" + 0.011*\"old\" + 0.009*\"wife\" + 0.009*\"work\" + 0.007*\"get\" + 0.007*\"take\" + 0.007*\"look\" + 0.006*\"time\"\n",
      "2022-07-17 12:24:41,702 : INFO : topic #8 (0.057): 0.012*\"time\" + 0.011*\"go\" + 0.010*\"amp\" + 0.010*\"like\" + 0.010*\"year\" + 0.010*\"tell\" + 0.009*\"work\" + 0.008*\"look_like\" + 0.006*\"buy\" + 0.006*\"think\"\n",
      "2022-07-17 12:24:41,702 : INFO : topic diff=0.013087, rho=0.316228\n",
      "2022-07-17 12:24:41,707 : INFO : PROGRESS: pass 9, at document #2935/2935\n",
      "2022-07-17 12:24:42,133 : INFO : optimized alpha [0.036737885, 0.038664855, 0.04917664, 0.041617792, 0.05331551, 0.038646996, 0.04426415, 0.04681417, 0.055394273, 0.04084094]\n",
      "2022-07-17 12:24:42,141 : INFO : topic #0 (0.037): 0.010*\"go\" + 0.009*\"like\" + 0.008*\"time\" + 0.007*\"wife\" + 0.005*\"day\" + 0.005*\"try\" + 0.005*\"buy\" + 0.005*\"spend\" + 0.005*\"tell\" + 0.004*\"dog\"\n",
      "2022-07-17 12:24:42,142 : INFO : topic #1 (0.039): 0.008*\"year\" + 0.008*\"like\" + 0.008*\"day\" + 0.007*\"leave\" + 0.006*\"buy\" + 0.006*\"work\" + 0.006*\"know\" + 0.006*\"think\" + 0.005*\"people\" + 0.005*\"love\"\n",
      "2022-07-17 12:24:42,142 : INFO : topic #2 (0.049): 0.033*\"year_ago\" + 0.015*\"year\" + 0.012*\"ago\" + 0.009*\"day\" + 0.008*\"work\" + 0.008*\"know\" + 0.007*\"find\" + 0.006*\"husband\" + 0.006*\"start\" + 0.006*\"tell\"\n",
      "2022-07-17 12:24:42,143 : INFO : topic #4 (0.053): 0.025*\"year_old\" + 0.013*\"think\" + 0.013*\"year\" + 0.011*\"old\" + 0.009*\"wife\" + 0.009*\"work\" + 0.007*\"get\" + 0.007*\"take\" + 0.007*\"look\" + 0.006*\"time\"\n",
      "2022-07-17 12:24:42,143 : INFO : topic #8 (0.055): 0.012*\"time\" + 0.011*\"go\" + 0.011*\"amp\" + 0.010*\"like\" + 0.010*\"tell\" + 0.009*\"year\" + 0.009*\"work\" + 0.008*\"look_like\" + 0.006*\"buy\" + 0.006*\"think\"\n",
      "2022-07-17 12:24:42,144 : INFO : topic diff=0.011591, rho=0.301511\n",
      "2022-07-17 12:24:42,148 : INFO : PROGRESS: pass 10, at document #2935/2935\n",
      "2022-07-17 12:24:42,572 : INFO : optimized alpha [0.03540277, 0.037317805, 0.04788832, 0.040260594, 0.05205625, 0.0372849, 0.042890053, 0.045547154, 0.05403776, 0.039501037]\n",
      "2022-07-17 12:24:42,576 : INFO : topic #0 (0.035): 0.010*\"go\" + 0.009*\"like\" + 0.008*\"time\" + 0.007*\"wife\" + 0.005*\"day\" + 0.005*\"try\" + 0.005*\"buy\" + 0.005*\"spend\" + 0.005*\"tell\" + 0.005*\"dog\"\n",
      "2022-07-17 12:24:42,577 : INFO : topic #5 (0.037): 0.009*\"year\" + 0.008*\"know\" + 0.008*\"wife\" + 0.007*\"think\" + 0.006*\"work\" + 0.005*\"amp\" + 0.005*\"go\" + 0.005*\"get\" + 0.004*\"make\" + 0.004*\"day\"\n",
      "2022-07-17 12:24:42,577 : INFO : topic #2 (0.048): 0.034*\"year_ago\" + 0.015*\"year\" + 0.013*\"ago\" + 0.009*\"day\" + 0.008*\"work\" + 0.008*\"know\" + 0.007*\"find\" + 0.006*\"husband\" + 0.006*\"start\" + 0.006*\"tell\"\n",
      "2022-07-17 12:24:42,578 : INFO : topic #4 (0.052): 0.025*\"year_old\" + 0.013*\"year\" + 0.013*\"think\" + 0.012*\"old\" + 0.009*\"wife\" + 0.009*\"work\" + 0.007*\"get\" + 0.007*\"take\" + 0.006*\"look\" + 0.006*\"time\"\n",
      "2022-07-17 12:24:42,578 : INFO : topic #8 (0.054): 0.012*\"time\" + 0.011*\"go\" + 0.011*\"amp\" + 0.010*\"like\" + 0.010*\"tell\" + 0.009*\"year\" + 0.009*\"work\" + 0.008*\"look_like\" + 0.006*\"think\" + 0.006*\"buy\"\n",
      "2022-07-17 12:24:42,579 : INFO : topic diff=0.010258, rho=0.288675\n",
      "2022-07-17 12:24:42,583 : INFO : PROGRESS: pass 11, at document #2935/2935\n",
      "2022-07-17 12:24:43,006 : INFO : optimized alpha [0.03420342, 0.036113348, 0.04672202, 0.039036285, 0.050913878, 0.03606399, 0.04165207, 0.0444156, 0.052806366, 0.038292266]\n",
      "2022-07-17 12:24:43,011 : INFO : topic #0 (0.034): 0.010*\"go\" + 0.009*\"like\" + 0.008*\"time\" + 0.007*\"wife\" + 0.005*\"try\" + 0.005*\"day\" + 0.005*\"buy\" + 0.005*\"spend\" + 0.005*\"tell\" + 0.005*\"dog\"\n",
      "2022-07-17 12:24:43,011 : INFO : topic #5 (0.036): 0.009*\"year\" + 0.008*\"know\" + 0.008*\"wife\" + 0.007*\"think\" + 0.006*\"work\" + 0.005*\"amp\" + 0.005*\"go\" + 0.005*\"get\" + 0.004*\"make\" + 0.004*\"day\"\n",
      "2022-07-17 12:24:43,012 : INFO : topic #2 (0.047): 0.035*\"year_ago\" + 0.015*\"year\" + 0.013*\"ago\" + 0.009*\"day\" + 0.008*\"work\" + 0.008*\"know\" + 0.007*\"find\" + 0.006*\"husband\" + 0.006*\"start\" + 0.006*\"tell\"\n",
      "2022-07-17 12:24:43,012 : INFO : topic #4 (0.051): 0.026*\"year_old\" + 0.013*\"year\" + 0.013*\"think\" + 0.012*\"old\" + 0.009*\"wife\" + 0.008*\"work\" + 0.007*\"get\" + 0.007*\"take\" + 0.006*\"look\" + 0.006*\"time\"\n",
      "2022-07-17 12:24:43,013 : INFO : topic #8 (0.053): 0.012*\"time\" + 0.011*\"go\" + 0.011*\"amp\" + 0.010*\"like\" + 0.010*\"tell\" + 0.009*\"year\" + 0.009*\"work\" + 0.009*\"look_like\" + 0.006*\"think\" + 0.006*\"buy\"\n",
      "2022-07-17 12:24:43,013 : INFO : topic diff=0.009109, rho=0.277350\n",
      "2022-07-17 12:24:43,021 : INFO : PROGRESS: pass 12, at document #2935/2935\n",
      "2022-07-17 12:24:43,439 : INFO : optimized alpha [0.033120908, 0.03502791, 0.045659155, 0.037920043, 0.049867347, 0.03496446, 0.04052858, 0.043380648, 0.051681407, 0.037204497]\n",
      "2022-07-17 12:24:43,443 : INFO : topic #0 (0.033): 0.010*\"go\" + 0.009*\"like\" + 0.008*\"time\" + 0.007*\"wife\" + 0.005*\"try\" + 0.005*\"day\" + 0.005*\"buy\" + 0.005*\"spend\" + 0.005*\"tell\" + 0.005*\"dog\"\n",
      "2022-07-17 12:24:43,444 : INFO : topic #5 (0.035): 0.009*\"year\" + 0.008*\"know\" + 0.008*\"wife\" + 0.007*\"think\" + 0.006*\"work\" + 0.005*\"amp\" + 0.005*\"go\" + 0.005*\"get\" + 0.004*\"make\" + 0.004*\"day\"\n",
      "2022-07-17 12:24:43,444 : INFO : topic #2 (0.046): 0.035*\"year_ago\" + 0.016*\"year\" + 0.013*\"ago\" + 0.009*\"day\" + 0.008*\"work\" + 0.008*\"know\" + 0.007*\"find\" + 0.006*\"husband\" + 0.006*\"start\" + 0.006*\"tell\"\n",
      "2022-07-17 12:24:43,445 : INFO : topic #4 (0.050): 0.026*\"year_old\" + 0.013*\"year\" + 0.013*\"think\" + 0.012*\"old\" + 0.009*\"wife\" + 0.008*\"work\" + 0.007*\"get\" + 0.007*\"take\" + 0.006*\"time\" + 0.006*\"look\"\n",
      "2022-07-17 12:24:43,446 : INFO : topic #8 (0.052): 0.012*\"time\" + 0.011*\"go\" + 0.011*\"amp\" + 0.010*\"like\" + 0.010*\"tell\" + 0.009*\"year\" + 0.009*\"look_like\" + 0.009*\"work\" + 0.006*\"think\" + 0.006*\"buy\"\n",
      "2022-07-17 12:24:43,446 : INFO : topic diff=0.008023, rho=0.267261\n",
      "2022-07-17 12:24:43,453 : INFO : PROGRESS: pass 13, at document #2935/2935\n",
      "2022-07-17 12:24:43,879 : INFO : optimized alpha [0.032137036, 0.03404313, 0.04468498, 0.036899384, 0.04890339, 0.033964425, 0.039502606, 0.04243281, 0.05064799, 0.036216]\n",
      "2022-07-17 12:24:43,883 : INFO : topic #0 (0.032): 0.010*\"go\" + 0.009*\"like\" + 0.008*\"time\" + 0.007*\"wife\" + 0.005*\"try\" + 0.005*\"day\" + 0.005*\"buy\" + 0.005*\"spend\" + 0.005*\"tell\" + 0.005*\"dog\"\n",
      "2022-07-17 12:24:43,883 : INFO : topic #5 (0.034): 0.009*\"year\" + 0.008*\"know\" + 0.008*\"wife\" + 0.007*\"think\" + 0.006*\"work\" + 0.005*\"amp\" + 0.005*\"go\" + 0.005*\"get\" + 0.004*\"make\" + 0.004*\"day\"\n",
      "2022-07-17 12:24:43,884 : INFO : topic #2 (0.045): 0.036*\"year_ago\" + 0.016*\"year\" + 0.013*\"ago\" + 0.009*\"day\" + 0.008*\"work\" + 0.008*\"know\" + 0.007*\"find\" + 0.006*\"husband\" + 0.006*\"start\" + 0.006*\"tell\"\n",
      "2022-07-17 12:24:43,885 : INFO : topic #4 (0.049): 0.026*\"year_old\" + 0.013*\"year\" + 0.013*\"think\" + 0.012*\"old\" + 0.009*\"wife\" + 0.008*\"work\" + 0.007*\"get\" + 0.007*\"take\" + 0.006*\"time\" + 0.006*\"look\"\n",
      "2022-07-17 12:24:43,885 : INFO : topic #8 (0.051): 0.012*\"time\" + 0.011*\"go\" + 0.011*\"amp\" + 0.010*\"like\" + 0.010*\"tell\" + 0.009*\"look_like\" + 0.009*\"year\" + 0.009*\"work\" + 0.006*\"think\" + 0.006*\"buy\"\n",
      "2022-07-17 12:24:43,886 : INFO : topic diff=0.007145, rho=0.258199\n",
      "2022-07-17 12:24:43,893 : INFO : PROGRESS: pass 14, at document #2935/2935\n",
      "2022-07-17 12:24:44,320 : INFO : optimized alpha [0.031240694, 0.03313849, 0.04380042, 0.035964463, 0.047998875, 0.03304965, 0.03856412, 0.041556768, 0.04970844, 0.03531599]\n",
      "2022-07-17 12:24:44,324 : INFO : topic #0 (0.031): 0.010*\"go\" + 0.009*\"like\" + 0.008*\"time\" + 0.007*\"wife\" + 0.005*\"try\" + 0.005*\"day\" + 0.005*\"buy\" + 0.005*\"spend\" + 0.005*\"tell\" + 0.005*\"dog\"\n",
      "2022-07-17 12:24:44,325 : INFO : topic #5 (0.033): 0.009*\"year\" + 0.008*\"know\" + 0.008*\"wife\" + 0.007*\"think\" + 0.006*\"work\" + 0.005*\"amp\" + 0.005*\"go\" + 0.004*\"get\" + 0.004*\"make\" + 0.004*\"day\"\n",
      "2022-07-17 12:24:44,326 : INFO : topic #2 (0.044): 0.036*\"year_ago\" + 0.016*\"year\" + 0.013*\"ago\" + 0.009*\"day\" + 0.008*\"work\" + 0.008*\"know\" + 0.007*\"find\" + 0.006*\"husband\" + 0.006*\"start\" + 0.006*\"tell\"\n",
      "2022-07-17 12:24:44,326 : INFO : topic #4 (0.048): 0.027*\"year_old\" + 0.013*\"year\" + 0.013*\"think\" + 0.012*\"old\" + 0.009*\"wife\" + 0.008*\"work\" + 0.007*\"get\" + 0.007*\"take\" + 0.006*\"time\" + 0.006*\"look\"\n",
      "2022-07-17 12:24:44,327 : INFO : topic #8 (0.050): 0.011*\"time\" + 0.011*\"go\" + 0.011*\"amp\" + 0.010*\"like\" + 0.010*\"tell\" + 0.009*\"look_like\" + 0.009*\"work\" + 0.009*\"year\" + 0.007*\"think\" + 0.006*\"buy\"\n",
      "2022-07-17 12:24:44,327 : INFO : topic diff=0.006501, rho=0.250000\n",
      "2022-07-17 12:24:44,332 : INFO : PROGRESS: pass 15, at document #2935/2935\n",
      "2022-07-17 12:24:44,759 : INFO : optimized alpha [0.030414058, 0.032308817, 0.042977948, 0.03510041, 0.04716756, 0.032208472, 0.03769801, 0.040743373, 0.04883303, 0.034489296]\n",
      "2022-07-17 12:24:44,767 : INFO : topic #0 (0.030): 0.010*\"go\" + 0.009*\"like\" + 0.008*\"time\" + 0.007*\"wife\" + 0.005*\"try\" + 0.005*\"day\" + 0.005*\"buy\" + 0.005*\"spend\" + 0.005*\"tell\" + 0.005*\"dog\"\n",
      "2022-07-17 12:24:44,768 : INFO : topic #5 (0.032): 0.009*\"year\" + 0.008*\"know\" + 0.008*\"wife\" + 0.007*\"think\" + 0.006*\"work\" + 0.005*\"amp\" + 0.005*\"go\" + 0.004*\"get\" + 0.004*\"make\" + 0.004*\"day\"\n",
      "2022-07-17 12:24:44,769 : INFO : topic #2 (0.043): 0.037*\"year_ago\" + 0.016*\"year\" + 0.014*\"ago\" + 0.009*\"day\" + 0.008*\"work\" + 0.008*\"know\" + 0.007*\"find\" + 0.006*\"husband\" + 0.006*\"start\" + 0.006*\"tell\"\n",
      "2022-07-17 12:24:44,769 : INFO : topic #4 (0.047): 0.027*\"year_old\" + 0.013*\"year\" + 0.012*\"think\" + 0.012*\"old\" + 0.009*\"wife\" + 0.008*\"work\" + 0.007*\"get\" + 0.007*\"take\" + 0.006*\"time\" + 0.006*\"look\"\n",
      "2022-07-17 12:24:44,769 : INFO : topic #8 (0.049): 0.011*\"time\" + 0.011*\"go\" + 0.011*\"amp\" + 0.011*\"like\" + 0.010*\"tell\" + 0.009*\"look_like\" + 0.009*\"work\" + 0.009*\"year\" + 0.007*\"think\" + 0.006*\"buy\"\n",
      "2022-07-17 12:24:44,770 : INFO : topic diff=0.006099, rho=0.242536\n",
      "2022-07-17 12:24:44,774 : INFO : PROGRESS: pass 16, at document #2935/2935\n",
      "2022-07-17 12:24:45,196 : INFO : optimized alpha [0.029650914, 0.031544514, 0.04221028, 0.034301303, 0.04638873, 0.031431325, 0.036895305, 0.039988432, 0.04801402, 0.03372346]\n",
      "2022-07-17 12:24:45,200 : INFO : topic #0 (0.030): 0.010*\"go\" + 0.009*\"like\" + 0.008*\"time\" + 0.007*\"wife\" + 0.005*\"try\" + 0.005*\"buy\" + 0.005*\"day\" + 0.005*\"spend\" + 0.005*\"tell\" + 0.005*\"dog\"\n",
      "2022-07-17 12:24:45,201 : INFO : topic #5 (0.031): 0.009*\"year\" + 0.008*\"know\" + 0.008*\"wife\" + 0.007*\"think\" + 0.006*\"work\" + 0.005*\"amp\" + 0.005*\"go\" + 0.004*\"get\" + 0.004*\"make\" + 0.004*\"day\"\n",
      "2022-07-17 12:24:45,201 : INFO : topic #2 (0.042): 0.037*\"year_ago\" + 0.016*\"year\" + 0.014*\"ago\" + 0.009*\"day\" + 0.008*\"work\" + 0.008*\"know\" + 0.007*\"find\" + 0.006*\"husband\" + 0.006*\"start\" + 0.006*\"tell\"\n",
      "2022-07-17 12:24:45,202 : INFO : topic #4 (0.046): 0.027*\"year_old\" + 0.013*\"year\" + 0.012*\"think\" + 0.012*\"old\" + 0.009*\"wife\" + 0.008*\"work\" + 0.007*\"get\" + 0.007*\"take\" + 0.006*\"time\" + 0.006*\"look\"\n",
      "2022-07-17 12:24:45,202 : INFO : topic #8 (0.048): 0.011*\"time\" + 0.011*\"go\" + 0.011*\"amp\" + 0.011*\"like\" + 0.010*\"look_like\" + 0.010*\"tell\" + 0.009*\"work\" + 0.009*\"year\" + 0.007*\"think\" + 0.006*\"buy\"\n",
      "2022-07-17 12:24:45,202 : INFO : topic diff=0.005434, rho=0.235702\n",
      "2022-07-17 12:24:45,207 : INFO : PROGRESS: pass 17, at document #2935/2935\n",
      "2022-07-17 12:24:45,624 : INFO : optimized alpha [0.028943509, 0.030835114, 0.041494947, 0.033562154, 0.045656946, 0.030710448, 0.03614857, 0.039285637, 0.047253497, 0.033011362]\n",
      "2022-07-17 12:24:45,632 : INFO : topic #0 (0.029): 0.010*\"go\" + 0.009*\"like\" + 0.008*\"time\" + 0.007*\"wife\" + 0.005*\"try\" + 0.005*\"buy\" + 0.005*\"day\" + 0.005*\"spend\" + 0.005*\"tell\" + 0.005*\"dog\"\n",
      "2022-07-17 12:24:45,632 : INFO : topic #5 (0.031): 0.009*\"year\" + 0.008*\"know\" + 0.008*\"wife\" + 0.007*\"think\" + 0.006*\"work\" + 0.005*\"amp\" + 0.005*\"go\" + 0.004*\"get\" + 0.004*\"make\" + 0.004*\"day\"\n",
      "2022-07-17 12:24:45,633 : INFO : topic #2 (0.041): 0.037*\"year_ago\" + 0.016*\"year\" + 0.014*\"ago\" + 0.009*\"day\" + 0.008*\"work\" + 0.008*\"know\" + 0.007*\"find\" + 0.006*\"husband\" + 0.006*\"tell\" + 0.006*\"start\"\n",
      "2022-07-17 12:24:45,634 : INFO : topic #4 (0.046): 0.027*\"year_old\" + 0.013*\"year\" + 0.012*\"old\" + 0.012*\"think\" + 0.009*\"wife\" + 0.008*\"work\" + 0.007*\"get\" + 0.007*\"take\" + 0.006*\"time\" + 0.006*\"look\"\n",
      "2022-07-17 12:24:45,635 : INFO : topic #8 (0.047): 0.011*\"time\" + 0.011*\"go\" + 0.011*\"amp\" + 0.011*\"like\" + 0.010*\"look_like\" + 0.010*\"tell\" + 0.009*\"work\" + 0.009*\"year\" + 0.007*\"think\" + 0.006*\"buy\"\n",
      "2022-07-17 12:24:45,636 : INFO : topic diff=0.004933, rho=0.229416\n",
      "2022-07-17 12:24:45,644 : INFO : PROGRESS: pass 18, at document #2935/2935\n",
      "2022-07-17 12:24:46,077 : INFO : optimized alpha [0.028285362, 0.030174237, 0.040826328, 0.032873254, 0.04496378, 0.030039355, 0.035454247, 0.038632356, 0.046541225, 0.03234687]\n",
      "2022-07-17 12:24:46,081 : INFO : topic #0 (0.028): 0.010*\"go\" + 0.009*\"like\" + 0.008*\"time\" + 0.007*\"wife\" + 0.005*\"try\" + 0.005*\"buy\" + 0.005*\"spend\" + 0.005*\"day\" + 0.005*\"tell\" + 0.005*\"dog\"\n",
      "2022-07-17 12:24:46,082 : INFO : topic #5 (0.030): 0.009*\"year\" + 0.008*\"know\" + 0.008*\"wife\" + 0.007*\"think\" + 0.006*\"work\" + 0.005*\"amp\" + 0.005*\"go\" + 0.004*\"get\" + 0.004*\"make\" + 0.004*\"day\"\n",
      "2022-07-17 12:24:46,082 : INFO : topic #2 (0.041): 0.038*\"year_ago\" + 0.016*\"year\" + 0.014*\"ago\" + 0.009*\"day\" + 0.008*\"work\" + 0.008*\"know\" + 0.007*\"find\" + 0.006*\"husband\" + 0.006*\"tell\" + 0.006*\"start\"\n",
      "2022-07-17 12:24:46,083 : INFO : topic #4 (0.045): 0.027*\"year_old\" + 0.013*\"year\" + 0.013*\"old\" + 0.012*\"think\" + 0.009*\"wife\" + 0.008*\"work\" + 0.007*\"get\" + 0.007*\"take\" + 0.006*\"time\" + 0.006*\"look\"\n",
      "2022-07-17 12:24:46,083 : INFO : topic #8 (0.047): 0.011*\"time\" + 0.011*\"go\" + 0.011*\"like\" + 0.011*\"amp\" + 0.010*\"look_like\" + 0.010*\"tell\" + 0.009*\"work\" + 0.009*\"year\" + 0.007*\"think\" + 0.006*\"buy\"\n",
      "2022-07-17 12:24:46,084 : INFO : topic diff=0.004475, rho=0.223607\n",
      "2022-07-17 12:24:46,088 : INFO : PROGRESS: pass 19, at document #2935/2935\n",
      "2022-07-17 12:24:46,509 : INFO : optimized alpha [0.027675437, 0.029556582, 0.040199574, 0.032229234, 0.044316433, 0.0294102, 0.034804024, 0.038020518, 0.04587658, 0.03172493]\n",
      "2022-07-17 12:24:46,514 : INFO : topic #0 (0.028): 0.010*\"go\" + 0.009*\"like\" + 0.008*\"time\" + 0.007*\"wife\" + 0.005*\"try\" + 0.005*\"buy\" + 0.005*\"spend\" + 0.005*\"tell\" + 0.005*\"day\" + 0.005*\"dog\"\n",
      "2022-07-17 12:24:46,514 : INFO : topic #5 (0.029): 0.009*\"year\" + 0.008*\"know\" + 0.008*\"wife\" + 0.007*\"think\" + 0.006*\"work\" + 0.005*\"amp\" + 0.005*\"go\" + 0.004*\"get\" + 0.004*\"make\" + 0.004*\"day\"\n",
      "2022-07-17 12:24:46,515 : INFO : topic #2 (0.040): 0.038*\"year_ago\" + 0.016*\"year\" + 0.014*\"ago\" + 0.009*\"day\" + 0.008*\"work\" + 0.008*\"know\" + 0.007*\"find\" + 0.006*\"husband\" + 0.006*\"tell\" + 0.006*\"start\"\n",
      "2022-07-17 12:24:46,516 : INFO : topic #4 (0.044): 0.028*\"year_old\" + 0.013*\"year\" + 0.013*\"old\" + 0.012*\"think\" + 0.009*\"wife\" + 0.008*\"work\" + 0.007*\"get\" + 0.007*\"take\" + 0.006*\"time\" + 0.006*\"look\"\n",
      "2022-07-17 12:24:46,516 : INFO : topic #8 (0.046): 0.011*\"time\" + 0.011*\"go\" + 0.011*\"like\" + 0.011*\"amp\" + 0.010*\"look_like\" + 0.010*\"tell\" + 0.009*\"work\" + 0.008*\"year\" + 0.007*\"think\" + 0.006*\"buy\"\n",
      "2022-07-17 12:24:46,517 : INFO : topic diff=0.004175, rho=0.218218\n",
      "2022-07-17 12:24:46,521 : INFO : LdaModel lifecycle event {'msg': 'trained LdaModel<num_terms=7880, num_topics=10, decay=0.5, chunksize=4000> in 9.88s', 'datetime': '2022-07-17T12:24:46.521574', 'gensim': '4.2.0', 'python': '3.8.5 (default, Sep  4 2020, 07:30:14) \\n[GCC 7.3.0]', 'platform': 'Linux-5.15.0-41-generic-x86_64-with-glibc2.10', 'event': 'created'}\n"
     ]
    }
   ],
   "source": [
    "# Train LDA model.\n",
    "from gensim.models import LdaModel\n",
    "\n",
    "# Set training parameters.\n",
    "num_topics = 10\n",
    "# Changed this to 4000 to cover all the docs as they are short and fit in memory\n",
    "chunksize = 4000\n",
    "passes = 20\n",
    "iterations = 400\n",
    "eval_every = None  # Don't evaluate model perplexity, takes too much time.\n",
    "\n",
    "# Make an index to word dictionary.\n",
    "temp = dictionary[0]  # This is only to \"load\" the dictionary.\n",
    "id2word = dictionary.id2token\n",
    "\n",
    "model = LdaModel(\n",
    "    corpus=corpus,\n",
    "    id2word=id2word,\n",
    "    chunksize=chunksize,\n",
    "    alpha='auto',\n",
    "    eta='auto',\n",
    "    iterations=iterations,\n",
    "    num_topics=num_topics,\n",
    "    passes=passes,\n",
    "    eval_every=eval_every\n",
    ")"
   ]
  },
  {
   "cell_type": "code",
   "execution_count": 72,
   "id": "fbd33483-3543-4763-a3ab-86b959eaf5ff",
   "metadata": {},
   "outputs": [
    {
     "name": "stderr",
     "output_type": "stream",
     "text": [
      "2022-07-17 12:25:26,453 : INFO : CorpusAccumulator accumulated stats from 1000 documents\n",
      "2022-07-17 12:25:26,457 : INFO : CorpusAccumulator accumulated stats from 2000 documents\n"
     ]
    },
    {
     "name": "stdout",
     "output_type": "stream",
     "text": [
      "Average topic coherence: -2.9604.\n",
      "[([(0.027623765, 'year_old'),\n",
      "   (0.013424676, 'year'),\n",
      "   (0.012604725, 'old'),\n",
      "   (0.012436859, 'think'),\n",
      "   (0.009284224, 'wife'),\n",
      "   (0.008263561, 'work'),\n",
      "   (0.0068875323, 'get'),\n",
      "   (0.006652288, 'take'),\n",
      "   (0.006451795, 'time'),\n",
      "   (0.0061963326, 'look'),\n",
      "   (0.00617845, 'tell'),\n",
      "   (0.006124915, 'kid'),\n",
      "   (0.005946673, 'want'),\n",
      "   (0.0057988726, 'day'),\n",
      "   (0.0056434027, 'night'),\n",
      "   (0.005336212, 'go'),\n",
      "   (0.005288253, 'like'),\n",
      "   (0.005078944, 'know'),\n",
      "   (0.004822383, 'home'),\n",
      "   (0.004517141, 'watch')],\n",
      "  -2.508778851428638),\n",
      " ([(0.009646516, 'work'),\n",
      "   (0.007426429, 'year'),\n",
      "   (0.0073261233, 'get'),\n",
      "   (0.0063504386, 'day'),\n",
      "   (0.0063478895, 'ask'),\n",
      "   (0.005703999, 'go'),\n",
      "   (0.0053586126, 'think'),\n",
      "   (0.005344327, 'wife'),\n",
      "   (0.005307524, 'leave'),\n",
      "   (0.005194282, 'phone'),\n",
      "   (0.005062379, 'see'),\n",
      "   (0.004631838, 'house'),\n",
      "   (0.0041664885, 'month'),\n",
      "   (0.0039775185, 'watch'),\n",
      "   (0.0038153583, 'tell'),\n",
      "   (0.00360465, 'turn'),\n",
      "   (0.0035282562, 'look'),\n",
      "   (0.0035062095, 'year_ago'),\n",
      "   (0.0034457583, 'like'),\n",
      "   (0.0031816368, 'home')],\n",
      "  -2.730643693137959),\n",
      " ([(0.008475093, 'year'),\n",
      "   (0.007828885, 'like'),\n",
      "   (0.0077175274, 'day'),\n",
      "   (0.0072147464, 'leave'),\n",
      "   (0.0064419387, 'buy'),\n",
      "   (0.005936485, 'work'),\n",
      "   (0.005813085, 'know'),\n",
      "   (0.0055712233, 'think'),\n",
      "   (0.0049472847, 'people'),\n",
      "   (0.004826515, 'love'),\n",
      "   (0.004493244, 'get'),\n",
      "   (0.0044707004, 'ask'),\n",
      "   (0.0043720286, 'tell'),\n",
      "   (0.0041379617, 'month'),\n",
      "   (0.0041363845, 'wear'),\n",
      "   (0.0040943716, 'find'),\n",
      "   (0.0039192047, 'wife'),\n",
      "   (0.0039116745, 'say'),\n",
      "   (0.0036555754, 'try'),\n",
      "   (0.0035848268, 'turn')],\n",
      "  -2.783825568078604),\n",
      " ([(0.037997667, 'year_ago'),\n",
      "   (0.016270949, 'year'),\n",
      "   (0.014294538, 'ago'),\n",
      "   (0.009111026, 'day'),\n",
      "   (0.008206554, 'work'),\n",
      "   (0.007865828, 'know'),\n",
      "   (0.007042481, 'find'),\n",
      "   (0.005661421, 'husband'),\n",
      "   (0.0055528386, 'tell'),\n",
      "   (0.005515849, 'start'),\n",
      "   (0.005325819, 'wife'),\n",
      "   (0.0052088, 'get'),\n",
      "   (0.0047541084, 'think'),\n",
      "   (0.004719687, 'people'),\n",
      "   (0.004303289, 'go'),\n",
      "   (0.0039265896, 'time'),\n",
      "   (0.0037338245, 'watch'),\n",
      "   (0.0036926845, 'month'),\n",
      "   (0.0034843537, 'feel'),\n",
      "   (0.0032956472, 'girl')],\n",
      "  -2.866478666566036),\n",
      " ([(0.011479661, 'time'),\n",
      "   (0.010748637, 'go'),\n",
      "   (0.01071228, 'like'),\n",
      "   (0.010659648, 'amp'),\n",
      "   (0.010087598, 'look_like'),\n",
      "   (0.009585302, 'tell'),\n",
      "   (0.008885279, 'work'),\n",
      "   (0.00848783, 'year'),\n",
      "   (0.0067018163, 'think'),\n",
      "   (0.006283721, 'buy'),\n",
      "   (0.0055843573, 'leave'),\n",
      "   (0.0055496544, 'ask'),\n",
      "   (0.0052918573, 'day'),\n",
      "   (0.005048099, 'make'),\n",
      "   (0.004920512, 'wife'),\n",
      "   (0.00470008, 'home'),\n",
      "   (0.0046665375, 'find'),\n",
      "   (0.0046362835, 'kid'),\n",
      "   (0.004430974, 'look'),\n",
      "   (0.0044168383, 'house')],\n",
      "  -2.9257671493001918),\n",
      " ([(0.008853093, 'year'),\n",
      "   (0.008318371, 'know'),\n",
      "   (0.008028795, 'wife'),\n",
      "   (0.0065526203, 'think'),\n",
      "   (0.005877154, 'work'),\n",
      "   (0.0050247996, 'amp'),\n",
      "   (0.004906229, 'go'),\n",
      "   (0.004498862, 'get'),\n",
      "   (0.0042452505, 'make'),\n",
      "   (0.0039945976, 'day'),\n",
      "   (0.0037667295, 'want'),\n",
      "   (0.0035650562, 'buy'),\n",
      "   (0.0035596287, 'say'),\n",
      "   (0.0035532592, 'spend'),\n",
      "   (0.0034387247, 'pay'),\n",
      "   (0.0034278599, 'bin'),\n",
      "   (0.003340539, 'look'),\n",
      "   (0.0032498287, 'month'),\n",
      "   (0.003200437, 'find'),\n",
      "   (0.0031988933, 'people')],\n",
      "  -3.0028761151626764),\n",
      " ([(0.013229289, 'like'),\n",
      "   (0.008605207, 'day'),\n",
      "   (0.008529243, 'year'),\n",
      "   (0.0077018784, 'get'),\n",
      "   (0.0062442003, 'know'),\n",
      "   (0.0061118235, 'work'),\n",
      "   (0.0055265375, 'leave'),\n",
      "   (0.005235408, 'wife'),\n",
      "   (0.0050872043, 'find'),\n",
      "   (0.004224133, 'pretend'),\n",
      "   (0.004163818, 'car'),\n",
      "   (0.0041214405, 'play'),\n",
      "   (0.0039935317, 'hand'),\n",
      "   (0.003983779, 'toilet'),\n",
      "   (0.0038944702, 'think'),\n",
      "   (0.0038897842, 'week'),\n",
      "   (0.0037457652, 'take'),\n",
      "   (0.0036682591, 'hate'),\n",
      "   (0.0035882925, 'good'),\n",
      "   (0.003572894, 'time')],\n",
      "  -3.0702001846894675),\n",
      " ([(0.009217231, 'work'),\n",
      "   (0.008903816, 'go'),\n",
      "   (0.007501523, 'get'),\n",
      "   (0.0074888095, 'amp'),\n",
      "   (0.0064560194, 'like'),\n",
      "   (0.0062028705, 'think'),\n",
      "   (0.0058925184, 'school'),\n",
      "   (0.0057182973, 'come'),\n",
      "   (0.005539568, 'time'),\n",
      "   (0.005420584, 'good'),\n",
      "   (0.0053703417, 'night'),\n",
      "   (0.0053199334, 'parent'),\n",
      "   (0.0051727304, 'wife'),\n",
      "   (0.004727688, 'day'),\n",
      "   (0.0045046536, 'find'),\n",
      "   (0.004460859, '£'),\n",
      "   (0.004227764, 'sex'),\n",
      "   (0.0041298196, 'friend'),\n",
      "   (0.0038438074, 'shit'),\n",
      "   (0.0037613718, 'say')],\n",
      "  -3.1155364720722822),\n",
      " ([(0.011271845, 'feel_guilty'),\n",
      "   (0.010115792, 'tell'),\n",
      "   (0.007665796, 'work'),\n",
      "   (0.0073854323, 'year'),\n",
      "   (0.007362848, 'day'),\n",
      "   (0.0070945993, 'feel'),\n",
      "   (0.00707133, 'go'),\n",
      "   (0.0063094185, 'time'),\n",
      "   (0.006202491, 'get'),\n",
      "   (0.006081333, 'night'),\n",
      "   (0.0060293837, 'say'),\n",
      "   (0.0053771404, 'cat'),\n",
      "   (0.005259807, 'later'),\n",
      "   (0.005184744, 'week'),\n",
      "   (0.0049011605, 'house'),\n",
      "   (0.0048213284, 'think'),\n",
      "   (0.004720194, 'pay'),\n",
      "   (0.0045766104, 'wife'),\n",
      "   (0.0045492463, 'mum'),\n",
      "   (0.004474909, '£')],\n",
      "  -3.276499805098316),\n",
      " ([(0.01046107, 'go'),\n",
      "   (0.008666521, 'like'),\n",
      "   (0.008221522, 'time'),\n",
      "   (0.006749995, 'wife'),\n",
      "   (0.0052328347, 'try'),\n",
      "   (0.0048490334, 'buy'),\n",
      "   (0.0047985753, 'spend'),\n",
      "   (0.0047267657, 'tell'),\n",
      "   (0.004726579, 'day'),\n",
      "   (0.0046439506, 'dog'),\n",
      "   (0.0043327217, 'park'),\n",
      "   (0.0039627715, 'find'),\n",
      "   (0.0038921004, 'think'),\n",
      "   (0.0038720237, 'sit'),\n",
      "   (0.0038293076, 'year'),\n",
      "   (0.003773392, 'come'),\n",
      "   (0.0036230674, 'new'),\n",
      "   (0.0034073466, 'look'),\n",
      "   (0.0032912754, 'get'),\n",
      "   (0.0030823348, 'word')],\n",
      "  -3.323618786999153)]\n"
     ]
    }
   ],
   "source": [
    "top_topics = model.top_topics(corpus)\n",
    "\n",
    "# Average topic coherence is the sum of topic coherences of all topics, divided by the number of topics.\n",
    "avg_topic_coherence = sum([t[1] for t in top_topics]) / num_topics\n",
    "print('Average topic coherence: %.4f.' % avg_topic_coherence)\n",
    "\n",
    "from pprint import pprint\n",
    "pprint(top_topics)"
   ]
  },
  {
   "cell_type": "markdown",
   "id": "dc50c6b1-0431-4da8-8db6-7b707434b2b6",
   "metadata": {},
   "source": [
    "These don't seem that informative"
   ]
  },
  {
   "cell_type": "markdown",
   "id": "562dc485-a02c-4155-a1d8-1a2eeb57213e",
   "metadata": {},
   "source": [
    "Resources:\n",
    "* https://dev.to/twitterdev/a-comprehensive-guide-for-using-the-twitter-api-v2-using-tweepy-in-python-15d9\n",
    "* Getting an twitter ID from the username - https://commentpicker.com/twitter-id.php\n",
    "* Gensim LDA Tutorial - https://radimrehurek.com/gensim/auto_examples/tutorials/run_lda.html\n",
    "* Multicore LDA - https://radimrehurek.com/gensim/models/ldamulticore.html#module-gensim.models.ldamulticore\n",
    "* Clustering using Spacy and k-means - https://towardsdatascience.com/lovecraft-with-natural-language-processing-part-3-tf-idf-vectors-8c2d4df98621"
   ]
  }
 ],
 "metadata": {
  "kernelspec": {
   "display_name": "Python 3 (ipykernel)",
   "language": "python",
   "name": "python3"
  },
  "language_info": {
   "codemirror_mode": {
    "name": "ipython",
    "version": 3
   },
   "file_extension": ".py",
   "mimetype": "text/x-python",
   "name": "python",
   "nbconvert_exporter": "python",
   "pygments_lexer": "ipython3",
   "version": "3.8.5"
  }
 },
 "nbformat": 4,
 "nbformat_minor": 5
}
