{
 "cells": [
  {
   "cell_type": "markdown",
   "id": "e8220474-d156-4f65-911f-bbd3548b87d3",
   "metadata": {},
   "source": [
    "# Fess Upped\n",
    "\n",
    "An analysis of our confessions using Python.\n",
    "\n",
    "First create a virtual environment and install requirements as per the Readme file:\n",
    "\n",
    "```bash\n",
    "python3 -m venv venv\n",
    "\n",
    "source venv/bin/activate\n",
    "\n",
    "pip install --upgrade pip\n",
    "\n",
    "pip install -r requirements.txt\n",
    "```"
   ]
  },
  {
   "cell_type": "markdown",
   "id": "f6d0f558-e390-4d9d-b626-feb3e423d2ca",
   "metadata": {},
   "source": [
    "## Setup Access to Twitter\n",
    "\n",
    "If you don't have a Twitter account create one.\n",
    "\n",
    "Register for developer access as per here - https://www.earthdatascience.org/courses/use-data-open-source-python/intro-to-apis/twitter-data-in-python/\n",
    "\n",
    "Store the API Key, the API Key Secret and the Bearer token on three consecutive lines of a ```secrets.txt``` file, e.g.:\n",
    "```\n",
    "[Paste API KEY]\n",
    "[Paste API Key Secret]\n",
    "[Paste Bearer Token]\n",
    "```\n",
    "\n",
    "Then as per the guide, go into you Twitter \"app\" setup and generate an Access Key and Secret. Add these as lines 4 and 5 of the secrets.txt file:\n",
    "```\n",
    "[Paste API KEY]\n",
    "[Paste API Key Secret]\n",
    "[Paste Bearer Token]\n",
    "[Paste Access Key]\n",
    "[Paste Access Token]\n",
    "```"
   ]
  },
  {
   "cell_type": "code",
   "execution_count": 8,
   "id": "0590192a-daed-4c94-adec-5c87f4904f1a",
   "metadata": {},
   "outputs": [],
   "source": [
    "with open(\"secrets.txt\") as file:\n",
    "    lines = file.readlines()\n",
    "    lines = [line.rstrip() for line in lines]\n",
    "\n",
    "consumer_key = lines[0]\n",
    "consumer_secret = lines[1]\n",
    "bearer_token = lines[2]\n",
    "access_token = lines[3]\n",
    "access_token_secret = lines[4]"
   ]
  },
  {
   "cell_type": "markdown",
   "id": "b398875f-f330-4e66-a5c7-c34da719dc44",
   "metadata": {},
   "source": [
    "## Libraries and Code\n",
    "\n",
    "We'll use the tweepy library to access Twitter and pandas to save the data."
   ]
  },
  {
   "cell_type": "code",
   "execution_count": 9,
   "id": "c2f99e38-d58c-4701-883d-6d58af78c140",
   "metadata": {},
   "outputs": [],
   "source": [
    "# Import Libraries\n",
    "import os\n",
    "import tweepy as tw\n",
    "import pandas as pd"
   ]
  },
  {
   "cell_type": "code",
   "execution_count": 10,
   "id": "37449dac-799d-4cd3-a797-c24ebbb25bb8",
   "metadata": {},
   "outputs": [],
   "source": [
    "# Setup programmatic API access\n",
    "client = tw.Client(bearer_token)\n",
    "auth = tw.OAuthHandler(consumer_key, consumer_secret)\n",
    "auth.set_access_token(access_token, access_token_secret)\n",
    "api = tw.API(auth, wait_on_rate_limit=True)"
   ]
  },
  {
   "cell_type": "markdown",
   "id": "aebea674-8811-4471-9126-c1269d6d12de",
   "metadata": {},
   "source": []
  },
  {
   "cell_type": "code",
   "execution_count": 15,
   "id": "a13fdc71-d2b8-462a-a8c5-6024bebc7a9b",
   "metadata": {},
   "outputs": [
    {
     "data": {
      "text/plain": [
       "Response(data=[<User id=1007749631818821638 name=Fesshole 🧻 username=fesshole>], includes={}, errors=[], meta={})"
      ]
     },
     "execution_count": 15,
     "metadata": {},
     "output_type": "execute_result"
    }
   ],
   "source": [
    "# Lookup the Twitter ID for fesshole\n",
    "client.get_users(usernames=[\"fesshole\"])"
   ]
  },
  {
   "cell_type": "code",
   "execution_count": 17,
   "id": "3be72250-f7aa-45ef-b678-7a4c3cd12eb0",
   "metadata": {},
   "outputs": [],
   "source": [
    "user_id = 1007749631818821638"
   ]
  },
  {
   "cell_type": "code",
   "execution_count": 18,
   "id": "ae462129-5fe9-4439-b278-2693c0e094da",
   "metadata": {},
   "outputs": [],
   "source": [
    "tweets = client.get_users_tweets(id=user_id, tweet_fields=['context_annotations','created_at','geo'])"
   ]
  },
  {
   "cell_type": "code",
   "execution_count": 19,
   "id": "2c7b35d0-1a99-40cb-aa01-0e8972f9f3fa",
   "metadata": {},
   "outputs": [
    {
     "name": "stdout",
     "output_type": "stream",
     "text": [
      "[<Tweet id=1548599650646728705 text='I saw half of an old episode of Thomas the Tank Engine recently, and someone snogged one of the engines. The idea that Percy the Green Engine has had more action than me over the past 12 months has probably sent me into a depressive spiral.'>, <Tweet id=1548584547834527744 text='I will instigate sex in the morning with my wife, knowing that she will rebuff my advances and instantly get up and make me coffee in bed'>, <Tweet id=1548569448721879040 text=\"I'm a 38 year old man and when I arrange the soft toys on my daughters bed while making it I'll position them in a way that they would be able to interact in case there is any consciousness in there.\">, <Tweet id=1548433556682133504 text='I fell in love with a woman created by the AI account \"This Person Does Not Exist\" and it kills me that we can never be together.'>, <Tweet id=1548418456030105602 text=\"Refunding kindle books can cost authors so I never do it but I've been buying &amp; returning all Tory MPs books I can find. If everyone does it it might make a difference\">, <Tweet id=1548403355524812801 text=\"My husband likes taking mucky photos of me in the nude. I don't mind, mainly because I've realised that he always does a brilliant job of tidying the bedroom up before we do it. I've started suggesting different rooms round the house; the en-suite needs a good scrub.\">, <Tweet id=1548388253887188992 text='My wife will not give anything away, old clothes, carpet offcuts, nothing; and regularly gets me to put it on Facebook to sell. Fuck that. I leave it a couple of days, take whatever it is to the tip, then give her the money out of my own pocket.'>, <Tweet id=1548373160436764673 text='Whenever a website asks me to sign up for their newsletter I do it, then flag all the emails as spam. I hope I am doing my bit to spoil the newsletter economy'>, <Tweet id=1548370645670457347 text='Add your confession to the form:\\n\\nMaybe you did something charming with an oric atmos?\\n\\nhttps://t.co/We2jXkUUnN\\n\\n&gt;&gt; Sponsored by @hebtroco'>, <Tweet id=1548358056886513665 text=\"If I'm in a bad mood and I'm in the car, I don't drive aggressively - that dangerous and a total dick move. I drive at about ⅔ of the speed limit. Seriously pisses of the people behind me, and nothing helps a bad mood quite like spreading it around.\">]\n",
      "{}\n",
      "[]\n",
      "{'result_count': 10, 'newest_id': '1548599650646728705', 'oldest_id': '1548358056886513665', 'next_token': '7140dibdnow9c7btw4228myixwc23vdbddh42h184wo51'}\n"
     ]
    }
   ],
   "source": [
    "for tweet in tweets:\n",
    "    print(tweet)"
   ]
  },
  {
   "cell_type": "code",
   "execution_count": 20,
   "id": "5955292c-8036-4fa5-9074-1b7be3401ad1",
   "metadata": {},
   "outputs": [
    {
     "data": {
      "text/plain": [
       "Response(data=[<Tweet id=1548599650646728705 text='I saw half of an old episode of Thomas the Tank Engine recently, and someone snogged one of the engines. The idea that Percy the Green Engine has had more action than me over the past 12 months has probably sent me into a depressive spiral.'>, <Tweet id=1548584547834527744 text='I will instigate sex in the morning with my wife, knowing that she will rebuff my advances and instantly get up and make me coffee in bed'>, <Tweet id=1548569448721879040 text=\"I'm a 38 year old man and when I arrange the soft toys on my daughters bed while making it I'll position them in a way that they would be able to interact in case there is any consciousness in there.\">, <Tweet id=1548433556682133504 text='I fell in love with a woman created by the AI account \"This Person Does Not Exist\" and it kills me that we can never be together.'>, <Tweet id=1548418456030105602 text=\"Refunding kindle books can cost authors so I never do it but I've been buying &amp; returning all Tory MPs books I can find. If everyone does it it might make a difference\">, <Tweet id=1548403355524812801 text=\"My husband likes taking mucky photos of me in the nude. I don't mind, mainly because I've realised that he always does a brilliant job of tidying the bedroom up before we do it. I've started suggesting different rooms round the house; the en-suite needs a good scrub.\">, <Tweet id=1548388253887188992 text='My wife will not give anything away, old clothes, carpet offcuts, nothing; and regularly gets me to put it on Facebook to sell. Fuck that. I leave it a couple of days, take whatever it is to the tip, then give her the money out of my own pocket.'>, <Tweet id=1548373160436764673 text='Whenever a website asks me to sign up for their newsletter I do it, then flag all the emails as spam. I hope I am doing my bit to spoil the newsletter economy'>, <Tweet id=1548370645670457347 text='Add your confession to the form:\\n\\nMaybe you did something charming with an oric atmos?\\n\\nhttps://t.co/We2jXkUUnN\\n\\n&gt;&gt; Sponsored by @hebtroco'>, <Tweet id=1548358056886513665 text=\"If I'm in a bad mood and I'm in the car, I don't drive aggressively - that dangerous and a total dick move. I drive at about ⅔ of the speed limit. Seriously pisses of the people behind me, and nothing helps a bad mood quite like spreading it around.\">], includes={}, errors=[], meta={'result_count': 10, 'newest_id': '1548599650646728705', 'oldest_id': '1548358056886513665', 'next_token': '7140dibdnow9c7btw4228myixwc23vdbddh42h184wo51'})"
      ]
     },
     "execution_count": 20,
     "metadata": {},
     "output_type": "execute_result"
    }
   ],
   "source": [
    "tweets"
   ]
  },
  {
   "cell_type": "code",
   "execution_count": 27,
   "id": "ef501767-0ca0-4f28-8975-aac5e1ba9c00",
   "metadata": {},
   "outputs": [
    {
     "data": {
      "text/plain": [
       "'7140dibdnow9c7btw4228myixwc23vdbddh42h184wo51'"
      ]
     },
     "execution_count": 27,
     "metadata": {},
     "output_type": "execute_result"
    }
   ],
   "source": [
    "tweets.meta['next_token']"
   ]
  },
  {
   "cell_type": "markdown",
   "id": "52de25e2-c6d0-4601-bbde-82568b896e40",
   "metadata": {},
   "source": [
    "### API Method\n",
    "\n",
    "We need to use this method - https://docs.tweepy.org/en/stable/client.html#tweepy.Client.get_users_tweets\n",
    "\n",
    "### Twitter Limitations on API\n",
    "\n",
    "The \"Reverse chronological home timeline\" has limitations of \"a per-user rate limit of 180 requests per 15-minute window and returns 800 of the most recent Tweets\".\n",
    "\n",
    "The endpoint can return the 3,200 most recent Tweets.\n",
    "\n",
    "The user Tweet timeline endpoint is designed to support two common usage patterns: \n",
    "\n",
    "\"Get a user’s historical Tweets\": Requests made to user Tweet timeline in order to receive Tweets authored by the user of interest in chronological order over a specific recent timeframe. The timeframe can be set using the start_time and end_time and paginating through the full results.  In some cases, a user’s entire history of Tweets can be retrieved if the user has only authored up to 3,200 Tweets in their account. Tweets included will depend on the public availability and the authentication that is used for the requests.\n",
    "\n",
    "\"Polling for new Tweets\": Requests made to user Tweet timeline on a continual basis, to retrieve new Tweets authored by a specific user. The last Tweet ID received can be set as a parameter for any new requests since the last Tweet."
   ]
  },
  {
   "cell_type": "markdown",
   "id": "69e07999-8137-464d-a43b-523d1bf15452",
   "metadata": {},
   "source": [
    "We need to use pagenation to cycle through 32 requests to get the 3200 recent tweets.\n",
    "\n",
    "We pass a ```pagination_token``` which is returned from the previous request."
   ]
  },
  {
   "cell_type": "code",
   "execution_count": 28,
   "id": "73448484-846b-4190-810b-8509b17b56bd",
   "metadata": {},
   "outputs": [],
   "source": [
    "tweets2 = client.get_users_tweets(id=user_id, max_results=10, pagination_token=tweets.meta['next_token'])"
   ]
  },
  {
   "cell_type": "code",
   "execution_count": 29,
   "id": "39453ce6-690a-4298-94ff-88ddabdaf867",
   "metadata": {},
   "outputs": [
    {
     "data": {
      "text/plain": [
       "Response(data=[<Tweet id=1548342958591619074 text='I babysat for an awful family with two kids. The kids had a pet rabbit they abused horribly. One day I volunteered to take him to the vet, told the vet to write on his card that he was euthanized and dead.. I took the bunny home. He turns 8 this summer.'>, <Tweet id=1548327859571175424 text=\"My wife loves Bees. We found a dying one and gave it sugary water. Woke up the next day and it was gone. She was so happy. I don't have the heart to tell her it drowned so I chucked it next door.\">, <Tweet id=1548312759518892036 text=\"I suffered a severe double Inguinal Hernia 20 years ago lifting a heavy bag of compost. My employer kindly paid for the very painful operation as an emergency following doctor's advice. I lied. My wife &amp; I had spent an entire Easter weekend shagging, off our faces on ecstasy.\">, <Tweet id=1548297658632007685 text=\"When I was a kid, my parents were trying to think of a creative punishment and asked if taking the batteries out of a Gameboy would wipe the save games. \\nIt doesn't, but I told them it did and they used that as a way to punish me for years.\">, <Tweet id=1548282561511559169 text=\"My breakfast tasted awful and I thought it meant COVID. Took 2 days off work until the PCR test came back negative. Turned out the milk was off. Can't tell anyone though.\">, <Tweet id=1548267461782360066 text=\"When I was a teenager my mum bought one if those spaghetti measuring tools to see how much pasta you need to feed that's family. One afternoon I put my dick in it to see how many people it would feed. It was a family of 3.\">, <Tweet id=1548262147594919937 text=\"Aged five and six - me and my brother were having an epic game of marbles in rural Shropshire. Except we didn't bring any marbles with us and our parents explained to us we were playing with rabbit shit.\">, <Tweet id=1548237259698163712 text='As a secondary school English teacher, I often subcontract my marking to my own kids. Paying my daughter £10 to mark thirty crappy books seems like money well spent.'>, <Tweet id=1548222163987025920 text=\"Occasionally when I'm swiping on Tinder I come across the husbands of women I was in school with. I take screenshots of the profiles and send them to their wives under an anonymous Facebook account.\">, <Tweet id=1548207061699137538 text='I have been calling my lazy and inept coworker \"John\" instead of \"Joan\". She doesn\\'t dare to correct me as I am not a native speaker. She hates it so much that I started looking for her to talk about the weather or other inane stuff JUST so I can call her John.'>], includes={}, errors=[], meta={'result_count': 10, 'newest_id': '1548342958591619074', 'oldest_id': '1548207061699137538', 'previous_token': '77qpymm88g5h9vqklurdp2gvncktokcyyuze8wkjd52yc', 'next_token': '7140dibdnow9c7btw4228my7xvmtlukc7xxh2fjquujaw'})"
      ]
     },
     "execution_count": 29,
     "metadata": {},
     "output_type": "execute_result"
    }
   ],
   "source": [
    "tweets2"
   ]
  },
  {
   "cell_type": "code",
   "execution_count": 31,
   "id": "d4f3a456-e10e-40d4-a0a9-b7fdf665a220",
   "metadata": {},
   "outputs": [],
   "source": [
    "import time\n",
    "\n",
    "responses = list()\n",
    "pagination_token = None\n",
    "# Iterate over 32 pages of 100 tweets\n",
    "for i in range(0, 32):\n",
    "    if not pagination_token:\n",
    "        response = client.get_users_tweets(id=user_id, max_results=100)\n",
    "    else:\n",
    "        response = client.get_users_tweets(id=user_id, max_results=100, pagination_token=pagination_token)\n",
    "    pagination_token = response.meta['next_token']\n",
    "    responses.append(response) \n",
    "    # Throttle a little to be kind\n",
    "    time.sleep(0.5)"
   ]
  },
  {
   "cell_type": "code",
   "execution_count": 32,
   "id": "49b4c4bb-81b1-43f5-b17e-cacf084ab6cb",
   "metadata": {},
   "outputs": [
    {
     "data": {
      "text/plain": [
       "32"
      ]
     },
     "execution_count": 32,
     "metadata": {},
     "output_type": "execute_result"
    }
   ],
   "source": [
    "len(responses)"
   ]
  },
  {
   "cell_type": "code",
   "execution_count": 34,
   "id": "c7beff12-b4e4-4831-83a4-cb855a70de22",
   "metadata": {},
   "outputs": [
    {
     "data": {
      "text/plain": [
       "(<Tweet id=1548614747280576513 text='I forgot to scan a bottle of wine at Tesco Express and realised when I got home. Walked back and told them so I could pay for it. I am an utter loser.'>,\n",
       " <Tweet id=1546440421299163138 text='My southern husband is very sniffy about \"northern\" water and insists on buying posh bottled water from Waitrose. Little does he know this is what gets poured into the dogs water bowl and his bottle gets filled up with dirty northern muck.'>)"
      ]
     },
     "execution_count": 34,
     "metadata": {},
     "output_type": "execute_result"
    }
   ],
   "source": [
    "responses[0].data[0], responses[1].data[0]"
   ]
  },
  {
   "cell_type": "markdown",
   "id": "9779d25f-0155-4704-8664-15d8be9b9c4d",
   "metadata": {},
   "source": [
    "There seem to be about 16 tweets per day. So 3200 is about 200 days worth. So you would fetch twice a year to update."
   ]
  },
  {
   "cell_type": "code",
   "execution_count": 36,
   "id": "9a18417e-5181-4622-b29b-7c4c0e0530c6",
   "metadata": {},
   "outputs": [],
   "source": [
    "import pickle\n",
    "\n",
    "def SaveLists(data, filename):\n",
    "    open_file = open(filename, \"wb\")\n",
    "    pickle.dump(data, open_file)\n",
    "    open_file.close()\n",
    "\n",
    "def LoadLists(file):\n",
    "    open_file = open(file, \"rb\")\n",
    "    loaded_list = pickle.load(open_file)\n",
    "    open_file.close()\n",
    "    return loaded_list\n",
    "\n",
    "SaveLists(responses, \"2022-07-17 - Saved Data\")"
   ]
  },
  {
   "cell_type": "code",
   "execution_count": 38,
   "id": "fd631efd-c0b9-4509-b084-c4543f94236e",
   "metadata": {},
   "outputs": [],
   "source": [
    "# This tweet has recap photo data\n",
    "tweet_id = 1543983465368018947"
   ]
  },
  {
   "cell_type": "code",
   "execution_count": 40,
   "id": "d30fb659-5e8e-464b-aa1b-9535518797ba",
   "metadata": {},
   "outputs": [
    {
     "data": {
      "text/plain": [
       "Response(data=<Tweet id=1543983465368018947 text='Best public confessions for April 2022, what a great month that was. Do keep sending stories in and keeping us laughing. Thank you everyone, and remember to encourage your friends to FOLLOW @FESSHOLE NOW, so we can keep it all going with your most extraordinary confessions. https://t.co/iEQaPLFz5N'>, includes={}, errors=[], meta={})"
      ]
     },
     "execution_count": 40,
     "metadata": {},
     "output_type": "execute_result"
    }
   ],
   "source": [
    "r = client.get_tweet(id=tweet_id); r "
   ]
  },
  {
   "cell_type": "code",
   "execution_count": 44,
   "id": "5adebcc6-5eb5-45bc-aa0b-393eb86b6aeb",
   "metadata": {},
   "outputs": [
    {
     "data": {
      "text/plain": [
       "(True, True)"
      ]
     },
     "execution_count": 44,
     "metadata": {},
     "output_type": "execute_result"
    }
   ],
   "source": [
    "\"https://\" in r.data.text, \"@\" in r.data.text"
   ]
  },
  {
   "cell_type": "markdown",
   "id": "4c7754a8-9f0b-4719-b859-c7672cd1d0af",
   "metadata": {},
   "source": [
    "### Post Processing\n",
    "\n",
    "We need to exclude any tweets that have a link, twitter handle or attached media.\n",
    "* Link we can just look for \"http://\" in tweet. This also filters out \"recap\" posts with media as these have an https link as above.\n",
    "* Look for @ in tweet."
   ]
  },
  {
   "cell_type": "code",
   "execution_count": 46,
   "id": "7adeb600-1bb8-4fee-8a99-a14c950a9b8e",
   "metadata": {},
   "outputs": [],
   "source": [
    "# Process Tweets\n",
    "cleaned_data = list()\n",
    "for response in responses:\n",
    "    for tweet in response.data:\n",
    "        if not \"https://\" in tweet.text and not \"@\" in tweet.text:\n",
    "            cleaned_data.append(tweet.text)"
   ]
  },
  {
   "cell_type": "code",
   "execution_count": 48,
   "id": "309230ba-e5f6-44ae-b879-21aba1e71542",
   "metadata": {},
   "outputs": [
    {
     "data": {
      "text/plain": [
       "['I forgot to scan a bottle of wine at Tesco Express and realised when I got home. Walked back and told them so I could pay for it. I am an utter loser.',\n",
       " 'I saw half of an old episode of Thomas the Tank Engine recently, and someone snogged one of the engines. The idea that Percy the Green Engine has had more action than me over the past 12 months has probably sent me into a depressive spiral.',\n",
       " 'I will instigate sex in the morning with my wife, knowing that she will rebuff my advances and instantly get up and make me coffee in bed',\n",
       " \"I'm a 38 year old man and when I arrange the soft toys on my daughters bed while making it I'll position them in a way that they would be able to interact in case there is any consciousness in there.\",\n",
       " 'I fell in love with a woman created by the AI account \"This Person Does Not Exist\" and it kills me that we can never be together.',\n",
       " \"Refunding kindle books can cost authors so I never do it but I've been buying &amp; returning all Tory MPs books I can find. If everyone does it it might make a difference\",\n",
       " \"My husband likes taking mucky photos of me in the nude. I don't mind, mainly because I've realised that he always does a brilliant job of tidying the bedroom up before we do it. I've started suggesting different rooms round the house; the en-suite needs a good scrub.\",\n",
       " 'My wife will not give anything away, old clothes, carpet offcuts, nothing; and regularly gets me to put it on Facebook to sell. Fuck that. I leave it a couple of days, take whatever it is to the tip, then give her the money out of my own pocket.',\n",
       " 'Whenever a website asks me to sign up for their newsletter I do it, then flag all the emails as spam. I hope I am doing my bit to spoil the newsletter economy',\n",
       " \"If I'm in a bad mood and I'm in the car, I don't drive aggressively - that dangerous and a total dick move. I drive at about ⅔ of the speed limit. Seriously pisses of the people behind me, and nothing helps a bad mood quite like spreading it around.\"]"
      ]
     },
     "execution_count": 48,
     "metadata": {},
     "output_type": "execute_result"
    }
   ],
   "source": [
    "cleaned_data[0:10]"
   ]
  },
  {
   "cell_type": "code",
   "execution_count": 49,
   "id": "53c84ae4-d5b5-4b08-b2d1-c1402672179e",
   "metadata": {},
   "outputs": [
    {
     "name": "stdout",
     "output_type": "stream",
     "text": [
      "Collecting en-core-web-sm==3.4.0\n",
      "  Downloading https://github.com/explosion/spacy-models/releases/download/en_core_web_sm-3.4.0/en_core_web_sm-3.4.0-py3-none-any.whl (12.8 MB)\n",
      "\u001b[2K     \u001b[38;2;114;156;31m━━━━━━━━━━━━━━━━━━━━━━━━━━━━━━━━━━━━━━━━\u001b[0m \u001b[32m12.8/12.8 MB\u001b[0m \u001b[31m36.9 MB/s\u001b[0m eta \u001b[36m0:00:00\u001b[0mm eta \u001b[36m0:00:01\u001b[0m[36m0:00:01\u001b[0m\n",
      "\u001b[?25hRequirement already satisfied: spacy<3.5.0,>=3.4.0 in ./venv/lib/python3.8/site-packages (from en-core-web-sm==3.4.0) (3.4.0)\n",
      "Requirement already satisfied: wasabi<1.1.0,>=0.9.1 in ./venv/lib/python3.8/site-packages (from spacy<3.5.0,>=3.4.0->en-core-web-sm==3.4.0) (0.9.1)\n",
      "Requirement already satisfied: spacy-loggers<2.0.0,>=1.0.0 in ./venv/lib/python3.8/site-packages (from spacy<3.5.0,>=3.4.0->en-core-web-sm==3.4.0) (1.0.3)\n",
      "Requirement already satisfied: pydantic!=1.8,!=1.8.1,<1.10.0,>=1.7.4 in ./venv/lib/python3.8/site-packages (from spacy<3.5.0,>=3.4.0->en-core-web-sm==3.4.0) (1.9.1)\n",
      "Requirement already satisfied: murmurhash<1.1.0,>=0.28.0 in ./venv/lib/python3.8/site-packages (from spacy<3.5.0,>=3.4.0->en-core-web-sm==3.4.0) (1.0.7)\n",
      "Requirement already satisfied: cymem<2.1.0,>=2.0.2 in ./venv/lib/python3.8/site-packages (from spacy<3.5.0,>=3.4.0->en-core-web-sm==3.4.0) (2.0.6)\n",
      "Requirement already satisfied: langcodes<4.0.0,>=3.2.0 in ./venv/lib/python3.8/site-packages (from spacy<3.5.0,>=3.4.0->en-core-web-sm==3.4.0) (3.3.0)\n",
      "Requirement already satisfied: jinja2 in ./venv/lib/python3.8/site-packages (from spacy<3.5.0,>=3.4.0->en-core-web-sm==3.4.0) (3.1.2)\n",
      "Requirement already satisfied: catalogue<2.1.0,>=2.0.6 in ./venv/lib/python3.8/site-packages (from spacy<3.5.0,>=3.4.0->en-core-web-sm==3.4.0) (2.0.7)\n",
      "Requirement already satisfied: thinc<8.2.0,>=8.1.0 in ./venv/lib/python3.8/site-packages (from spacy<3.5.0,>=3.4.0->en-core-web-sm==3.4.0) (8.1.0)\n",
      "Requirement already satisfied: pathy>=0.3.5 in ./venv/lib/python3.8/site-packages (from spacy<3.5.0,>=3.4.0->en-core-web-sm==3.4.0) (0.6.2)\n",
      "Requirement already satisfied: numpy>=1.15.0 in ./venv/lib/python3.8/site-packages (from spacy<3.5.0,>=3.4.0->en-core-web-sm==3.4.0) (1.23.1)\n",
      "Requirement already satisfied: typer<0.5.0,>=0.3.0 in ./venv/lib/python3.8/site-packages (from spacy<3.5.0,>=3.4.0->en-core-web-sm==3.4.0) (0.4.2)\n",
      "Requirement already satisfied: setuptools in ./venv/lib/python3.8/site-packages (from spacy<3.5.0,>=3.4.0->en-core-web-sm==3.4.0) (63.2.0)\n",
      "Requirement already satisfied: srsly<3.0.0,>=2.4.3 in ./venv/lib/python3.8/site-packages (from spacy<3.5.0,>=3.4.0->en-core-web-sm==3.4.0) (2.4.3)\n",
      "Requirement already satisfied: requests<3.0.0,>=2.13.0 in ./venv/lib/python3.8/site-packages (from spacy<3.5.0,>=3.4.0->en-core-web-sm==3.4.0) (2.28.1)\n",
      "Requirement already satisfied: spacy-legacy<3.1.0,>=3.0.9 in ./venv/lib/python3.8/site-packages (from spacy<3.5.0,>=3.4.0->en-core-web-sm==3.4.0) (3.0.9)\n",
      "Requirement already satisfied: packaging>=20.0 in ./venv/lib/python3.8/site-packages (from spacy<3.5.0,>=3.4.0->en-core-web-sm==3.4.0) (21.3)\n",
      "Requirement already satisfied: tqdm<5.0.0,>=4.38.0 in ./venv/lib/python3.8/site-packages (from spacy<3.5.0,>=3.4.0->en-core-web-sm==3.4.0) (4.64.0)\n",
      "Requirement already satisfied: preshed<3.1.0,>=3.0.2 in ./venv/lib/python3.8/site-packages (from spacy<3.5.0,>=3.4.0->en-core-web-sm==3.4.0) (3.0.6)\n",
      "Requirement already satisfied: pyparsing!=3.0.5,>=2.0.2 in ./venv/lib/python3.8/site-packages (from packaging>=20.0->spacy<3.5.0,>=3.4.0->en-core-web-sm==3.4.0) (3.0.9)\n",
      "Requirement already satisfied: smart-open<6.0.0,>=5.2.1 in ./venv/lib/python3.8/site-packages (from pathy>=0.3.5->spacy<3.5.0,>=3.4.0->en-core-web-sm==3.4.0) (5.2.1)\n",
      "Requirement already satisfied: typing-extensions>=3.7.4.3 in ./venv/lib/python3.8/site-packages (from pydantic!=1.8,!=1.8.1,<1.10.0,>=1.7.4->spacy<3.5.0,>=3.4.0->en-core-web-sm==3.4.0) (4.3.0)\n",
      "Requirement already satisfied: idna<4,>=2.5 in ./venv/lib/python3.8/site-packages (from requests<3.0.0,>=2.13.0->spacy<3.5.0,>=3.4.0->en-core-web-sm==3.4.0) (3.3)\n",
      "Requirement already satisfied: certifi>=2017.4.17 in ./venv/lib/python3.8/site-packages (from requests<3.0.0,>=2.13.0->spacy<3.5.0,>=3.4.0->en-core-web-sm==3.4.0) (2022.6.15)\n",
      "Requirement already satisfied: charset-normalizer<3,>=2 in ./venv/lib/python3.8/site-packages (from requests<3.0.0,>=2.13.0->spacy<3.5.0,>=3.4.0->en-core-web-sm==3.4.0) (2.1.0)\n",
      "Requirement already satisfied: urllib3<1.27,>=1.21.1 in ./venv/lib/python3.8/site-packages (from requests<3.0.0,>=2.13.0->spacy<3.5.0,>=3.4.0->en-core-web-sm==3.4.0) (1.26.10)\n",
      "Requirement already satisfied: blis<0.8.0,>=0.7.8 in ./venv/lib/python3.8/site-packages (from thinc<8.2.0,>=8.1.0->spacy<3.5.0,>=3.4.0->en-core-web-sm==3.4.0) (0.7.8)\n",
      "Requirement already satisfied: click<9.0.0,>=7.1.1 in ./venv/lib/python3.8/site-packages (from typer<0.5.0,>=0.3.0->spacy<3.5.0,>=3.4.0->en-core-web-sm==3.4.0) (8.1.3)\n",
      "Requirement already satisfied: MarkupSafe>=2.0 in ./venv/lib/python3.8/site-packages (from jinja2->spacy<3.5.0,>=3.4.0->en-core-web-sm==3.4.0) (2.1.1)\n",
      "Installing collected packages: en-core-web-sm\n",
      "Successfully installed en-core-web-sm-3.4.0\n",
      "\u001b[38;5;2m✔ Download and installation successful\u001b[0m\n",
      "You can now load the package via spacy.load('en_core_web_sm')\n"
     ]
    }
   ],
   "source": [
    "# Setup spacy by downloading the small web model, which should be good for tweets\n",
    "!python -m spacy download en_core_web_sm"
   ]
  },
  {
   "cell_type": "code",
   "execution_count": 50,
   "id": "35008f43-66a2-4f20-9c86-1ece029c2cab",
   "metadata": {},
   "outputs": [],
   "source": [
    "# Process Text with Spacy\n",
    "import spacy\n",
    "\n",
    "nlp = spacy.load(\"en_core_web_sm\")\n",
    "docs = list(nlp.pipe(cleaned_data))"
   ]
  },
  {
   "cell_type": "markdown",
   "id": "dea5dbbe-8a4c-42cf-b1dd-0fdb75420588",
   "metadata": {},
   "source": [
    "### LDA\n",
    "\n",
    "Gensim provides library functions to perform LDA. \n",
    "\n",
    "We can replace some of the functions used in the tutorial with outputs from spacy. For example, we can use the lemma_ attribute of tokens and then take the lower of this."
   ]
  },
  {
   "cell_type": "code",
   "execution_count": 51,
   "id": "ddf9d21a-4a14-4fa0-b84d-1a684f954e0a",
   "metadata": {},
   "outputs": [],
   "source": [
    "# Lemmatise the docs and take the lowercase representation\n",
    "lower_lemmas = [[t.lemma_.lower() for t in doc] for doc in docs]"
   ]
  },
  {
   "cell_type": "code",
   "execution_count": 52,
   "id": "0afb04ff-a897-44dc-8c58-6f2a566358ad",
   "metadata": {},
   "outputs": [
    {
     "data": {
      "text/plain": [
       "['i',\n",
       " 'babysat',\n",
       " 'for',\n",
       " 'an',\n",
       " 'awful',\n",
       " 'family',\n",
       " 'with',\n",
       " 'two',\n",
       " 'kid',\n",
       " '.',\n",
       " 'the',\n",
       " 'kid',\n",
       " 'have',\n",
       " 'a',\n",
       " 'pet',\n",
       " 'rabbit',\n",
       " 'they',\n",
       " 'abuse',\n",
       " 'horribly',\n",
       " '.',\n",
       " 'one',\n",
       " 'day',\n",
       " 'i',\n",
       " 'volunteer',\n",
       " 'to',\n",
       " 'take',\n",
       " 'he',\n",
       " 'to',\n",
       " 'the',\n",
       " 'vet',\n",
       " ',',\n",
       " 'tell',\n",
       " 'the',\n",
       " 'vet',\n",
       " 'to',\n",
       " 'write',\n",
       " 'on',\n",
       " 'his',\n",
       " 'card',\n",
       " 'that',\n",
       " 'he',\n",
       " 'be',\n",
       " 'euthanize',\n",
       " 'and',\n",
       " 'dead',\n",
       " '..',\n",
       " 'i',\n",
       " 'take',\n",
       " 'the',\n",
       " 'bunny',\n",
       " 'home',\n",
       " '.',\n",
       " 'he',\n",
       " 'turn',\n",
       " '8',\n",
       " 'this',\n",
       " 'summer',\n",
       " '.']"
      ]
     },
     "execution_count": 52,
     "metadata": {},
     "output_type": "execute_result"
    }
   ],
   "source": [
    "lower_lemmas[10]"
   ]
  },
  {
   "cell_type": "code",
   "execution_count": 55,
   "id": "f3ee688d-84b6-4c4e-92c3-df25c76bab86",
   "metadata": {},
   "outputs": [
    {
     "name": "stdout",
     "output_type": "stream",
     "text": [
      "I True\n",
      "babysat False\n",
      "for True\n",
      "an True\n",
      "awful False\n",
      "family False\n",
      "with True\n",
      "two True\n",
      "kids False\n",
      ". False\n",
      "The True\n",
      "kids False\n",
      "had True\n",
      "a True\n",
      "pet False\n",
      "rabbit False\n",
      "they True\n",
      "abused False\n",
      "horribly False\n",
      ". False\n"
     ]
    }
   ],
   "source": [
    "# Spacy has an inbuilt stoplist that is available as a token attribute\n",
    "for t in docs[10][0:20]:\n",
    "    print(t, t.is_stop)"
   ]
  },
  {
   "cell_type": "code",
   "execution_count": 56,
   "id": "856e2636-29cf-41b6-be9d-2b7d1b4975f7",
   "metadata": {},
   "outputs": [],
   "source": [
    "# Let's also (as per old NLP) remove numbers, punctuation and single letter words.\n",
    "processed_text = [[t.lemma_.lower() for t in doc if not (t.is_stop or t.is_punct or t.is_digit)] for doc in docs]"
   ]
  },
  {
   "cell_type": "code",
   "execution_count": 57,
   "id": "e1c50bb1-4a9d-4013-8e8c-fbc93d46ea0e",
   "metadata": {},
   "outputs": [
    {
     "data": {
      "text/plain": [
       "['babysat',\n",
       " 'awful',\n",
       " 'family',\n",
       " 'kid',\n",
       " 'kid',\n",
       " 'pet',\n",
       " 'rabbit',\n",
       " 'abuse',\n",
       " 'horribly',\n",
       " 'day',\n",
       " 'volunteer',\n",
       " 'vet',\n",
       " 'tell',\n",
       " 'vet',\n",
       " 'write',\n",
       " 'card',\n",
       " 'euthanize',\n",
       " 'dead',\n",
       " 'take',\n",
       " 'bunny',\n",
       " 'home',\n",
       " 'turn',\n",
       " 'summer']"
      ]
     },
     "execution_count": 57,
     "metadata": {},
     "output_type": "execute_result"
    }
   ],
   "source": [
    "processed_text[10]"
   ]
  },
  {
   "cell_type": "code",
   "execution_count": 67,
   "id": "2141875d-d045-490c-aeaa-bf0f584cc912",
   "metadata": {},
   "outputs": [
    {
     "name": "stderr",
     "output_type": "stream",
     "text": [
      "2022-07-17 12:22:29,223 : INFO : collecting all words and their counts\n",
      "2022-07-17 12:22:29,224 : INFO : PROGRESS: at sentence #0, processed 0 words and 0 word types\n",
      "2022-07-17 12:22:29,268 : INFO : collected 50947 token types (unigram + bigrams) from a corpus of 51200 words and 2935 sentences\n",
      "2022-07-17 12:22:29,269 : INFO : merged Phrases<50947 vocab, min_count=20, threshold=10.0, max_vocab_size=40000000>\n",
      "2022-07-17 12:22:29,269 : INFO : Phrases lifecycle event {'msg': 'built Phrases<50947 vocab, min_count=20, threshold=10.0, max_vocab_size=40000000> in 0.05s', 'datetime': '2022-07-17T12:22:29.269866', 'gensim': '4.2.0', 'python': '3.8.5 (default, Sep  4 2020, 07:30:14) \\n[GCC 7.3.0]', 'platform': 'Linux-5.15.0-41-generic-x86_64-with-glibc2.10', 'event': 'created'}\n"
     ]
    }
   ],
   "source": [
    "# Configure Logging for Gensim\n",
    "import logging\n",
    "logging.basicConfig(format='%(asctime)s : %(levelname)s : %(message)s', level=logging.INFO)\n",
    "\n",
    "# Add n_grams to the doc tokens\n",
    "# Compute bigrams.\n",
    "from gensim.models import Phrases\n",
    "\n",
    "# Add bigrams and trigrams to docs (only ones that appear 20 times or more).\n",
    "bigram = Phrases(processed_text, min_count=20)\n",
    "for idx in range(len(processed_text)):\n",
    "    for token in bigram[processed_text[idx]]:\n",
    "        if '_' in token:\n",
    "            # Token is a bigram, add to document.\n",
    "            processed_text[idx].append(token)"
   ]
  },
  {
   "cell_type": "code",
   "execution_count": 69,
   "id": "b709c327-0844-4040-b2f6-9d42de81024a",
   "metadata": {},
   "outputs": [
    {
     "name": "stderr",
     "output_type": "stream",
     "text": [
      "2022-07-17 12:23:21,838 : INFO : adding document #0 to Dictionary<0 unique tokens: []>\n",
      "2022-07-17 12:23:21,895 : INFO : built Dictionary<7880 unique tokens: ['bottle', 'express', 'forgot', 'get', 'home']...> from 2935 documents (total 51698 corpus positions)\n",
      "2022-07-17 12:23:21,895 : INFO : Dictionary lifecycle event {'msg': \"built Dictionary<7880 unique tokens: ['bottle', 'express', 'forgot', 'get', 'home']...> from 2935 documents (total 51698 corpus positions)\", 'datetime': '2022-07-17T12:23:21.895933', 'gensim': '4.2.0', 'python': '3.8.5 (default, Sep  4 2020, 07:30:14) \\n[GCC 7.3.0]', 'platform': 'Linux-5.15.0-41-generic-x86_64-with-glibc2.10', 'event': 'created'}\n"
     ]
    }
   ],
   "source": [
    "from gensim.corpora import Dictionary\n",
    "\n",
    "# Create a dictionary representation of the documents.\n",
    "dictionary = Dictionary(processed_text)"
   ]
  },
  {
   "cell_type": "markdown",
   "id": "a5dd273a-d0b5-439a-84f2-a9ae4c613bbb",
   "metadata": {},
   "source": [
    "I omitted the token filtering as this reduced the dictionary to only 470 tokens. We can maybe try this as a variation.\n",
    "```\n",
    "# Filter out words that occur less than 20 documents, or more than 50% of the documents.\n",
    "dictionary.filter_extremes(no_below=20, no_above=0.5)\n",
    "print('Number of unique tokens: %d' % len(dictionary))\n",
    "```"
   ]
  },
  {
   "cell_type": "code",
   "execution_count": 70,
   "id": "a3418e85-9a10-4b4b-8eab-65ef6b388bd6",
   "metadata": {},
   "outputs": [],
   "source": [
    "# Bag-of-words representation of the documents.\n",
    "corpus = [dictionary.doc2bow(doc) for doc in processed_text]"
   ]
  },
  {
   "cell_type": "code",
   "execution_count": 71,
   "id": "a14b1266-17c9-48bc-b443-55976797f29a",
   "metadata": {},
   "outputs": [
    {
     "name": "stderr",
     "output_type": "stream",
     "text": [
      "2022-07-17 12:24:36,631 : INFO : using autotuned alpha, starting with [0.1, 0.1, 0.1, 0.1, 0.1, 0.1, 0.1, 0.1, 0.1, 0.1]\n",
      "2022-07-17 12:24:36,633 : INFO : using serial LDA version on this node\n",
      "2022-07-17 12:24:36,638 : INFO : running online (multi-pass) LDA training, 10 topics, 20 passes over the supplied corpus of 2935 documents, updating model once every 2935 documents, evaluating perplexity every 0 documents, iterating 400x with a convergence threshold of 0.001000\n",
      "2022-07-17 12:24:36,639 : INFO : PROGRESS: pass 0, at document #2935/2935\n",
      "2022-07-17 12:24:37,934 : INFO : optimized alpha [0.07004665, 0.07151671, 0.07835673, 0.07398079, 0.080541484, 0.07157614, 0.07575834, 0.07633582, 0.083537795, 0.07283665]\n",
      "2022-07-17 12:24:37,938 : INFO : topic #0 (0.070): 0.009*\"go\" + 0.009*\"like\" + 0.007*\"time\" + 0.006*\"try\" + 0.006*\"year\" + 0.006*\"year_old\" + 0.006*\"day\" + 0.005*\"wife\" + 0.005*\"buy\" + 0.005*\"tell\"\n",
      "2022-07-17 12:24:37,939 : INFO : topic #1 (0.072): 0.009*\"year\" + 0.008*\"day\" + 0.007*\"like\" + 0.007*\"leave\" + 0.006*\"work\" + 0.006*\"know\" + 0.006*\"buy\" + 0.005*\"think\" + 0.005*\"find\" + 0.005*\"people\"\n",
      "2022-07-17 12:24:37,940 : INFO : topic #2 (0.078): 0.018*\"year_ago\" + 0.012*\"year\" + 0.009*\"day\" + 0.009*\"work\" + 0.008*\"know\" + 0.007*\"find\" + 0.007*\"ago\" + 0.006*\"tell\" + 0.006*\"husband\" + 0.005*\"get\"\n",
      "2022-07-17 12:24:37,940 : INFO : topic #4 (0.081): 0.015*\"year_old\" + 0.012*\"think\" + 0.011*\"year\" + 0.009*\"wife\" + 0.008*\"work\" + 0.007*\"old\" + 0.007*\"get\" + 0.007*\"look\" + 0.007*\"take\" + 0.006*\"day\"\n",
      "2022-07-17 12:24:37,941 : INFO : topic #8 (0.084): 0.011*\"time\" + 0.011*\"year\" + 0.011*\"go\" + 0.009*\"amp\" + 0.009*\"tell\" + 0.009*\"like\" + 0.008*\"work\" + 0.007*\"buy\" + 0.007*\"think\" + 0.006*\"year_old\"\n",
      "2022-07-17 12:24:37,941 : INFO : topic diff=7.304484, rho=1.000000\n",
      "2022-07-17 12:24:37,946 : INFO : PROGRESS: pass 1, at document #2935/2935\n",
      "2022-07-17 12:24:38,449 : INFO : optimized alpha [0.06111791, 0.06281461, 0.07095556, 0.0655614, 0.07386751, 0.0628397, 0.067716844, 0.06880376, 0.07698126, 0.064429805]\n",
      "2022-07-17 12:24:38,454 : INFO : topic #0 (0.061): 0.010*\"go\" + 0.009*\"like\" + 0.007*\"time\" + 0.006*\"try\" + 0.006*\"day\" + 0.006*\"wife\" + 0.006*\"year\" + 0.005*\"year_old\" + 0.005*\"buy\" + 0.005*\"tell\"\n",
      "2022-07-17 12:24:38,455 : INFO : topic #5 (0.063): 0.010*\"year\" + 0.009*\"know\" + 0.008*\"wife\" + 0.007*\"think\" + 0.006*\"work\" + 0.005*\"amp\" + 0.005*\"go\" + 0.005*\"get\" + 0.004*\"day\" + 0.004*\"buy\"\n",
      "2022-07-17 12:24:38,456 : INFO : topic #2 (0.071): 0.020*\"year_ago\" + 0.012*\"year\" + 0.009*\"day\" + 0.008*\"work\" + 0.008*\"know\" + 0.007*\"ago\" + 0.007*\"find\" + 0.006*\"tell\" + 0.006*\"husband\" + 0.005*\"start\"\n",
      "2022-07-17 12:24:38,457 : INFO : topic #4 (0.074): 0.017*\"year_old\" + 0.012*\"think\" + 0.011*\"year\" + 0.009*\"wife\" + 0.008*\"work\" + 0.008*\"old\" + 0.007*\"get\" + 0.007*\"look\" + 0.007*\"take\" + 0.006*\"time\"\n",
      "2022-07-17 12:24:38,458 : INFO : topic #8 (0.077): 0.012*\"time\" + 0.011*\"year\" + 0.011*\"go\" + 0.010*\"amp\" + 0.009*\"tell\" + 0.009*\"like\" + 0.008*\"work\" + 0.007*\"think\" + 0.007*\"buy\" + 0.006*\"year_old\"\n",
      "2022-07-17 12:24:38,458 : INFO : topic diff=0.019635, rho=0.577350\n",
      "2022-07-17 12:24:38,463 : INFO : PROGRESS: pass 2, at document #2935/2935\n",
      "2022-07-17 12:24:38,929 : INFO : optimized alpha [0.055107363, 0.056902703, 0.06580331, 0.05976928, 0.069153845, 0.056896202, 0.06213093, 0.06356101, 0.07221837, 0.05866365]\n",
      "2022-07-17 12:24:38,934 : INFO : topic #0 (0.055): 0.010*\"go\" + 0.009*\"like\" + 0.008*\"time\" + 0.006*\"wife\" + 0.006*\"try\" + 0.006*\"day\" + 0.005*\"year\" + 0.005*\"buy\" + 0.005*\"spend\" + 0.005*\"tell\"\n",
      "2022-07-17 12:24:38,935 : INFO : topic #5 (0.057): 0.010*\"year\" + 0.008*\"know\" + 0.008*\"wife\" + 0.007*\"think\" + 0.006*\"work\" + 0.005*\"amp\" + 0.005*\"go\" + 0.005*\"get\" + 0.004*\"day\" + 0.004*\"make\"\n",
      "2022-07-17 12:24:38,935 : INFO : topic #2 (0.066): 0.023*\"year_ago\" + 0.013*\"year\" + 0.009*\"day\" + 0.008*\"work\" + 0.008*\"ago\" + 0.008*\"know\" + 0.007*\"find\" + 0.006*\"husband\" + 0.006*\"tell\" + 0.006*\"wife\"\n",
      "2022-07-17 12:24:38,936 : INFO : topic #4 (0.069): 0.019*\"year_old\" + 0.012*\"think\" + 0.012*\"year\" + 0.009*\"wife\" + 0.009*\"old\" + 0.008*\"work\" + 0.007*\"get\" + 0.007*\"look\" + 0.007*\"take\" + 0.006*\"time\"\n",
      "2022-07-17 12:24:38,937 : INFO : topic #8 (0.072): 0.012*\"time\" + 0.011*\"go\" + 0.011*\"year\" + 0.010*\"amp\" + 0.009*\"tell\" + 0.009*\"like\" + 0.008*\"work\" + 0.007*\"buy\" + 0.006*\"think\" + 0.006*\"look_like\"\n",
      "2022-07-17 12:24:38,937 : INFO : topic diff=0.019947, rho=0.500000\n",
      "2022-07-17 12:24:38,943 : INFO : PROGRESS: pass 3, at document #2935/2935\n",
      "2022-07-17 12:24:39,401 : INFO : optimized alpha [0.050653625, 0.052497376, 0.061889105, 0.05543357, 0.06555458, 0.052479755, 0.057939485, 0.059573233, 0.06846485, 0.054374177]\n",
      "2022-07-17 12:24:39,405 : INFO : topic #0 (0.051): 0.010*\"go\" + 0.009*\"like\" + 0.008*\"time\" + 0.006*\"wife\" + 0.006*\"try\" + 0.006*\"day\" + 0.005*\"year\" + 0.005*\"buy\" + 0.005*\"spend\" + 0.005*\"tell\"\n",
      "2022-07-17 12:24:39,406 : INFO : topic #5 (0.052): 0.010*\"year\" + 0.008*\"know\" + 0.008*\"wife\" + 0.007*\"think\" + 0.006*\"work\" + 0.005*\"amp\" + 0.005*\"go\" + 0.005*\"get\" + 0.004*\"day\" + 0.004*\"make\"\n",
      "2022-07-17 12:24:39,407 : INFO : topic #2 (0.062): 0.025*\"year_ago\" + 0.013*\"year\" + 0.009*\"day\" + 0.009*\"ago\" + 0.008*\"work\" + 0.008*\"know\" + 0.007*\"find\" + 0.006*\"husband\" + 0.006*\"tell\" + 0.006*\"start\"\n",
      "2022-07-17 12:24:39,407 : INFO : topic #4 (0.066): 0.020*\"year_old\" + 0.013*\"think\" + 0.012*\"year\" + 0.009*\"old\" + 0.009*\"wife\" + 0.009*\"work\" + 0.007*\"get\" + 0.007*\"look\" + 0.007*\"take\" + 0.006*\"time\"\n",
      "2022-07-17 12:24:39,408 : INFO : topic #8 (0.068): 0.012*\"time\" + 0.011*\"go\" + 0.010*\"year\" + 0.010*\"amp\" + 0.009*\"tell\" + 0.009*\"like\" + 0.008*\"work\" + 0.007*\"buy\" + 0.007*\"look_like\" + 0.006*\"think\"\n",
      "2022-07-17 12:24:39,408 : INFO : topic diff=0.019422, rho=0.447214\n",
      "2022-07-17 12:24:39,413 : INFO : PROGRESS: pass 4, at document #2935/2935\n",
      "2022-07-17 12:24:39,859 : INFO : optimized alpha [0.04718093, 0.049047627, 0.058779605, 0.052024413, 0.062603496, 0.049038403, 0.054625027, 0.056394555, 0.06538459, 0.051034745]\n",
      "2022-07-17 12:24:39,863 : INFO : topic #0 (0.047): 0.010*\"go\" + 0.009*\"like\" + 0.008*\"time\" + 0.006*\"wife\" + 0.006*\"day\" + 0.005*\"try\" + 0.005*\"buy\" + 0.005*\"year\" + 0.005*\"spend\" + 0.005*\"tell\"\n",
      "2022-07-17 12:24:39,864 : INFO : topic #1 (0.049): 0.009*\"year\" + 0.008*\"day\" + 0.008*\"like\" + 0.007*\"leave\" + 0.006*\"buy\" + 0.006*\"work\" + 0.006*\"know\" + 0.006*\"think\" + 0.005*\"people\" + 0.005*\"love\"\n",
      "2022-07-17 12:24:39,865 : INFO : topic #2 (0.059): 0.027*\"year_ago\" + 0.014*\"year\" + 0.010*\"ago\" + 0.009*\"day\" + 0.008*\"work\" + 0.008*\"know\" + 0.007*\"find\" + 0.006*\"husband\" + 0.006*\"tell\" + 0.006*\"start\"\n",
      "2022-07-17 12:24:39,865 : INFO : topic #4 (0.063): 0.021*\"year_old\" + 0.013*\"think\" + 0.012*\"year\" + 0.010*\"old\" + 0.009*\"wife\" + 0.009*\"work\" + 0.007*\"get\" + 0.007*\"take\" + 0.007*\"look\" + 0.006*\"time\"\n",
      "2022-07-17 12:24:39,866 : INFO : topic #8 (0.065): 0.012*\"time\" + 0.011*\"go\" + 0.010*\"year\" + 0.010*\"amp\" + 0.010*\"like\" + 0.009*\"tell\" + 0.008*\"work\" + 0.007*\"look_like\" + 0.006*\"think\" + 0.006*\"buy\"\n",
      "2022-07-17 12:24:39,867 : INFO : topic diff=0.018535, rho=0.408248\n",
      "2022-07-17 12:24:39,875 : INFO : PROGRESS: pass 5, at document #2935/2935\n",
      "2022-07-17 12:24:40,317 : INFO : optimized alpha [0.044356603, 0.046245165, 0.056248613, 0.049218707, 0.06018044, 0.046235684, 0.051883683, 0.05380977, 0.06279744, 0.048305638]\n",
      "2022-07-17 12:24:40,322 : INFO : topic #0 (0.044): 0.010*\"go\" + 0.009*\"like\" + 0.008*\"time\" + 0.006*\"wife\" + 0.005*\"day\" + 0.005*\"try\" + 0.005*\"buy\" + 0.005*\"spend\" + 0.005*\"tell\" + 0.005*\"year\"\n",
      "2022-07-17 12:24:40,323 : INFO : topic #5 (0.046): 0.009*\"year\" + 0.008*\"know\" + 0.008*\"wife\" + 0.007*\"think\" + 0.006*\"work\" + 0.005*\"amp\" + 0.005*\"go\" + 0.005*\"get\" + 0.004*\"make\" + 0.004*\"day\"\n",
      "2022-07-17 12:24:40,324 : INFO : topic #2 (0.056): 0.028*\"year_ago\" + 0.014*\"year\" + 0.010*\"ago\" + 0.009*\"day\" + 0.008*\"work\" + 0.008*\"know\" + 0.007*\"find\" + 0.006*\"husband\" + 0.006*\"tell\" + 0.006*\"start\"\n",
      "2022-07-17 12:24:40,324 : INFO : topic #4 (0.060): 0.022*\"year_old\" + 0.013*\"think\" + 0.012*\"year\" + 0.010*\"old\" + 0.009*\"wife\" + 0.009*\"work\" + 0.007*\"get\" + 0.007*\"take\" + 0.007*\"look\" + 0.006*\"time\"\n",
      "2022-07-17 12:24:40,325 : INFO : topic #8 (0.063): 0.012*\"time\" + 0.011*\"go\" + 0.010*\"amp\" + 0.010*\"year\" + 0.010*\"like\" + 0.009*\"tell\" + 0.008*\"work\" + 0.007*\"look_like\" + 0.007*\"think\" + 0.006*\"buy\"\n",
      "2022-07-17 12:24:40,326 : INFO : topic diff=0.017803, rho=0.377964\n",
      "2022-07-17 12:24:40,334 : INFO : PROGRESS: pass 6, at document #2935/2935\n",
      "2022-07-17 12:24:40,786 : INFO : optimized alpha [0.0420015, 0.043906488, 0.0540972, 0.046875525, 0.058125112, 0.04390298, 0.04956036, 0.051650666, 0.060573198, 0.046010803]\n",
      "2022-07-17 12:24:40,791 : INFO : topic #0 (0.042): 0.010*\"go\" + 0.009*\"like\" + 0.008*\"time\" + 0.006*\"wife\" + 0.005*\"day\" + 0.005*\"try\" + 0.005*\"buy\" + 0.005*\"spend\" + 0.005*\"tell\" + 0.004*\"dog\"\n",
      "2022-07-17 12:24:40,791 : INFO : topic #1 (0.044): 0.008*\"year\" + 0.008*\"day\" + 0.008*\"like\" + 0.007*\"leave\" + 0.006*\"buy\" + 0.006*\"work\" + 0.006*\"know\" + 0.006*\"think\" + 0.005*\"people\" + 0.005*\"love\"\n",
      "2022-07-17 12:24:40,792 : INFO : topic #2 (0.054): 0.030*\"year_ago\" + 0.014*\"year\" + 0.011*\"ago\" + 0.009*\"day\" + 0.008*\"work\" + 0.008*\"know\" + 0.007*\"find\" + 0.006*\"husband\" + 0.006*\"start\" + 0.006*\"tell\"\n",
      "2022-07-17 12:24:40,793 : INFO : topic #4 (0.058): 0.023*\"year_old\" + 0.013*\"think\" + 0.012*\"year\" + 0.011*\"old\" + 0.009*\"wife\" + 0.009*\"work\" + 0.007*\"get\" + 0.007*\"take\" + 0.007*\"look\" + 0.006*\"time\"\n",
      "2022-07-17 12:24:40,793 : INFO : topic #8 (0.061): 0.012*\"time\" + 0.011*\"go\" + 0.010*\"amp\" + 0.010*\"year\" + 0.010*\"like\" + 0.009*\"tell\" + 0.008*\"work\" + 0.007*\"look_like\" + 0.006*\"buy\" + 0.006*\"think\"\n",
      "2022-07-17 12:24:40,794 : INFO : topic diff=0.016405, rho=0.353553\n",
      "2022-07-17 12:24:40,798 : INFO : PROGRESS: pass 7, at document #2935/2935\n",
      "2022-07-17 12:24:41,242 : INFO : optimized alpha [0.03999629, 0.041914403, 0.052243117, 0.044873696, 0.056324523, 0.041905113, 0.047554635, 0.04982805, 0.05863099, 0.044048786]\n",
      "2022-07-17 12:24:41,246 : INFO : topic #0 (0.040): 0.010*\"go\" + 0.009*\"like\" + 0.008*\"time\" + 0.006*\"wife\" + 0.005*\"day\" + 0.005*\"try\" + 0.005*\"buy\" + 0.005*\"spend\" + 0.005*\"tell\" + 0.004*\"dog\"\n",
      "2022-07-17 12:24:41,247 : INFO : topic #1 (0.042): 0.008*\"year\" + 0.008*\"day\" + 0.008*\"like\" + 0.007*\"leave\" + 0.006*\"buy\" + 0.006*\"work\" + 0.006*\"know\" + 0.006*\"think\" + 0.005*\"people\" + 0.005*\"love\"\n",
      "2022-07-17 12:24:41,248 : INFO : topic #2 (0.052): 0.031*\"year_ago\" + 0.015*\"year\" + 0.011*\"ago\" + 0.009*\"day\" + 0.008*\"work\" + 0.008*\"know\" + 0.007*\"find\" + 0.006*\"husband\" + 0.006*\"start\" + 0.006*\"tell\"\n",
      "2022-07-17 12:24:41,248 : INFO : topic #4 (0.056): 0.024*\"year_old\" + 0.013*\"think\" + 0.012*\"year\" + 0.011*\"old\" + 0.009*\"wife\" + 0.009*\"work\" + 0.007*\"get\" + 0.007*\"take\" + 0.007*\"look\" + 0.006*\"time\"\n",
      "2022-07-17 12:24:41,249 : INFO : topic #8 (0.059): 0.012*\"time\" + 0.011*\"go\" + 0.010*\"amp\" + 0.010*\"like\" + 0.010*\"year\" + 0.009*\"tell\" + 0.008*\"work\" + 0.008*\"look_like\" + 0.006*\"buy\" + 0.006*\"think\"\n",
      "2022-07-17 12:24:41,249 : INFO : topic diff=0.014943, rho=0.333333\n",
      "2022-07-17 12:24:41,257 : INFO : PROGRESS: pass 8, at document #2935/2935\n",
      "2022-07-17 12:24:41,690 : INFO : optimized alpha [0.03826052, 0.040185243, 0.050617557, 0.043146245, 0.054740794, 0.04017129, 0.04580817, 0.048226632, 0.05690732, 0.04234441]\n",
      "2022-07-17 12:24:41,699 : INFO : topic #0 (0.038): 0.010*\"go\" + 0.009*\"like\" + 0.008*\"time\" + 0.006*\"wife\" + 0.005*\"day\" + 0.005*\"try\" + 0.005*\"buy\" + 0.005*\"spend\" + 0.005*\"tell\" + 0.004*\"dog\"\n",
      "2022-07-17 12:24:41,699 : INFO : topic #1 (0.040): 0.008*\"year\" + 0.008*\"like\" + 0.008*\"day\" + 0.007*\"leave\" + 0.006*\"buy\" + 0.006*\"work\" + 0.006*\"know\" + 0.006*\"think\" + 0.005*\"people\" + 0.005*\"love\"\n",
      "2022-07-17 12:24:41,700 : INFO : topic #2 (0.051): 0.033*\"year_ago\" + 0.015*\"year\" + 0.012*\"ago\" + 0.009*\"day\" + 0.008*\"work\" + 0.008*\"know\" + 0.007*\"find\" + 0.006*\"husband\" + 0.006*\"start\" + 0.006*\"tell\"\n",
      "2022-07-17 12:24:41,701 : INFO : topic #4 (0.055): 0.024*\"year_old\" + 0.013*\"think\" + 0.013*\"year\" + 0.011*\"old\" + 0.009*\"wife\" + 0.009*\"work\" + 0.007*\"get\" + 0.007*\"take\" + 0.007*\"look\" + 0.006*\"time\"\n",
      "2022-07-17 12:24:41,702 : INFO : topic #8 (0.057): 0.012*\"time\" + 0.011*\"go\" + 0.010*\"amp\" + 0.010*\"like\" + 0.010*\"year\" + 0.010*\"tell\" + 0.009*\"work\" + 0.008*\"look_like\" + 0.006*\"buy\" + 0.006*\"think\"\n",
      "2022-07-17 12:24:41,702 : INFO : topic diff=0.013087, rho=0.316228\n",
      "2022-07-17 12:24:41,707 : INFO : PROGRESS: pass 9, at document #2935/2935\n",
      "2022-07-17 12:24:42,133 : INFO : optimized alpha [0.036737885, 0.038664855, 0.04917664, 0.041617792, 0.05331551, 0.038646996, 0.04426415, 0.04681417, 0.055394273, 0.04084094]\n",
      "2022-07-17 12:24:42,141 : INFO : topic #0 (0.037): 0.010*\"go\" + 0.009*\"like\" + 0.008*\"time\" + 0.007*\"wife\" + 0.005*\"day\" + 0.005*\"try\" + 0.005*\"buy\" + 0.005*\"spend\" + 0.005*\"tell\" + 0.004*\"dog\"\n",
      "2022-07-17 12:24:42,142 : INFO : topic #1 (0.039): 0.008*\"year\" + 0.008*\"like\" + 0.008*\"day\" + 0.007*\"leave\" + 0.006*\"buy\" + 0.006*\"work\" + 0.006*\"know\" + 0.006*\"think\" + 0.005*\"people\" + 0.005*\"love\"\n",
      "2022-07-17 12:24:42,142 : INFO : topic #2 (0.049): 0.033*\"year_ago\" + 0.015*\"year\" + 0.012*\"ago\" + 0.009*\"day\" + 0.008*\"work\" + 0.008*\"know\" + 0.007*\"find\" + 0.006*\"husband\" + 0.006*\"start\" + 0.006*\"tell\"\n",
      "2022-07-17 12:24:42,143 : INFO : topic #4 (0.053): 0.025*\"year_old\" + 0.013*\"think\" + 0.013*\"year\" + 0.011*\"old\" + 0.009*\"wife\" + 0.009*\"work\" + 0.007*\"get\" + 0.007*\"take\" + 0.007*\"look\" + 0.006*\"time\"\n",
      "2022-07-17 12:24:42,143 : INFO : topic #8 (0.055): 0.012*\"time\" + 0.011*\"go\" + 0.011*\"amp\" + 0.010*\"like\" + 0.010*\"tell\" + 0.009*\"year\" + 0.009*\"work\" + 0.008*\"look_like\" + 0.006*\"buy\" + 0.006*\"think\"\n",
      "2022-07-17 12:24:42,144 : INFO : topic diff=0.011591, rho=0.301511\n",
      "2022-07-17 12:24:42,148 : INFO : PROGRESS: pass 10, at document #2935/2935\n",
      "2022-07-17 12:24:42,572 : INFO : optimized alpha [0.03540277, 0.037317805, 0.04788832, 0.040260594, 0.05205625, 0.0372849, 0.042890053, 0.045547154, 0.05403776, 0.039501037]\n",
      "2022-07-17 12:24:42,576 : INFO : topic #0 (0.035): 0.010*\"go\" + 0.009*\"like\" + 0.008*\"time\" + 0.007*\"wife\" + 0.005*\"day\" + 0.005*\"try\" + 0.005*\"buy\" + 0.005*\"spend\" + 0.005*\"tell\" + 0.005*\"dog\"\n",
      "2022-07-17 12:24:42,577 : INFO : topic #5 (0.037): 0.009*\"year\" + 0.008*\"know\" + 0.008*\"wife\" + 0.007*\"think\" + 0.006*\"work\" + 0.005*\"amp\" + 0.005*\"go\" + 0.005*\"get\" + 0.004*\"make\" + 0.004*\"day\"\n",
      "2022-07-17 12:24:42,577 : INFO : topic #2 (0.048): 0.034*\"year_ago\" + 0.015*\"year\" + 0.013*\"ago\" + 0.009*\"day\" + 0.008*\"work\" + 0.008*\"know\" + 0.007*\"find\" + 0.006*\"husband\" + 0.006*\"start\" + 0.006*\"tell\"\n",
      "2022-07-17 12:24:42,578 : INFO : topic #4 (0.052): 0.025*\"year_old\" + 0.013*\"year\" + 0.013*\"think\" + 0.012*\"old\" + 0.009*\"wife\" + 0.009*\"work\" + 0.007*\"get\" + 0.007*\"take\" + 0.006*\"look\" + 0.006*\"time\"\n",
      "2022-07-17 12:24:42,578 : INFO : topic #8 (0.054): 0.012*\"time\" + 0.011*\"go\" + 0.011*\"amp\" + 0.010*\"like\" + 0.010*\"tell\" + 0.009*\"year\" + 0.009*\"work\" + 0.008*\"look_like\" + 0.006*\"think\" + 0.006*\"buy\"\n",
      "2022-07-17 12:24:42,579 : INFO : topic diff=0.010258, rho=0.288675\n",
      "2022-07-17 12:24:42,583 : INFO : PROGRESS: pass 11, at document #2935/2935\n",
      "2022-07-17 12:24:43,006 : INFO : optimized alpha [0.03420342, 0.036113348, 0.04672202, 0.039036285, 0.050913878, 0.03606399, 0.04165207, 0.0444156, 0.052806366, 0.038292266]\n",
      "2022-07-17 12:24:43,011 : INFO : topic #0 (0.034): 0.010*\"go\" + 0.009*\"like\" + 0.008*\"time\" + 0.007*\"wife\" + 0.005*\"try\" + 0.005*\"day\" + 0.005*\"buy\" + 0.005*\"spend\" + 0.005*\"tell\" + 0.005*\"dog\"\n",
      "2022-07-17 12:24:43,011 : INFO : topic #5 (0.036): 0.009*\"year\" + 0.008*\"know\" + 0.008*\"wife\" + 0.007*\"think\" + 0.006*\"work\" + 0.005*\"amp\" + 0.005*\"go\" + 0.005*\"get\" + 0.004*\"make\" + 0.004*\"day\"\n",
      "2022-07-17 12:24:43,012 : INFO : topic #2 (0.047): 0.035*\"year_ago\" + 0.015*\"year\" + 0.013*\"ago\" + 0.009*\"day\" + 0.008*\"work\" + 0.008*\"know\" + 0.007*\"find\" + 0.006*\"husband\" + 0.006*\"start\" + 0.006*\"tell\"\n",
      "2022-07-17 12:24:43,012 : INFO : topic #4 (0.051): 0.026*\"year_old\" + 0.013*\"year\" + 0.013*\"think\" + 0.012*\"old\" + 0.009*\"wife\" + 0.008*\"work\" + 0.007*\"get\" + 0.007*\"take\" + 0.006*\"look\" + 0.006*\"time\"\n",
      "2022-07-17 12:24:43,013 : INFO : topic #8 (0.053): 0.012*\"time\" + 0.011*\"go\" + 0.011*\"amp\" + 0.010*\"like\" + 0.010*\"tell\" + 0.009*\"year\" + 0.009*\"work\" + 0.009*\"look_like\" + 0.006*\"think\" + 0.006*\"buy\"\n",
      "2022-07-17 12:24:43,013 : INFO : topic diff=0.009109, rho=0.277350\n",
      "2022-07-17 12:24:43,021 : INFO : PROGRESS: pass 12, at document #2935/2935\n",
      "2022-07-17 12:24:43,439 : INFO : optimized alpha [0.033120908, 0.03502791, 0.045659155, 0.037920043, 0.049867347, 0.03496446, 0.04052858, 0.043380648, 0.051681407, 0.037204497]\n",
      "2022-07-17 12:24:43,443 : INFO : topic #0 (0.033): 0.010*\"go\" + 0.009*\"like\" + 0.008*\"time\" + 0.007*\"wife\" + 0.005*\"try\" + 0.005*\"day\" + 0.005*\"buy\" + 0.005*\"spend\" + 0.005*\"tell\" + 0.005*\"dog\"\n",
      "2022-07-17 12:24:43,444 : INFO : topic #5 (0.035): 0.009*\"year\" + 0.008*\"know\" + 0.008*\"wife\" + 0.007*\"think\" + 0.006*\"work\" + 0.005*\"amp\" + 0.005*\"go\" + 0.005*\"get\" + 0.004*\"make\" + 0.004*\"day\"\n",
      "2022-07-17 12:24:43,444 : INFO : topic #2 (0.046): 0.035*\"year_ago\" + 0.016*\"year\" + 0.013*\"ago\" + 0.009*\"day\" + 0.008*\"work\" + 0.008*\"know\" + 0.007*\"find\" + 0.006*\"husband\" + 0.006*\"start\" + 0.006*\"tell\"\n",
      "2022-07-17 12:24:43,445 : INFO : topic #4 (0.050): 0.026*\"year_old\" + 0.013*\"year\" + 0.013*\"think\" + 0.012*\"old\" + 0.009*\"wife\" + 0.008*\"work\" + 0.007*\"get\" + 0.007*\"take\" + 0.006*\"time\" + 0.006*\"look\"\n",
      "2022-07-17 12:24:43,446 : INFO : topic #8 (0.052): 0.012*\"time\" + 0.011*\"go\" + 0.011*\"amp\" + 0.010*\"like\" + 0.010*\"tell\" + 0.009*\"year\" + 0.009*\"look_like\" + 0.009*\"work\" + 0.006*\"think\" + 0.006*\"buy\"\n",
      "2022-07-17 12:24:43,446 : INFO : topic diff=0.008023, rho=0.267261\n",
      "2022-07-17 12:24:43,453 : INFO : PROGRESS: pass 13, at document #2935/2935\n",
      "2022-07-17 12:24:43,879 : INFO : optimized alpha [0.032137036, 0.03404313, 0.04468498, 0.036899384, 0.04890339, 0.033964425, 0.039502606, 0.04243281, 0.05064799, 0.036216]\n",
      "2022-07-17 12:24:43,883 : INFO : topic #0 (0.032): 0.010*\"go\" + 0.009*\"like\" + 0.008*\"time\" + 0.007*\"wife\" + 0.005*\"try\" + 0.005*\"day\" + 0.005*\"buy\" + 0.005*\"spend\" + 0.005*\"tell\" + 0.005*\"dog\"\n",
      "2022-07-17 12:24:43,883 : INFO : topic #5 (0.034): 0.009*\"year\" + 0.008*\"know\" + 0.008*\"wife\" + 0.007*\"think\" + 0.006*\"work\" + 0.005*\"amp\" + 0.005*\"go\" + 0.005*\"get\" + 0.004*\"make\" + 0.004*\"day\"\n",
      "2022-07-17 12:24:43,884 : INFO : topic #2 (0.045): 0.036*\"year_ago\" + 0.016*\"year\" + 0.013*\"ago\" + 0.009*\"day\" + 0.008*\"work\" + 0.008*\"know\" + 0.007*\"find\" + 0.006*\"husband\" + 0.006*\"start\" + 0.006*\"tell\"\n",
      "2022-07-17 12:24:43,885 : INFO : topic #4 (0.049): 0.026*\"year_old\" + 0.013*\"year\" + 0.013*\"think\" + 0.012*\"old\" + 0.009*\"wife\" + 0.008*\"work\" + 0.007*\"get\" + 0.007*\"take\" + 0.006*\"time\" + 0.006*\"look\"\n",
      "2022-07-17 12:24:43,885 : INFO : topic #8 (0.051): 0.012*\"time\" + 0.011*\"go\" + 0.011*\"amp\" + 0.010*\"like\" + 0.010*\"tell\" + 0.009*\"look_like\" + 0.009*\"year\" + 0.009*\"work\" + 0.006*\"think\" + 0.006*\"buy\"\n",
      "2022-07-17 12:24:43,886 : INFO : topic diff=0.007145, rho=0.258199\n",
      "2022-07-17 12:24:43,893 : INFO : PROGRESS: pass 14, at document #2935/2935\n",
      "2022-07-17 12:24:44,320 : INFO : optimized alpha [0.031240694, 0.03313849, 0.04380042, 0.035964463, 0.047998875, 0.03304965, 0.03856412, 0.041556768, 0.04970844, 0.03531599]\n",
      "2022-07-17 12:24:44,324 : INFO : topic #0 (0.031): 0.010*\"go\" + 0.009*\"like\" + 0.008*\"time\" + 0.007*\"wife\" + 0.005*\"try\" + 0.005*\"day\" + 0.005*\"buy\" + 0.005*\"spend\" + 0.005*\"tell\" + 0.005*\"dog\"\n",
      "2022-07-17 12:24:44,325 : INFO : topic #5 (0.033): 0.009*\"year\" + 0.008*\"know\" + 0.008*\"wife\" + 0.007*\"think\" + 0.006*\"work\" + 0.005*\"amp\" + 0.005*\"go\" + 0.004*\"get\" + 0.004*\"make\" + 0.004*\"day\"\n",
      "2022-07-17 12:24:44,326 : INFO : topic #2 (0.044): 0.036*\"year_ago\" + 0.016*\"year\" + 0.013*\"ago\" + 0.009*\"day\" + 0.008*\"work\" + 0.008*\"know\" + 0.007*\"find\" + 0.006*\"husband\" + 0.006*\"start\" + 0.006*\"tell\"\n",
      "2022-07-17 12:24:44,326 : INFO : topic #4 (0.048): 0.027*\"year_old\" + 0.013*\"year\" + 0.013*\"think\" + 0.012*\"old\" + 0.009*\"wife\" + 0.008*\"work\" + 0.007*\"get\" + 0.007*\"take\" + 0.006*\"time\" + 0.006*\"look\"\n",
      "2022-07-17 12:24:44,327 : INFO : topic #8 (0.050): 0.011*\"time\" + 0.011*\"go\" + 0.011*\"amp\" + 0.010*\"like\" + 0.010*\"tell\" + 0.009*\"look_like\" + 0.009*\"work\" + 0.009*\"year\" + 0.007*\"think\" + 0.006*\"buy\"\n",
      "2022-07-17 12:24:44,327 : INFO : topic diff=0.006501, rho=0.250000\n",
      "2022-07-17 12:24:44,332 : INFO : PROGRESS: pass 15, at document #2935/2935\n",
      "2022-07-17 12:24:44,759 : INFO : optimized alpha [0.030414058, 0.032308817, 0.042977948, 0.03510041, 0.04716756, 0.032208472, 0.03769801, 0.040743373, 0.04883303, 0.034489296]\n",
      "2022-07-17 12:24:44,767 : INFO : topic #0 (0.030): 0.010*\"go\" + 0.009*\"like\" + 0.008*\"time\" + 0.007*\"wife\" + 0.005*\"try\" + 0.005*\"day\" + 0.005*\"buy\" + 0.005*\"spend\" + 0.005*\"tell\" + 0.005*\"dog\"\n",
      "2022-07-17 12:24:44,768 : INFO : topic #5 (0.032): 0.009*\"year\" + 0.008*\"know\" + 0.008*\"wife\" + 0.007*\"think\" + 0.006*\"work\" + 0.005*\"amp\" + 0.005*\"go\" + 0.004*\"get\" + 0.004*\"make\" + 0.004*\"day\"\n",
      "2022-07-17 12:24:44,769 : INFO : topic #2 (0.043): 0.037*\"year_ago\" + 0.016*\"year\" + 0.014*\"ago\" + 0.009*\"day\" + 0.008*\"work\" + 0.008*\"know\" + 0.007*\"find\" + 0.006*\"husband\" + 0.006*\"start\" + 0.006*\"tell\"\n",
      "2022-07-17 12:24:44,769 : INFO : topic #4 (0.047): 0.027*\"year_old\" + 0.013*\"year\" + 0.012*\"think\" + 0.012*\"old\" + 0.009*\"wife\" + 0.008*\"work\" + 0.007*\"get\" + 0.007*\"take\" + 0.006*\"time\" + 0.006*\"look\"\n",
      "2022-07-17 12:24:44,769 : INFO : topic #8 (0.049): 0.011*\"time\" + 0.011*\"go\" + 0.011*\"amp\" + 0.011*\"like\" + 0.010*\"tell\" + 0.009*\"look_like\" + 0.009*\"work\" + 0.009*\"year\" + 0.007*\"think\" + 0.006*\"buy\"\n",
      "2022-07-17 12:24:44,770 : INFO : topic diff=0.006099, rho=0.242536\n",
      "2022-07-17 12:24:44,774 : INFO : PROGRESS: pass 16, at document #2935/2935\n",
      "2022-07-17 12:24:45,196 : INFO : optimized alpha [0.029650914, 0.031544514, 0.04221028, 0.034301303, 0.04638873, 0.031431325, 0.036895305, 0.039988432, 0.04801402, 0.03372346]\n",
      "2022-07-17 12:24:45,200 : INFO : topic #0 (0.030): 0.010*\"go\" + 0.009*\"like\" + 0.008*\"time\" + 0.007*\"wife\" + 0.005*\"try\" + 0.005*\"buy\" + 0.005*\"day\" + 0.005*\"spend\" + 0.005*\"tell\" + 0.005*\"dog\"\n",
      "2022-07-17 12:24:45,201 : INFO : topic #5 (0.031): 0.009*\"year\" + 0.008*\"know\" + 0.008*\"wife\" + 0.007*\"think\" + 0.006*\"work\" + 0.005*\"amp\" + 0.005*\"go\" + 0.004*\"get\" + 0.004*\"make\" + 0.004*\"day\"\n",
      "2022-07-17 12:24:45,201 : INFO : topic #2 (0.042): 0.037*\"year_ago\" + 0.016*\"year\" + 0.014*\"ago\" + 0.009*\"day\" + 0.008*\"work\" + 0.008*\"know\" + 0.007*\"find\" + 0.006*\"husband\" + 0.006*\"start\" + 0.006*\"tell\"\n",
      "2022-07-17 12:24:45,202 : INFO : topic #4 (0.046): 0.027*\"year_old\" + 0.013*\"year\" + 0.012*\"think\" + 0.012*\"old\" + 0.009*\"wife\" + 0.008*\"work\" + 0.007*\"get\" + 0.007*\"take\" + 0.006*\"time\" + 0.006*\"look\"\n",
      "2022-07-17 12:24:45,202 : INFO : topic #8 (0.048): 0.011*\"time\" + 0.011*\"go\" + 0.011*\"amp\" + 0.011*\"like\" + 0.010*\"look_like\" + 0.010*\"tell\" + 0.009*\"work\" + 0.009*\"year\" + 0.007*\"think\" + 0.006*\"buy\"\n",
      "2022-07-17 12:24:45,202 : INFO : topic diff=0.005434, rho=0.235702\n",
      "2022-07-17 12:24:45,207 : INFO : PROGRESS: pass 17, at document #2935/2935\n",
      "2022-07-17 12:24:45,624 : INFO : optimized alpha [0.028943509, 0.030835114, 0.041494947, 0.033562154, 0.045656946, 0.030710448, 0.03614857, 0.039285637, 0.047253497, 0.033011362]\n",
      "2022-07-17 12:24:45,632 : INFO : topic #0 (0.029): 0.010*\"go\" + 0.009*\"like\" + 0.008*\"time\" + 0.007*\"wife\" + 0.005*\"try\" + 0.005*\"buy\" + 0.005*\"day\" + 0.005*\"spend\" + 0.005*\"tell\" + 0.005*\"dog\"\n",
      "2022-07-17 12:24:45,632 : INFO : topic #5 (0.031): 0.009*\"year\" + 0.008*\"know\" + 0.008*\"wife\" + 0.007*\"think\" + 0.006*\"work\" + 0.005*\"amp\" + 0.005*\"go\" + 0.004*\"get\" + 0.004*\"make\" + 0.004*\"day\"\n",
      "2022-07-17 12:24:45,633 : INFO : topic #2 (0.041): 0.037*\"year_ago\" + 0.016*\"year\" + 0.014*\"ago\" + 0.009*\"day\" + 0.008*\"work\" + 0.008*\"know\" + 0.007*\"find\" + 0.006*\"husband\" + 0.006*\"tell\" + 0.006*\"start\"\n",
      "2022-07-17 12:24:45,634 : INFO : topic #4 (0.046): 0.027*\"year_old\" + 0.013*\"year\" + 0.012*\"old\" + 0.012*\"think\" + 0.009*\"wife\" + 0.008*\"work\" + 0.007*\"get\" + 0.007*\"take\" + 0.006*\"time\" + 0.006*\"look\"\n",
      "2022-07-17 12:24:45,635 : INFO : topic #8 (0.047): 0.011*\"time\" + 0.011*\"go\" + 0.011*\"amp\" + 0.011*\"like\" + 0.010*\"look_like\" + 0.010*\"tell\" + 0.009*\"work\" + 0.009*\"year\" + 0.007*\"think\" + 0.006*\"buy\"\n",
      "2022-07-17 12:24:45,636 : INFO : topic diff=0.004933, rho=0.229416\n",
      "2022-07-17 12:24:45,644 : INFO : PROGRESS: pass 18, at document #2935/2935\n",
      "2022-07-17 12:24:46,077 : INFO : optimized alpha [0.028285362, 0.030174237, 0.040826328, 0.032873254, 0.04496378, 0.030039355, 0.035454247, 0.038632356, 0.046541225, 0.03234687]\n",
      "2022-07-17 12:24:46,081 : INFO : topic #0 (0.028): 0.010*\"go\" + 0.009*\"like\" + 0.008*\"time\" + 0.007*\"wife\" + 0.005*\"try\" + 0.005*\"buy\" + 0.005*\"spend\" + 0.005*\"day\" + 0.005*\"tell\" + 0.005*\"dog\"\n",
      "2022-07-17 12:24:46,082 : INFO : topic #5 (0.030): 0.009*\"year\" + 0.008*\"know\" + 0.008*\"wife\" + 0.007*\"think\" + 0.006*\"work\" + 0.005*\"amp\" + 0.005*\"go\" + 0.004*\"get\" + 0.004*\"make\" + 0.004*\"day\"\n",
      "2022-07-17 12:24:46,082 : INFO : topic #2 (0.041): 0.038*\"year_ago\" + 0.016*\"year\" + 0.014*\"ago\" + 0.009*\"day\" + 0.008*\"work\" + 0.008*\"know\" + 0.007*\"find\" + 0.006*\"husband\" + 0.006*\"tell\" + 0.006*\"start\"\n",
      "2022-07-17 12:24:46,083 : INFO : topic #4 (0.045): 0.027*\"year_old\" + 0.013*\"year\" + 0.013*\"old\" + 0.012*\"think\" + 0.009*\"wife\" + 0.008*\"work\" + 0.007*\"get\" + 0.007*\"take\" + 0.006*\"time\" + 0.006*\"look\"\n",
      "2022-07-17 12:24:46,083 : INFO : topic #8 (0.047): 0.011*\"time\" + 0.011*\"go\" + 0.011*\"like\" + 0.011*\"amp\" + 0.010*\"look_like\" + 0.010*\"tell\" + 0.009*\"work\" + 0.009*\"year\" + 0.007*\"think\" + 0.006*\"buy\"\n",
      "2022-07-17 12:24:46,084 : INFO : topic diff=0.004475, rho=0.223607\n",
      "2022-07-17 12:24:46,088 : INFO : PROGRESS: pass 19, at document #2935/2935\n",
      "2022-07-17 12:24:46,509 : INFO : optimized alpha [0.027675437, 0.029556582, 0.040199574, 0.032229234, 0.044316433, 0.0294102, 0.034804024, 0.038020518, 0.04587658, 0.03172493]\n",
      "2022-07-17 12:24:46,514 : INFO : topic #0 (0.028): 0.010*\"go\" + 0.009*\"like\" + 0.008*\"time\" + 0.007*\"wife\" + 0.005*\"try\" + 0.005*\"buy\" + 0.005*\"spend\" + 0.005*\"tell\" + 0.005*\"day\" + 0.005*\"dog\"\n",
      "2022-07-17 12:24:46,514 : INFO : topic #5 (0.029): 0.009*\"year\" + 0.008*\"know\" + 0.008*\"wife\" + 0.007*\"think\" + 0.006*\"work\" + 0.005*\"amp\" + 0.005*\"go\" + 0.004*\"get\" + 0.004*\"make\" + 0.004*\"day\"\n",
      "2022-07-17 12:24:46,515 : INFO : topic #2 (0.040): 0.038*\"year_ago\" + 0.016*\"year\" + 0.014*\"ago\" + 0.009*\"day\" + 0.008*\"work\" + 0.008*\"know\" + 0.007*\"find\" + 0.006*\"husband\" + 0.006*\"tell\" + 0.006*\"start\"\n",
      "2022-07-17 12:24:46,516 : INFO : topic #4 (0.044): 0.028*\"year_old\" + 0.013*\"year\" + 0.013*\"old\" + 0.012*\"think\" + 0.009*\"wife\" + 0.008*\"work\" + 0.007*\"get\" + 0.007*\"take\" + 0.006*\"time\" + 0.006*\"look\"\n",
      "2022-07-17 12:24:46,516 : INFO : topic #8 (0.046): 0.011*\"time\" + 0.011*\"go\" + 0.011*\"like\" + 0.011*\"amp\" + 0.010*\"look_like\" + 0.010*\"tell\" + 0.009*\"work\" + 0.008*\"year\" + 0.007*\"think\" + 0.006*\"buy\"\n",
      "2022-07-17 12:24:46,517 : INFO : topic diff=0.004175, rho=0.218218\n",
      "2022-07-17 12:24:46,521 : INFO : LdaModel lifecycle event {'msg': 'trained LdaModel<num_terms=7880, num_topics=10, decay=0.5, chunksize=4000> in 9.88s', 'datetime': '2022-07-17T12:24:46.521574', 'gensim': '4.2.0', 'python': '3.8.5 (default, Sep  4 2020, 07:30:14) \\n[GCC 7.3.0]', 'platform': 'Linux-5.15.0-41-generic-x86_64-with-glibc2.10', 'event': 'created'}\n"
     ]
    }
   ],
   "source": [
    "# Train LDA model.\n",
    "from gensim.models import LdaModel\n",
    "\n",
    "# Set training parameters.\n",
    "num_topics = 10\n",
    "# Changed this to 4000 to cover all the docs as they are short and fit in memory\n",
    "chunksize = 4000\n",
    "passes = 20\n",
    "iterations = 400\n",
    "eval_every = None  # Don't evaluate model perplexity, takes too much time.\n",
    "\n",
    "# Make an index to word dictionary.\n",
    "temp = dictionary[0]  # This is only to \"load\" the dictionary.\n",
    "id2word = dictionary.id2token\n",
    "\n",
    "model = LdaModel(\n",
    "    corpus=corpus,\n",
    "    id2word=id2word,\n",
    "    chunksize=chunksize,\n",
    "    alpha='auto',\n",
    "    eta='auto',\n",
    "    iterations=iterations,\n",
    "    num_topics=num_topics,\n",
    "    passes=passes,\n",
    "    eval_every=eval_every\n",
    ")"
   ]
  },
  {
   "cell_type": "code",
   "execution_count": 72,
   "id": "fbd33483-3543-4763-a3ab-86b959eaf5ff",
   "metadata": {},
   "outputs": [
    {
     "name": "stderr",
     "output_type": "stream",
     "text": [
      "2022-07-17 12:25:26,453 : INFO : CorpusAccumulator accumulated stats from 1000 documents\n",
      "2022-07-17 12:25:26,457 : INFO : CorpusAccumulator accumulated stats from 2000 documents\n"
     ]
    },
    {
     "name": "stdout",
     "output_type": "stream",
     "text": [
      "Average topic coherence: -2.9604.\n",
      "[([(0.027623765, 'year_old'),\n",
      "   (0.013424676, 'year'),\n",
      "   (0.012604725, 'old'),\n",
      "   (0.012436859, 'think'),\n",
      "   (0.009284224, 'wife'),\n",
      "   (0.008263561, 'work'),\n",
      "   (0.0068875323, 'get'),\n",
      "   (0.006652288, 'take'),\n",
      "   (0.006451795, 'time'),\n",
      "   (0.0061963326, 'look'),\n",
      "   (0.00617845, 'tell'),\n",
      "   (0.006124915, 'kid'),\n",
      "   (0.005946673, 'want'),\n",
      "   (0.0057988726, 'day'),\n",
      "   (0.0056434027, 'night'),\n",
      "   (0.005336212, 'go'),\n",
      "   (0.005288253, 'like'),\n",
      "   (0.005078944, 'know'),\n",
      "   (0.004822383, 'home'),\n",
      "   (0.004517141, 'watch')],\n",
      "  -2.508778851428638),\n",
      " ([(0.009646516, 'work'),\n",
      "   (0.007426429, 'year'),\n",
      "   (0.0073261233, 'get'),\n",
      "   (0.0063504386, 'day'),\n",
      "   (0.0063478895, 'ask'),\n",
      "   (0.005703999, 'go'),\n",
      "   (0.0053586126, 'think'),\n",
      "   (0.005344327, 'wife'),\n",
      "   (0.005307524, 'leave'),\n",
      "   (0.005194282, 'phone'),\n",
      "   (0.005062379, 'see'),\n",
      "   (0.004631838, 'house'),\n",
      "   (0.0041664885, 'month'),\n",
      "   (0.0039775185, 'watch'),\n",
      "   (0.0038153583, 'tell'),\n",
      "   (0.00360465, 'turn'),\n",
      "   (0.0035282562, 'look'),\n",
      "   (0.0035062095, 'year_ago'),\n",
      "   (0.0034457583, 'like'),\n",
      "   (0.0031816368, 'home')],\n",
      "  -2.730643693137959),\n",
      " ([(0.008475093, 'year'),\n",
      "   (0.007828885, 'like'),\n",
      "   (0.0077175274, 'day'),\n",
      "   (0.0072147464, 'leave'),\n",
      "   (0.0064419387, 'buy'),\n",
      "   (0.005936485, 'work'),\n",
      "   (0.005813085, 'know'),\n",
      "   (0.0055712233, 'think'),\n",
      "   (0.0049472847, 'people'),\n",
      "   (0.004826515, 'love'),\n",
      "   (0.004493244, 'get'),\n",
      "   (0.0044707004, 'ask'),\n",
      "   (0.0043720286, 'tell'),\n",
      "   (0.0041379617, 'month'),\n",
      "   (0.0041363845, 'wear'),\n",
      "   (0.0040943716, 'find'),\n",
      "   (0.0039192047, 'wife'),\n",
      "   (0.0039116745, 'say'),\n",
      "   (0.0036555754, 'try'),\n",
      "   (0.0035848268, 'turn')],\n",
      "  -2.783825568078604),\n",
      " ([(0.037997667, 'year_ago'),\n",
      "   (0.016270949, 'year'),\n",
      "   (0.014294538, 'ago'),\n",
      "   (0.009111026, 'day'),\n",
      "   (0.008206554, 'work'),\n",
      "   (0.007865828, 'know'),\n",
      "   (0.007042481, 'find'),\n",
      "   (0.005661421, 'husband'),\n",
      "   (0.0055528386, 'tell'),\n",
      "   (0.005515849, 'start'),\n",
      "   (0.005325819, 'wife'),\n",
      "   (0.0052088, 'get'),\n",
      "   (0.0047541084, 'think'),\n",
      "   (0.004719687, 'people'),\n",
      "   (0.004303289, 'go'),\n",
      "   (0.0039265896, 'time'),\n",
      "   (0.0037338245, 'watch'),\n",
      "   (0.0036926845, 'month'),\n",
      "   (0.0034843537, 'feel'),\n",
      "   (0.0032956472, 'girl')],\n",
      "  -2.866478666566036),\n",
      " ([(0.011479661, 'time'),\n",
      "   (0.010748637, 'go'),\n",
      "   (0.01071228, 'like'),\n",
      "   (0.010659648, 'amp'),\n",
      "   (0.010087598, 'look_like'),\n",
      "   (0.009585302, 'tell'),\n",
      "   (0.008885279, 'work'),\n",
      "   (0.00848783, 'year'),\n",
      "   (0.0067018163, 'think'),\n",
      "   (0.006283721, 'buy'),\n",
      "   (0.0055843573, 'leave'),\n",
      "   (0.0055496544, 'ask'),\n",
      "   (0.0052918573, 'day'),\n",
      "   (0.005048099, 'make'),\n",
      "   (0.004920512, 'wife'),\n",
      "   (0.00470008, 'home'),\n",
      "   (0.0046665375, 'find'),\n",
      "   (0.0046362835, 'kid'),\n",
      "   (0.004430974, 'look'),\n",
      "   (0.0044168383, 'house')],\n",
      "  -2.9257671493001918),\n",
      " ([(0.008853093, 'year'),\n",
      "   (0.008318371, 'know'),\n",
      "   (0.008028795, 'wife'),\n",
      "   (0.0065526203, 'think'),\n",
      "   (0.005877154, 'work'),\n",
      "   (0.0050247996, 'amp'),\n",
      "   (0.004906229, 'go'),\n",
      "   (0.004498862, 'get'),\n",
      "   (0.0042452505, 'make'),\n",
      "   (0.0039945976, 'day'),\n",
      "   (0.0037667295, 'want'),\n",
      "   (0.0035650562, 'buy'),\n",
      "   (0.0035596287, 'say'),\n",
      "   (0.0035532592, 'spend'),\n",
      "   (0.0034387247, 'pay'),\n",
      "   (0.0034278599, 'bin'),\n",
      "   (0.003340539, 'look'),\n",
      "   (0.0032498287, 'month'),\n",
      "   (0.003200437, 'find'),\n",
      "   (0.0031988933, 'people')],\n",
      "  -3.0028761151626764),\n",
      " ([(0.013229289, 'like'),\n",
      "   (0.008605207, 'day'),\n",
      "   (0.008529243, 'year'),\n",
      "   (0.0077018784, 'get'),\n",
      "   (0.0062442003, 'know'),\n",
      "   (0.0061118235, 'work'),\n",
      "   (0.0055265375, 'leave'),\n",
      "   (0.005235408, 'wife'),\n",
      "   (0.0050872043, 'find'),\n",
      "   (0.004224133, 'pretend'),\n",
      "   (0.004163818, 'car'),\n",
      "   (0.0041214405, 'play'),\n",
      "   (0.0039935317, 'hand'),\n",
      "   (0.003983779, 'toilet'),\n",
      "   (0.0038944702, 'think'),\n",
      "   (0.0038897842, 'week'),\n",
      "   (0.0037457652, 'take'),\n",
      "   (0.0036682591, 'hate'),\n",
      "   (0.0035882925, 'good'),\n",
      "   (0.003572894, 'time')],\n",
      "  -3.0702001846894675),\n",
      " ([(0.009217231, 'work'),\n",
      "   (0.008903816, 'go'),\n",
      "   (0.007501523, 'get'),\n",
      "   (0.0074888095, 'amp'),\n",
      "   (0.0064560194, 'like'),\n",
      "   (0.0062028705, 'think'),\n",
      "   (0.0058925184, 'school'),\n",
      "   (0.0057182973, 'come'),\n",
      "   (0.005539568, 'time'),\n",
      "   (0.005420584, 'good'),\n",
      "   (0.0053703417, 'night'),\n",
      "   (0.0053199334, 'parent'),\n",
      "   (0.0051727304, 'wife'),\n",
      "   (0.004727688, 'day'),\n",
      "   (0.0045046536, 'find'),\n",
      "   (0.004460859, '£'),\n",
      "   (0.004227764, 'sex'),\n",
      "   (0.0041298196, 'friend'),\n",
      "   (0.0038438074, 'shit'),\n",
      "   (0.0037613718, 'say')],\n",
      "  -3.1155364720722822),\n",
      " ([(0.011271845, 'feel_guilty'),\n",
      "   (0.010115792, 'tell'),\n",
      "   (0.007665796, 'work'),\n",
      "   (0.0073854323, 'year'),\n",
      "   (0.007362848, 'day'),\n",
      "   (0.0070945993, 'feel'),\n",
      "   (0.00707133, 'go'),\n",
      "   (0.0063094185, 'time'),\n",
      "   (0.006202491, 'get'),\n",
      "   (0.006081333, 'night'),\n",
      "   (0.0060293837, 'say'),\n",
      "   (0.0053771404, 'cat'),\n",
      "   (0.005259807, 'later'),\n",
      "   (0.005184744, 'week'),\n",
      "   (0.0049011605, 'house'),\n",
      "   (0.0048213284, 'think'),\n",
      "   (0.004720194, 'pay'),\n",
      "   (0.0045766104, 'wife'),\n",
      "   (0.0045492463, 'mum'),\n",
      "   (0.004474909, '£')],\n",
      "  -3.276499805098316),\n",
      " ([(0.01046107, 'go'),\n",
      "   (0.008666521, 'like'),\n",
      "   (0.008221522, 'time'),\n",
      "   (0.006749995, 'wife'),\n",
      "   (0.0052328347, 'try'),\n",
      "   (0.0048490334, 'buy'),\n",
      "   (0.0047985753, 'spend'),\n",
      "   (0.0047267657, 'tell'),\n",
      "   (0.004726579, 'day'),\n",
      "   (0.0046439506, 'dog'),\n",
      "   (0.0043327217, 'park'),\n",
      "   (0.0039627715, 'find'),\n",
      "   (0.0038921004, 'think'),\n",
      "   (0.0038720237, 'sit'),\n",
      "   (0.0038293076, 'year'),\n",
      "   (0.003773392, 'come'),\n",
      "   (0.0036230674, 'new'),\n",
      "   (0.0034073466, 'look'),\n",
      "   (0.0032912754, 'get'),\n",
      "   (0.0030823348, 'word')],\n",
      "  -3.323618786999153)]\n"
     ]
    }
   ],
   "source": [
    "top_topics = model.top_topics(corpus)\n",
    "\n",
    "# Average topic coherence is the sum of topic coherences of all topics, divided by the number of topics.\n",
    "avg_topic_coherence = sum([t[1] for t in top_topics]) / num_topics\n",
    "print('Average topic coherence: %.4f.' % avg_topic_coherence)\n",
    "\n",
    "from pprint import pprint\n",
    "pprint(top_topics)"
   ]
  },
  {
   "cell_type": "markdown",
   "id": "dc50c6b1-0431-4da8-8db6-7b707434b2b6",
   "metadata": {},
   "source": [
    "These don't seem that informative. Maybe we can try a smaller number of terms and categories - ~3-5 might be better?"
   ]
  },
  {
   "cell_type": "code",
   "execution_count": 73,
   "id": "ed66c685-39bb-4f6b-806a-f972d5c568ad",
   "metadata": {},
   "outputs": [
    {
     "name": "stderr",
     "output_type": "stream",
     "text": [
      "2022-07-17 13:21:12,767 : INFO : using autotuned alpha, starting with [0.2, 0.2, 0.2, 0.2, 0.2]\n",
      "2022-07-17 13:21:12,769 : INFO : using serial LDA version on this node\n",
      "2022-07-17 13:21:12,773 : INFO : running online (multi-pass) LDA training, 5 topics, 20 passes over the supplied corpus of 2935 documents, updating model once every 2935 documents, evaluating perplexity every 0 documents, iterating 400x with a convergence threshold of 0.001000\n",
      "2022-07-17 13:21:12,773 : INFO : PROGRESS: pass 0, at document #2935/2935\n",
      "2022-07-17 13:21:14,488 : INFO : optimized alpha [0.12796906, 0.08961503, 0.091474965, 0.11935673, 0.10663368]\n",
      "2022-07-17 13:21:14,491 : INFO : topic #0 (0.128): 0.008*\"work\" + 0.008*\"tell\" + 0.008*\"year\" + 0.007*\"go\" + 0.007*\"know\" + 0.007*\"day\" + 0.007*\"time\" + 0.007*\"think\" + 0.007*\"wife\" + 0.006*\"get\"\n",
      "2022-07-17 13:21:14,492 : INFO : topic #1 (0.090): 0.009*\"wife\" + 0.007*\"like\" + 0.007*\"work\" + 0.007*\"year\" + 0.006*\"think\" + 0.005*\"go\" + 0.005*\"car\" + 0.004*\"start\" + 0.004*\"use\" + 0.004*\"time\"\n",
      "2022-07-17 13:21:14,493 : INFO : topic #2 (0.091): 0.009*\"year\" + 0.009*\"year_old\" + 0.006*\"day\" + 0.006*\"time\" + 0.006*\"know\" + 0.005*\"say\" + 0.005*\"wife\" + 0.005*\"tell\" + 0.005*\"old\" + 0.004*\"buy\"\n",
      "2022-07-17 13:21:14,494 : INFO : topic #3 (0.119): 0.017*\"year_ago\" + 0.014*\"year\" + 0.010*\"think\" + 0.008*\"like\" + 0.008*\"work\" + 0.008*\"get\" + 0.007*\"go\" + 0.007*\"leave\" + 0.006*\"day\" + 0.006*\"ago\"\n",
      "2022-07-17 13:21:14,494 : INFO : topic #4 (0.107): 0.010*\"work\" + 0.009*\"day\" + 0.008*\"go\" + 0.008*\"year\" + 0.007*\"get\" + 0.007*\"tell\" + 0.006*\"like\" + 0.006*\"amp\" + 0.005*\"time\" + 0.005*\"find\"\n",
      "2022-07-17 13:21:14,495 : INFO : topic diff=3.381832, rho=1.000000\n",
      "2022-07-17 13:21:14,501 : INFO : PROGRESS: pass 1, at document #2935/2935\n",
      "2022-07-17 13:21:15,062 : INFO : optimized alpha [0.10877991, 0.07539968, 0.076981135, 0.101068586, 0.09002256]\n",
      "2022-07-17 13:21:15,067 : INFO : topic #0 (0.109): 0.008*\"tell\" + 0.008*\"work\" + 0.008*\"year\" + 0.007*\"go\" + 0.007*\"know\" + 0.007*\"time\" + 0.007*\"think\" + 0.007*\"day\" + 0.007*\"wife\" + 0.006*\"get\"\n",
      "2022-07-17 13:21:15,067 : INFO : topic #1 (0.075): 0.009*\"wife\" + 0.008*\"like\" + 0.007*\"work\" + 0.006*\"year\" + 0.006*\"think\" + 0.005*\"go\" + 0.005*\"car\" + 0.004*\"start\" + 0.004*\"use\" + 0.004*\"time\"\n",
      "2022-07-17 13:21:15,068 : INFO : topic #2 (0.077): 0.009*\"year_old\" + 0.009*\"year\" + 0.006*\"day\" + 0.006*\"time\" + 0.006*\"know\" + 0.005*\"wife\" + 0.005*\"say\" + 0.005*\"tell\" + 0.005*\"old\" + 0.005*\"buy\"\n",
      "2022-07-17 13:21:15,068 : INFO : topic #3 (0.101): 0.019*\"year_ago\" + 0.014*\"year\" + 0.010*\"think\" + 0.008*\"like\" + 0.008*\"work\" + 0.008*\"get\" + 0.007*\"ago\" + 0.007*\"go\" + 0.007*\"leave\" + 0.006*\"day\"\n",
      "2022-07-17 13:21:15,069 : INFO : topic #4 (0.090): 0.010*\"work\" + 0.009*\"day\" + 0.008*\"go\" + 0.007*\"year\" + 0.007*\"get\" + 0.007*\"tell\" + 0.006*\"like\" + 0.006*\"amp\" + 0.005*\"time\" + 0.005*\"find\"\n",
      "2022-07-17 13:21:15,069 : INFO : topic diff=0.019962, rho=0.577350\n",
      "2022-07-17 13:21:15,074 : INFO : PROGRESS: pass 2, at document #2935/2935\n",
      "2022-07-17 13:21:15,609 : INFO : optimized alpha [0.09707359, 0.066478744, 0.06791045, 0.089852355, 0.07979196]\n",
      "2022-07-17 13:21:15,613 : INFO : topic #0 (0.097): 0.008*\"tell\" + 0.008*\"work\" + 0.008*\"year\" + 0.007*\"go\" + 0.007*\"think\" + 0.007*\"time\" + 0.007*\"know\" + 0.007*\"day\" + 0.007*\"wife\" + 0.006*\"home\"\n",
      "2022-07-17 13:21:15,614 : INFO : topic #1 (0.066): 0.009*\"wife\" + 0.008*\"like\" + 0.007*\"work\" + 0.006*\"think\" + 0.006*\"year\" + 0.005*\"go\" + 0.005*\"car\" + 0.004*\"start\" + 0.004*\"use\" + 0.004*\"time\"\n",
      "2022-07-17 13:21:15,615 : INFO : topic #2 (0.068): 0.009*\"year_old\" + 0.009*\"year\" + 0.006*\"day\" + 0.006*\"time\" + 0.006*\"know\" + 0.005*\"wife\" + 0.005*\"say\" + 0.005*\"tell\" + 0.005*\"old\" + 0.005*\"buy\"\n",
      "2022-07-17 13:21:15,616 : INFO : topic #3 (0.090): 0.020*\"year_ago\" + 0.014*\"year\" + 0.009*\"think\" + 0.008*\"like\" + 0.008*\"work\" + 0.008*\"get\" + 0.007*\"ago\" + 0.007*\"go\" + 0.007*\"leave\" + 0.006*\"day\"\n",
      "2022-07-17 13:21:15,617 : INFO : topic #4 (0.080): 0.010*\"work\" + 0.009*\"day\" + 0.008*\"go\" + 0.007*\"year\" + 0.007*\"get\" + 0.007*\"tell\" + 0.006*\"like\" + 0.006*\"amp\" + 0.005*\"time\" + 0.005*\"find\"\n",
      "2022-07-17 13:21:15,617 : INFO : topic diff=0.016740, rho=0.500000\n",
      "2022-07-17 13:21:15,621 : INFO : PROGRESS: pass 3, at document #2935/2935\n",
      "2022-07-17 13:21:16,115 : INFO : optimized alpha [0.08888882, 0.06017652, 0.06154178, 0.08182068, 0.072665356]\n",
      "2022-07-17 13:21:16,119 : INFO : topic #0 (0.089): 0.008*\"tell\" + 0.008*\"work\" + 0.008*\"year\" + 0.007*\"go\" + 0.007*\"think\" + 0.007*\"time\" + 0.007*\"know\" + 0.007*\"day\" + 0.007*\"wife\" + 0.006*\"home\"\n",
      "2022-07-17 13:21:16,120 : INFO : topic #1 (0.060): 0.009*\"wife\" + 0.008*\"like\" + 0.007*\"work\" + 0.007*\"think\" + 0.006*\"year\" + 0.005*\"go\" + 0.005*\"car\" + 0.004*\"start\" + 0.004*\"use\" + 0.004*\"time\"\n",
      "2022-07-17 13:21:16,121 : INFO : topic #2 (0.062): 0.009*\"year_old\" + 0.008*\"year\" + 0.006*\"day\" + 0.006*\"time\" + 0.005*\"know\" + 0.005*\"say\" + 0.005*\"wife\" + 0.005*\"tell\" + 0.005*\"old\" + 0.005*\"buy\"\n",
      "2022-07-17 13:21:16,121 : INFO : topic #3 (0.082): 0.021*\"year_ago\" + 0.014*\"year\" + 0.009*\"think\" + 0.008*\"like\" + 0.008*\"work\" + 0.008*\"ago\" + 0.008*\"get\" + 0.007*\"go\" + 0.007*\"leave\" + 0.006*\"day\"\n",
      "2022-07-17 13:21:16,122 : INFO : topic #4 (0.073): 0.010*\"work\" + 0.009*\"day\" + 0.008*\"go\" + 0.007*\"year\" + 0.007*\"get\" + 0.006*\"tell\" + 0.006*\"like\" + 0.006*\"amp\" + 0.005*\"time\" + 0.005*\"find\"\n",
      "2022-07-17 13:21:16,123 : INFO : topic diff=0.014596, rho=0.447214\n",
      "2022-07-17 13:21:16,127 : INFO : PROGRESS: pass 4, at document #2935/2935\n",
      "2022-07-17 13:21:16,601 : INFO : optimized alpha [0.082712814, 0.05540311, 0.056743864, 0.07581242, 0.067281574]\n",
      "2022-07-17 13:21:16,604 : INFO : topic #0 (0.083): 0.008*\"tell\" + 0.008*\"work\" + 0.008*\"year\" + 0.007*\"go\" + 0.007*\"think\" + 0.007*\"time\" + 0.007*\"know\" + 0.007*\"day\" + 0.007*\"wife\" + 0.006*\"home\"\n",
      "2022-07-17 13:21:16,604 : INFO : topic #1 (0.055): 0.009*\"wife\" + 0.008*\"like\" + 0.007*\"work\" + 0.007*\"think\" + 0.006*\"year\" + 0.005*\"go\" + 0.005*\"car\" + 0.004*\"start\" + 0.004*\"use\" + 0.004*\"time\"\n",
      "2022-07-17 13:21:16,605 : INFO : topic #2 (0.057): 0.010*\"year_old\" + 0.008*\"year\" + 0.006*\"day\" + 0.006*\"time\" + 0.005*\"know\" + 0.005*\"say\" + 0.005*\"wife\" + 0.005*\"old\" + 0.005*\"tell\" + 0.005*\"buy\"\n",
      "2022-07-17 13:21:16,606 : INFO : topic #3 (0.076): 0.021*\"year_ago\" + 0.015*\"year\" + 0.009*\"think\" + 0.008*\"like\" + 0.008*\"work\" + 0.008*\"ago\" + 0.008*\"get\" + 0.007*\"go\" + 0.007*\"leave\" + 0.006*\"day\"\n",
      "2022-07-17 13:21:16,606 : INFO : topic #4 (0.067): 0.010*\"work\" + 0.009*\"day\" + 0.008*\"go\" + 0.007*\"year\" + 0.007*\"get\" + 0.006*\"tell\" + 0.006*\"like\" + 0.006*\"amp\" + 0.005*\"time\" + 0.005*\"find\"\n",
      "2022-07-17 13:21:16,607 : INFO : topic diff=0.012769, rho=0.408248\n",
      "2022-07-17 13:21:16,610 : INFO : PROGRESS: pass 5, at document #2935/2935\n",
      "2022-07-17 13:21:17,085 : INFO : optimized alpha [0.07784912, 0.051621042, 0.05296764, 0.071046725, 0.06304347]\n",
      "2022-07-17 13:21:17,088 : INFO : topic #0 (0.078): 0.008*\"tell\" + 0.008*\"work\" + 0.008*\"year\" + 0.007*\"think\" + 0.007*\"go\" + 0.007*\"time\" + 0.007*\"know\" + 0.007*\"day\" + 0.007*\"wife\" + 0.006*\"home\"\n",
      "2022-07-17 13:21:17,089 : INFO : topic #1 (0.052): 0.009*\"wife\" + 0.008*\"like\" + 0.007*\"work\" + 0.007*\"think\" + 0.006*\"year\" + 0.005*\"go\" + 0.005*\"car\" + 0.004*\"start\" + 0.004*\"use\" + 0.004*\"send\"\n",
      "2022-07-17 13:21:17,090 : INFO : topic #2 (0.053): 0.010*\"year_old\" + 0.008*\"year\" + 0.006*\"day\" + 0.006*\"time\" + 0.005*\"know\" + 0.005*\"say\" + 0.005*\"wife\" + 0.005*\"old\" + 0.005*\"tell\" + 0.005*\"buy\"\n",
      "2022-07-17 13:21:17,090 : INFO : topic #3 (0.071): 0.021*\"year_ago\" + 0.015*\"year\" + 0.009*\"think\" + 0.008*\"like\" + 0.008*\"work\" + 0.008*\"ago\" + 0.008*\"get\" + 0.007*\"go\" + 0.007*\"leave\" + 0.006*\"day\"\n",
      "2022-07-17 13:21:17,091 : INFO : topic #4 (0.063): 0.010*\"work\" + 0.009*\"day\" + 0.008*\"go\" + 0.007*\"year\" + 0.007*\"get\" + 0.006*\"tell\" + 0.006*\"like\" + 0.006*\"amp\" + 0.005*\"time\" + 0.005*\"year_old\"\n",
      "2022-07-17 13:21:17,091 : INFO : topic diff=0.011158, rho=0.377964\n",
      "2022-07-17 13:21:17,095 : INFO : PROGRESS: pass 6, at document #2935/2935\n",
      "2022-07-17 13:21:17,559 : INFO : optimized alpha [0.073866025, 0.048539504, 0.04988263, 0.06711565, 0.059577122]\n",
      "2022-07-17 13:21:17,562 : INFO : topic #0 (0.074): 0.008*\"tell\" + 0.008*\"work\" + 0.008*\"year\" + 0.007*\"go\" + 0.007*\"think\" + 0.007*\"time\" + 0.007*\"know\" + 0.007*\"day\" + 0.007*\"wife\" + 0.006*\"home\"\n",
      "2022-07-17 13:21:17,562 : INFO : topic #1 (0.049): 0.009*\"wife\" + 0.008*\"like\" + 0.007*\"work\" + 0.007*\"think\" + 0.006*\"year\" + 0.005*\"go\" + 0.005*\"car\" + 0.004*\"start\" + 0.004*\"use\" + 0.004*\"time\"\n",
      "2022-07-17 13:21:17,563 : INFO : topic #2 (0.050): 0.010*\"year_old\" + 0.008*\"year\" + 0.006*\"day\" + 0.006*\"time\" + 0.005*\"know\" + 0.005*\"say\" + 0.005*\"wife\" + 0.005*\"old\" + 0.005*\"tell\" + 0.005*\"buy\"\n",
      "2022-07-17 13:21:17,563 : INFO : topic #3 (0.067): 0.021*\"year_ago\" + 0.015*\"year\" + 0.009*\"think\" + 0.008*\"like\" + 0.008*\"ago\" + 0.008*\"work\" + 0.008*\"get\" + 0.007*\"go\" + 0.007*\"leave\" + 0.006*\"day\"\n",
      "2022-07-17 13:21:17,564 : INFO : topic #4 (0.060): 0.010*\"work\" + 0.010*\"day\" + 0.008*\"go\" + 0.007*\"year\" + 0.007*\"get\" + 0.006*\"tell\" + 0.006*\"like\" + 0.006*\"amp\" + 0.005*\"time\" + 0.005*\"year_old\"\n",
      "2022-07-17 13:21:17,564 : INFO : topic diff=0.009503, rho=0.353553\n",
      "2022-07-17 13:21:17,567 : INFO : PROGRESS: pass 7, at document #2935/2935\n",
      "2022-07-17 13:21:18,027 : INFO : optimized alpha [0.07055582, 0.045960806, 0.047308728, 0.063822776, 0.056667008]\n",
      "2022-07-17 13:21:18,030 : INFO : topic #0 (0.071): 0.008*\"tell\" + 0.008*\"work\" + 0.008*\"year\" + 0.007*\"think\" + 0.007*\"go\" + 0.007*\"time\" + 0.007*\"know\" + 0.007*\"day\" + 0.007*\"wife\" + 0.006*\"home\"\n",
      "2022-07-17 13:21:18,030 : INFO : topic #1 (0.046): 0.009*\"wife\" + 0.008*\"like\" + 0.007*\"work\" + 0.007*\"think\" + 0.006*\"year\" + 0.005*\"go\" + 0.005*\"car\" + 0.004*\"use\" + 0.004*\"start\" + 0.004*\"time\"\n",
      "2022-07-17 13:21:18,031 : INFO : topic #2 (0.047): 0.010*\"year_old\" + 0.008*\"year\" + 0.006*\"day\" + 0.006*\"time\" + 0.005*\"know\" + 0.005*\"say\" + 0.005*\"old\" + 0.005*\"wife\" + 0.005*\"buy\" + 0.005*\"tell\"\n",
      "2022-07-17 13:21:18,031 : INFO : topic #3 (0.064): 0.021*\"year_ago\" + 0.015*\"year\" + 0.009*\"think\" + 0.008*\"like\" + 0.008*\"ago\" + 0.008*\"work\" + 0.008*\"get\" + 0.007*\"go\" + 0.007*\"leave\" + 0.006*\"day\"\n",
      "2022-07-17 13:21:18,032 : INFO : topic #4 (0.057): 0.010*\"work\" + 0.010*\"day\" + 0.008*\"go\" + 0.007*\"year\" + 0.007*\"get\" + 0.006*\"tell\" + 0.006*\"like\" + 0.006*\"amp\" + 0.005*\"time\" + 0.005*\"year_old\"\n",
      "2022-07-17 13:21:18,033 : INFO : topic diff=0.008302, rho=0.333333\n",
      "2022-07-17 13:21:18,040 : INFO : PROGRESS: pass 8, at document #2935/2935\n",
      "2022-07-17 13:21:18,519 : INFO : optimized alpha [0.06772433, 0.043761257, 0.04510904, 0.061017867, 0.05419132]\n",
      "2022-07-17 13:21:18,522 : INFO : topic #0 (0.068): 0.008*\"tell\" + 0.008*\"work\" + 0.008*\"year\" + 0.007*\"go\" + 0.007*\"think\" + 0.007*\"time\" + 0.007*\"know\" + 0.007*\"day\" + 0.007*\"wife\" + 0.006*\"home\"\n",
      "2022-07-17 13:21:18,522 : INFO : topic #1 (0.044): 0.009*\"wife\" + 0.008*\"like\" + 0.007*\"work\" + 0.007*\"think\" + 0.006*\"year\" + 0.005*\"go\" + 0.005*\"car\" + 0.004*\"use\" + 0.004*\"start\" + 0.004*\"time\"\n",
      "2022-07-17 13:21:18,523 : INFO : topic #2 (0.045): 0.010*\"year_old\" + 0.008*\"year\" + 0.006*\"day\" + 0.006*\"time\" + 0.005*\"know\" + 0.005*\"say\" + 0.005*\"old\" + 0.005*\"wife\" + 0.005*\"buy\" + 0.005*\"tell\"\n",
      "2022-07-17 13:21:18,523 : INFO : topic #3 (0.061): 0.021*\"year_ago\" + 0.015*\"year\" + 0.009*\"think\" + 0.008*\"ago\" + 0.008*\"like\" + 0.008*\"work\" + 0.008*\"get\" + 0.007*\"go\" + 0.007*\"leave\" + 0.006*\"day\"\n",
      "2022-07-17 13:21:18,524 : INFO : topic #4 (0.054): 0.010*\"work\" + 0.010*\"day\" + 0.008*\"go\" + 0.007*\"year\" + 0.007*\"get\" + 0.006*\"tell\" + 0.006*\"like\" + 0.006*\"amp\" + 0.005*\"time\" + 0.005*\"year_old\"\n",
      "2022-07-17 13:21:18,524 : INFO : topic diff=0.007269, rho=0.316228\n",
      "2022-07-17 13:21:18,529 : INFO : PROGRESS: pass 9, at document #2935/2935\n",
      "2022-07-17 13:21:18,986 : INFO : optimized alpha [0.065267324, 0.041851368, 0.043200128, 0.058596574, 0.052039873]\n",
      "2022-07-17 13:21:18,989 : INFO : topic #0 (0.065): 0.008*\"tell\" + 0.008*\"work\" + 0.008*\"year\" + 0.007*\"go\" + 0.007*\"think\" + 0.007*\"time\" + 0.007*\"know\" + 0.007*\"day\" + 0.007*\"wife\" + 0.006*\"home\"\n",
      "2022-07-17 13:21:18,989 : INFO : topic #1 (0.042): 0.009*\"wife\" + 0.008*\"like\" + 0.007*\"work\" + 0.007*\"think\" + 0.006*\"year\" + 0.005*\"go\" + 0.005*\"car\" + 0.004*\"use\" + 0.004*\"start\" + 0.004*\"time\"\n",
      "2022-07-17 13:21:18,990 : INFO : topic #2 (0.043): 0.010*\"year_old\" + 0.008*\"year\" + 0.006*\"day\" + 0.006*\"time\" + 0.005*\"know\" + 0.005*\"old\" + 0.005*\"say\" + 0.005*\"wife\" + 0.005*\"buy\" + 0.005*\"tell\"\n",
      "2022-07-17 13:21:18,991 : INFO : topic #3 (0.059): 0.022*\"year_ago\" + 0.015*\"year\" + 0.009*\"think\" + 0.008*\"ago\" + 0.008*\"like\" + 0.008*\"work\" + 0.008*\"get\" + 0.007*\"go\" + 0.007*\"leave\" + 0.006*\"day\"\n",
      "2022-07-17 13:21:18,991 : INFO : topic #4 (0.052): 0.010*\"work\" + 0.010*\"day\" + 0.008*\"go\" + 0.007*\"year\" + 0.007*\"get\" + 0.006*\"tell\" + 0.006*\"like\" + 0.006*\"amp\" + 0.005*\"time\" + 0.005*\"year_old\"\n",
      "2022-07-17 13:21:18,991 : INFO : topic diff=0.006274, rho=0.301511\n",
      "2022-07-17 13:21:18,995 : INFO : PROGRESS: pass 10, at document #2935/2935\n",
      "2022-07-17 13:21:19,450 : INFO : optimized alpha [0.06309301, 0.040171776, 0.041526984, 0.056459043, 0.050158113]\n",
      "2022-07-17 13:21:19,452 : INFO : topic #0 (0.063): 0.008*\"tell\" + 0.008*\"work\" + 0.008*\"year\" + 0.007*\"go\" + 0.007*\"think\" + 0.007*\"time\" + 0.007*\"know\" + 0.007*\"day\" + 0.007*\"wife\" + 0.006*\"home\"\n",
      "2022-07-17 13:21:19,453 : INFO : topic #1 (0.040): 0.009*\"wife\" + 0.008*\"like\" + 0.007*\"work\" + 0.007*\"think\" + 0.006*\"year\" + 0.005*\"go\" + 0.005*\"car\" + 0.004*\"use\" + 0.004*\"start\" + 0.004*\"time\"\n",
      "2022-07-17 13:21:19,453 : INFO : topic #2 (0.042): 0.010*\"year_old\" + 0.008*\"year\" + 0.006*\"day\" + 0.006*\"time\" + 0.005*\"know\" + 0.005*\"old\" + 0.005*\"say\" + 0.005*\"wife\" + 0.005*\"buy\" + 0.005*\"tell\"\n",
      "2022-07-17 13:21:19,454 : INFO : topic #3 (0.056): 0.022*\"year_ago\" + 0.015*\"year\" + 0.009*\"think\" + 0.008*\"ago\" + 0.008*\"like\" + 0.008*\"work\" + 0.008*\"get\" + 0.007*\"go\" + 0.007*\"leave\" + 0.006*\"day\"\n",
      "2022-07-17 13:21:19,454 : INFO : topic #4 (0.050): 0.010*\"work\" + 0.010*\"day\" + 0.008*\"go\" + 0.007*\"year\" + 0.007*\"get\" + 0.006*\"tell\" + 0.006*\"like\" + 0.006*\"amp\" + 0.005*\"time\" + 0.005*\"year_old\"\n",
      "2022-07-17 13:21:19,454 : INFO : topic diff=0.005470, rho=0.288675\n",
      "2022-07-17 13:21:19,458 : INFO : PROGRESS: pass 11, at document #2935/2935\n",
      "2022-07-17 13:21:19,930 : INFO : optimized alpha [0.061164223, 0.03868015, 0.040041603, 0.054565888, 0.048495226]\n",
      "2022-07-17 13:21:19,932 : INFO : topic #0 (0.061): 0.008*\"tell\" + 0.008*\"work\" + 0.008*\"year\" + 0.007*\"go\" + 0.007*\"think\" + 0.007*\"time\" + 0.007*\"know\" + 0.007*\"day\" + 0.007*\"wife\" + 0.006*\"home\"\n",
      "2022-07-17 13:21:19,933 : INFO : topic #1 (0.039): 0.009*\"wife\" + 0.008*\"like\" + 0.007*\"work\" + 0.007*\"think\" + 0.006*\"year\" + 0.005*\"go\" + 0.005*\"car\" + 0.004*\"use\" + 0.004*\"start\" + 0.004*\"time\"\n",
      "2022-07-17 13:21:19,933 : INFO : topic #2 (0.040): 0.011*\"year_old\" + 0.008*\"year\" + 0.006*\"day\" + 0.006*\"time\" + 0.005*\"know\" + 0.005*\"old\" + 0.005*\"say\" + 0.005*\"wife\" + 0.005*\"buy\" + 0.005*\"tell\"\n",
      "2022-07-17 13:21:19,934 : INFO : topic #3 (0.055): 0.022*\"year_ago\" + 0.015*\"year\" + 0.009*\"think\" + 0.008*\"ago\" + 0.008*\"like\" + 0.008*\"work\" + 0.008*\"get\" + 0.007*\"go\" + 0.007*\"leave\" + 0.006*\"day\"\n",
      "2022-07-17 13:21:19,934 : INFO : topic #4 (0.048): 0.010*\"work\" + 0.010*\"day\" + 0.008*\"go\" + 0.007*\"year\" + 0.007*\"get\" + 0.006*\"tell\" + 0.006*\"like\" + 0.006*\"amp\" + 0.005*\"time\" + 0.005*\"look\"\n",
      "2022-07-17 13:21:19,935 : INFO : topic diff=0.004856, rho=0.277350\n",
      "2022-07-17 13:21:19,939 : INFO : PROGRESS: pass 12, at document #2935/2935\n",
      "2022-07-17 13:21:20,383 : INFO : optimized alpha [0.059444603, 0.03734327, 0.038714904, 0.052856553, 0.047002442]\n",
      "2022-07-17 13:21:20,387 : INFO : topic #0 (0.059): 0.008*\"tell\" + 0.008*\"year\" + 0.008*\"work\" + 0.007*\"go\" + 0.007*\"think\" + 0.007*\"time\" + 0.007*\"know\" + 0.007*\"day\" + 0.007*\"wife\" + 0.006*\"home\"\n",
      "2022-07-17 13:21:20,387 : INFO : topic #1 (0.037): 0.009*\"wife\" + 0.008*\"like\" + 0.007*\"work\" + 0.007*\"think\" + 0.006*\"year\" + 0.005*\"go\" + 0.005*\"car\" + 0.004*\"use\" + 0.004*\"start\" + 0.004*\"time\"\n",
      "2022-07-17 13:21:20,388 : INFO : topic #2 (0.039): 0.011*\"year_old\" + 0.008*\"year\" + 0.006*\"day\" + 0.006*\"time\" + 0.005*\"know\" + 0.005*\"old\" + 0.005*\"say\" + 0.005*\"wife\" + 0.005*\"buy\" + 0.005*\"tell\"\n",
      "2022-07-17 13:21:20,389 : INFO : topic #3 (0.053): 0.022*\"year_ago\" + 0.015*\"year\" + 0.009*\"think\" + 0.008*\"ago\" + 0.008*\"like\" + 0.008*\"work\" + 0.008*\"get\" + 0.007*\"go\" + 0.007*\"leave\" + 0.006*\"day\"\n",
      "2022-07-17 13:21:20,389 : INFO : topic #4 (0.047): 0.010*\"work\" + 0.010*\"day\" + 0.008*\"go\" + 0.007*\"year\" + 0.007*\"get\" + 0.006*\"tell\" + 0.006*\"like\" + 0.006*\"amp\" + 0.005*\"time\" + 0.005*\"look\"\n",
      "2022-07-17 13:21:20,390 : INFO : topic diff=0.004410, rho=0.267261\n",
      "2022-07-17 13:21:20,394 : INFO : PROGRESS: pass 13, at document #2935/2935\n",
      "2022-07-17 13:21:20,845 : INFO : optimized alpha [0.057875354, 0.03613898, 0.037516855, 0.05131113, 0.04565658]\n",
      "2022-07-17 13:21:20,848 : INFO : topic #0 (0.058): 0.008*\"tell\" + 0.008*\"year\" + 0.008*\"work\" + 0.007*\"go\" + 0.007*\"think\" + 0.007*\"time\" + 0.007*\"know\" + 0.007*\"day\" + 0.007*\"wife\" + 0.006*\"home\"\n",
      "2022-07-17 13:21:20,848 : INFO : topic #1 (0.036): 0.009*\"wife\" + 0.008*\"like\" + 0.007*\"work\" + 0.007*\"think\" + 0.006*\"year\" + 0.005*\"go\" + 0.005*\"car\" + 0.004*\"use\" + 0.004*\"start\" + 0.004*\"time\"\n",
      "2022-07-17 13:21:20,849 : INFO : topic #2 (0.038): 0.011*\"year_old\" + 0.008*\"year\" + 0.006*\"day\" + 0.006*\"time\" + 0.005*\"know\" + 0.005*\"old\" + 0.005*\"say\" + 0.005*\"wife\" + 0.005*\"buy\" + 0.005*\"tell\"\n",
      "2022-07-17 13:21:20,850 : INFO : topic #3 (0.051): 0.022*\"year_ago\" + 0.015*\"year\" + 0.009*\"think\" + 0.008*\"ago\" + 0.008*\"like\" + 0.008*\"work\" + 0.008*\"get\" + 0.007*\"go\" + 0.007*\"leave\" + 0.006*\"day\"\n",
      "2022-07-17 13:21:20,851 : INFO : topic #4 (0.046): 0.010*\"work\" + 0.010*\"day\" + 0.008*\"go\" + 0.007*\"year\" + 0.007*\"get\" + 0.006*\"tell\" + 0.006*\"like\" + 0.006*\"amp\" + 0.005*\"time\" + 0.005*\"look\"\n",
      "2022-07-17 13:21:20,852 : INFO : topic diff=0.003879, rho=0.258199\n",
      "2022-07-17 13:21:20,856 : INFO : PROGRESS: pass 14, at document #2935/2935\n",
      "2022-07-17 13:21:21,302 : INFO : optimized alpha [0.056441046, 0.035046786, 0.03642803, 0.04990502, 0.044435006]\n",
      "2022-07-17 13:21:21,305 : INFO : topic #0 (0.056): 0.008*\"tell\" + 0.008*\"year\" + 0.008*\"work\" + 0.007*\"go\" + 0.007*\"think\" + 0.007*\"time\" + 0.007*\"know\" + 0.007*\"day\" + 0.007*\"wife\" + 0.006*\"home\"\n",
      "2022-07-17 13:21:21,305 : INFO : topic #1 (0.035): 0.009*\"wife\" + 0.008*\"like\" + 0.007*\"work\" + 0.007*\"think\" + 0.006*\"year\" + 0.005*\"go\" + 0.005*\"car\" + 0.004*\"use\" + 0.004*\"start\" + 0.004*\"time\"\n",
      "2022-07-17 13:21:21,305 : INFO : topic #2 (0.036): 0.011*\"year_old\" + 0.008*\"year\" + 0.006*\"day\" + 0.006*\"time\" + 0.005*\"know\" + 0.005*\"old\" + 0.005*\"say\" + 0.005*\"wife\" + 0.005*\"buy\" + 0.005*\"tell\"\n",
      "2022-07-17 13:21:21,306 : INFO : topic #3 (0.050): 0.022*\"year_ago\" + 0.015*\"year\" + 0.009*\"think\" + 0.008*\"ago\" + 0.008*\"like\" + 0.008*\"work\" + 0.008*\"get\" + 0.007*\"go\" + 0.007*\"leave\" + 0.006*\"day\"\n",
      "2022-07-17 13:21:21,306 : INFO : topic #4 (0.044): 0.010*\"work\" + 0.010*\"day\" + 0.008*\"go\" + 0.007*\"year\" + 0.007*\"get\" + 0.006*\"tell\" + 0.006*\"like\" + 0.006*\"amp\" + 0.005*\"time\" + 0.005*\"look\"\n",
      "2022-07-17 13:21:21,307 : INFO : topic diff=0.003414, rho=0.250000\n",
      "2022-07-17 13:21:21,310 : INFO : PROGRESS: pass 15, at document #2935/2935\n",
      "2022-07-17 13:21:21,760 : INFO : optimized alpha [0.05512777, 0.034050476, 0.035436008, 0.048613764, 0.043315858]\n",
      "2022-07-17 13:21:21,763 : INFO : topic #0 (0.055): 0.008*\"tell\" + 0.008*\"year\" + 0.008*\"work\" + 0.007*\"go\" + 0.007*\"think\" + 0.007*\"time\" + 0.007*\"know\" + 0.007*\"day\" + 0.007*\"wife\" + 0.006*\"home\"\n",
      "2022-07-17 13:21:21,763 : INFO : topic #1 (0.034): 0.009*\"wife\" + 0.008*\"like\" + 0.007*\"work\" + 0.007*\"think\" + 0.006*\"year\" + 0.005*\"go\" + 0.005*\"car\" + 0.004*\"use\" + 0.004*\"start\" + 0.004*\"time\"\n",
      "2022-07-17 13:21:21,764 : INFO : topic #2 (0.035): 0.011*\"year_old\" + 0.008*\"year\" + 0.006*\"day\" + 0.006*\"time\" + 0.005*\"know\" + 0.005*\"old\" + 0.005*\"say\" + 0.005*\"wife\" + 0.005*\"buy\" + 0.005*\"tell\"\n",
      "2022-07-17 13:21:21,765 : INFO : topic #3 (0.049): 0.022*\"year_ago\" + 0.015*\"year\" + 0.009*\"think\" + 0.008*\"ago\" + 0.008*\"like\" + 0.008*\"work\" + 0.008*\"get\" + 0.007*\"go\" + 0.007*\"leave\" + 0.006*\"day\"\n",
      "2022-07-17 13:21:21,765 : INFO : topic #4 (0.043): 0.010*\"work\" + 0.010*\"day\" + 0.008*\"go\" + 0.007*\"year\" + 0.007*\"get\" + 0.006*\"tell\" + 0.006*\"like\" + 0.006*\"amp\" + 0.005*\"time\" + 0.005*\"look\"\n",
      "2022-07-17 13:21:21,766 : INFO : topic diff=0.003003, rho=0.242536\n",
      "2022-07-17 13:21:21,769 : INFO : PROGRESS: pass 16, at document #2935/2935\n",
      "2022-07-17 13:21:22,222 : INFO : optimized alpha [0.053910304, 0.03313395, 0.03452435, 0.047429975, 0.042289123]\n",
      "2022-07-17 13:21:22,224 : INFO : topic #0 (0.054): 0.008*\"tell\" + 0.008*\"year\" + 0.008*\"work\" + 0.007*\"go\" + 0.007*\"think\" + 0.007*\"time\" + 0.007*\"know\" + 0.007*\"day\" + 0.007*\"wife\" + 0.006*\"home\"\n",
      "2022-07-17 13:21:22,225 : INFO : topic #1 (0.033): 0.009*\"wife\" + 0.008*\"like\" + 0.007*\"work\" + 0.007*\"think\" + 0.006*\"year\" + 0.005*\"go\" + 0.005*\"car\" + 0.004*\"use\" + 0.004*\"start\" + 0.004*\"time\"\n",
      "2022-07-17 13:21:22,225 : INFO : topic #2 (0.035): 0.011*\"year_old\" + 0.008*\"year\" + 0.006*\"day\" + 0.006*\"time\" + 0.005*\"know\" + 0.005*\"old\" + 0.005*\"say\" + 0.005*\"wife\" + 0.005*\"buy\" + 0.005*\"tell\"\n",
      "2022-07-17 13:21:22,226 : INFO : topic #3 (0.047): 0.022*\"year_ago\" + 0.015*\"year\" + 0.009*\"think\" + 0.008*\"ago\" + 0.008*\"like\" + 0.008*\"work\" + 0.008*\"get\" + 0.007*\"go\" + 0.007*\"leave\" + 0.006*\"day\"\n",
      "2022-07-17 13:21:22,226 : INFO : topic #4 (0.042): 0.010*\"work\" + 0.010*\"day\" + 0.008*\"go\" + 0.007*\"get\" + 0.007*\"year\" + 0.006*\"tell\" + 0.006*\"like\" + 0.006*\"amp\" + 0.005*\"time\" + 0.005*\"look\"\n",
      "2022-07-17 13:21:22,226 : INFO : topic diff=0.002711, rho=0.235702\n",
      "2022-07-17 13:21:22,230 : INFO : PROGRESS: pass 17, at document #2935/2935\n",
      "2022-07-17 13:21:22,678 : INFO : optimized alpha [0.052786537, 0.032287102, 0.0336888, 0.046339747, 0.04133596]\n",
      "2022-07-17 13:21:22,680 : INFO : topic #0 (0.053): 0.008*\"tell\" + 0.008*\"year\" + 0.008*\"work\" + 0.007*\"think\" + 0.007*\"go\" + 0.007*\"time\" + 0.007*\"know\" + 0.007*\"day\" + 0.007*\"wife\" + 0.006*\"home\"\n",
      "2022-07-17 13:21:22,681 : INFO : topic #1 (0.032): 0.009*\"wife\" + 0.008*\"like\" + 0.007*\"work\" + 0.007*\"think\" + 0.006*\"year\" + 0.005*\"go\" + 0.005*\"car\" + 0.004*\"use\" + 0.004*\"start\" + 0.004*\"time\"\n",
      "2022-07-17 13:21:22,681 : INFO : topic #2 (0.034): 0.011*\"year_old\" + 0.008*\"year\" + 0.006*\"day\" + 0.006*\"time\" + 0.005*\"know\" + 0.005*\"old\" + 0.005*\"say\" + 0.005*\"wife\" + 0.005*\"buy\" + 0.005*\"tell\"\n",
      "2022-07-17 13:21:22,681 : INFO : topic #3 (0.046): 0.022*\"year_ago\" + 0.015*\"year\" + 0.009*\"think\" + 0.008*\"ago\" + 0.008*\"like\" + 0.008*\"work\" + 0.008*\"get\" + 0.007*\"go\" + 0.007*\"leave\" + 0.006*\"day\"\n",
      "2022-07-17 13:21:22,682 : INFO : topic #4 (0.041): 0.010*\"work\" + 0.010*\"day\" + 0.008*\"go\" + 0.007*\"get\" + 0.007*\"year\" + 0.006*\"tell\" + 0.006*\"like\" + 0.006*\"amp\" + 0.005*\"time\" + 0.005*\"look\"\n",
      "2022-07-17 13:21:22,682 : INFO : topic diff=0.002424, rho=0.229416\n",
      "2022-07-17 13:21:22,686 : INFO : PROGRESS: pass 18, at document #2935/2935\n",
      "2022-07-17 13:21:23,135 : INFO : optimized alpha [0.051740263, 0.031504016, 0.03291417, 0.045324143, 0.040461253]\n",
      "2022-07-17 13:21:23,137 : INFO : topic #0 (0.052): 0.008*\"tell\" + 0.008*\"year\" + 0.008*\"work\" + 0.007*\"think\" + 0.007*\"go\" + 0.007*\"time\" + 0.007*\"know\" + 0.007*\"day\" + 0.007*\"wife\" + 0.006*\"home\"\n",
      "2022-07-17 13:21:23,138 : INFO : topic #1 (0.032): 0.009*\"wife\" + 0.008*\"like\" + 0.007*\"work\" + 0.007*\"think\" + 0.006*\"year\" + 0.005*\"go\" + 0.005*\"car\" + 0.004*\"use\" + 0.004*\"time\" + 0.004*\"start\"\n",
      "2022-07-17 13:21:23,139 : INFO : topic #2 (0.033): 0.011*\"year_old\" + 0.008*\"year\" + 0.006*\"day\" + 0.006*\"time\" + 0.005*\"know\" + 0.005*\"old\" + 0.005*\"say\" + 0.005*\"wife\" + 0.005*\"buy\" + 0.005*\"tell\"\n",
      "2022-07-17 13:21:23,139 : INFO : topic #3 (0.045): 0.022*\"year_ago\" + 0.015*\"year\" + 0.009*\"think\" + 0.008*\"ago\" + 0.008*\"like\" + 0.008*\"work\" + 0.007*\"get\" + 0.007*\"go\" + 0.007*\"leave\" + 0.006*\"day\"\n",
      "2022-07-17 13:21:23,140 : INFO : topic #4 (0.040): 0.010*\"work\" + 0.010*\"day\" + 0.008*\"go\" + 0.007*\"get\" + 0.007*\"year\" + 0.006*\"tell\" + 0.006*\"like\" + 0.006*\"amp\" + 0.005*\"time\" + 0.005*\"look\"\n",
      "2022-07-17 13:21:23,140 : INFO : topic diff=0.002260, rho=0.223607\n",
      "2022-07-17 13:21:23,144 : INFO : PROGRESS: pass 19, at document #2935/2935\n",
      "2022-07-17 13:21:23,590 : INFO : optimized alpha [0.050763324, 0.03077466, 0.032193363, 0.044388495, 0.03963948]\n",
      "2022-07-17 13:21:23,596 : INFO : topic #0 (0.051): 0.008*\"tell\" + 0.008*\"year\" + 0.008*\"work\" + 0.007*\"think\" + 0.007*\"go\" + 0.007*\"time\" + 0.007*\"know\" + 0.007*\"day\" + 0.007*\"wife\" + 0.006*\"home\"\n",
      "2022-07-17 13:21:23,597 : INFO : topic #1 (0.031): 0.009*\"wife\" + 0.008*\"like\" + 0.007*\"work\" + 0.007*\"think\" + 0.006*\"year\" + 0.005*\"go\" + 0.005*\"car\" + 0.004*\"use\" + 0.004*\"time\" + 0.004*\"start\"\n",
      "2022-07-17 13:21:23,597 : INFO : topic #2 (0.032): 0.011*\"year_old\" + 0.008*\"year\" + 0.006*\"day\" + 0.006*\"time\" + 0.005*\"know\" + 0.005*\"old\" + 0.005*\"say\" + 0.005*\"wife\" + 0.005*\"buy\" + 0.005*\"tell\"\n",
      "2022-07-17 13:21:23,598 : INFO : topic #3 (0.044): 0.022*\"year_ago\" + 0.015*\"year\" + 0.009*\"think\" + 0.008*\"ago\" + 0.008*\"like\" + 0.008*\"work\" + 0.007*\"get\" + 0.007*\"go\" + 0.007*\"leave\" + 0.006*\"day\"\n",
      "2022-07-17 13:21:23,599 : INFO : topic #4 (0.040): 0.010*\"work\" + 0.010*\"day\" + 0.008*\"go\" + 0.007*\"get\" + 0.007*\"year\" + 0.006*\"tell\" + 0.006*\"like\" + 0.006*\"amp\" + 0.005*\"time\" + 0.005*\"look\"\n",
      "2022-07-17 13:21:23,599 : INFO : topic diff=0.002084, rho=0.218218\n",
      "2022-07-17 13:21:23,604 : INFO : LdaModel lifecycle event {'msg': 'trained LdaModel<num_terms=7880, num_topics=5, decay=0.5, chunksize=4000> in 10.83s', 'datetime': '2022-07-17T13:21:23.604576', 'gensim': '4.2.0', 'python': '3.8.5 (default, Sep  4 2020, 07:30:14) \\n[GCC 7.3.0]', 'platform': 'Linux-5.15.0-41-generic-x86_64-with-glibc2.10', 'event': 'created'}\n"
     ]
    }
   ],
   "source": [
    "# Set training parameters.\n",
    "num_topics = 5\n",
    "# Changed this to 4000 to cover all the docs as they are short and fit in memory\n",
    "chunksize = 4000\n",
    "passes = 20\n",
    "iterations = 400\n",
    "eval_every = None  # Don't evaluate model perplexity, takes too much time.\n",
    "\n",
    "# Make an index to word dictionary.\n",
    "temp = dictionary[0]  # This is only to \"load\" the dictionary.\n",
    "id2word = dictionary.id2token\n",
    "\n",
    "model_5_topics = LdaModel(\n",
    "    corpus=corpus,\n",
    "    id2word=id2word,\n",
    "    chunksize=chunksize,\n",
    "    alpha='auto',\n",
    "    eta='auto',\n",
    "    iterations=iterations,\n",
    "    num_topics=num_topics,\n",
    "    passes=passes,\n",
    "    eval_every=eval_every\n",
    ")"
   ]
  },
  {
   "cell_type": "code",
   "execution_count": 75,
   "id": "40fce233-5b29-48fa-a6ef-f8ec5e6e9a39",
   "metadata": {},
   "outputs": [
    {
     "name": "stderr",
     "output_type": "stream",
     "text": [
      "2022-07-17 13:22:22,879 : INFO : CorpusAccumulator accumulated stats from 1000 documents\n",
      "2022-07-17 13:22:22,885 : INFO : CorpusAccumulator accumulated stats from 2000 documents\n"
     ]
    },
    {
     "name": "stdout",
     "output_type": "stream",
     "text": [
      "Average topic coherence: -2.9864.\n",
      "[([(0.008401592, 'tell'),\n",
      "   (0.008329867, 'year'),\n",
      "   (0.008311955, 'work'),\n",
      "   (0.007281114, 'think'),\n",
      "   (0.007266619, 'go'),\n",
      "   (0.0070023243, 'time'),\n",
      "   (0.0069170464, 'know'),\n",
      "   (0.00687769, 'day'),\n",
      "   (0.00666528, 'wife'),\n",
      "   (0.006061705, 'home'),\n",
      "   (0.005939274, 'get'),\n",
      "   (0.005651907, 'like'),\n",
      "   (0.005285475, 'year_old'),\n",
      "   (0.005133517, 'find'),\n",
      "   (0.005015271, 'amp'),\n",
      "   (0.005005254, 'house'),\n",
      "   (0.004826099, 'take'),\n",
      "   (0.0044314233, 'night'),\n",
      "   (0.0042268774, 'try'),\n",
      "   (0.0040393216, 'phone')],\n",
      "  -2.728030812758343),\n",
      " ([(0.008930059, 'wife'),\n",
      "   (0.007814125, 'like'),\n",
      "   (0.0072308853, 'work'),\n",
      "   (0.006624984, 'think'),\n",
      "   (0.0060265507, 'year'),\n",
      "   (0.00536799, 'go'),\n",
      "   (0.005007619, 'car'),\n",
      "   (0.0043887445, 'use'),\n",
      "   (0.004222545, 'time'),\n",
      "   (0.004213434, 'start'),\n",
      "   (0.0041473834, 'send'),\n",
      "   (0.0036247184, 'ask'),\n",
      "   (0.003500393, 'know'),\n",
      "   (0.003343804, 'tell'),\n",
      "   (0.0030987775, 'get'),\n",
      "   (0.0030883746, 'good'),\n",
      "   (0.003080703, 'kid'),\n",
      "   (0.0029400957, 'amp'),\n",
      "   (0.0028622886, 'month'),\n",
      "   (0.0028180727, 'buy')],\n",
      "  -2.759747331787899),\n",
      " ([(0.010239913, 'work'),\n",
      "   (0.009572877, 'day'),\n",
      "   (0.008077529, 'go'),\n",
      "   (0.006966623, 'get'),\n",
      "   (0.006849951, 'year'),\n",
      "   (0.0063736527, 'tell'),\n",
      "   (0.0058485856, 'like'),\n",
      "   (0.005536942, 'amp'),\n",
      "   (0.005243062, 'time'),\n",
      "   (0.00493139, 'look'),\n",
      "   (0.004786387, 'find'),\n",
      "   (0.004594486, 'year_old'),\n",
      "   (0.0045864834, 'wife'),\n",
      "   (0.004580337, 'ask'),\n",
      "   (0.0044023013, 'watch'),\n",
      "   (0.004366576, 'week'),\n",
      "   (0.004252715, 'think'),\n",
      "   (0.004246039, 'want'),\n",
      "   (0.00423951, '£'),\n",
      "   (0.0040570134, 'night')],\n",
      "  -2.8497464644207047),\n",
      " ([(0.02176013, 'year_ago'),\n",
      "   (0.014737663, 'year'),\n",
      "   (0.009035622, 'think'),\n",
      "   (0.008419798, 'ago'),\n",
      "   (0.008113555, 'like'),\n",
      "   (0.008113484, 'work'),\n",
      "   (0.0074969796, 'get'),\n",
      "   (0.0066902535, 'go'),\n",
      "   (0.0065054824, 'leave'),\n",
      "   (0.0060818214, 'day'),\n",
      "   (0.0054992577, 'feel_guilty'),\n",
      "   (0.005251477, 'time'),\n",
      "   (0.004909743, 'wife'),\n",
      "   (0.0048429696, 'look'),\n",
      "   (0.0046849777, 'look_like'),\n",
      "   (0.004495545, 'feel'),\n",
      "   (0.0043960405, 'tell'),\n",
      "   (0.0042528845, 'find'),\n",
      "   (0.0042447452, '£'),\n",
      "   (0.0038029803, 'turn')],\n",
      "  -3.146099611236598),\n",
      " ([(0.011330762, 'year_old'),\n",
      "   (0.008422675, 'year'),\n",
      "   (0.0061689056, 'day'),\n",
      "   (0.005707351, 'time'),\n",
      "   (0.005432624, 'know'),\n",
      "   (0.005407449, 'old'),\n",
      "   (0.0051111192, 'say'),\n",
      "   (0.0050644027, 'wife'),\n",
      "   (0.0048228395, 'buy'),\n",
      "   (0.004798265, 'tell'),\n",
      "   (0.0036880372, 'get'),\n",
      "   (0.003515584, '£'),\n",
      "   (0.0035130638, 'think'),\n",
      "   (0.0035050146, 'come'),\n",
      "   (0.0034465785, 'eat'),\n",
      "   (0.0034371852, 'month'),\n",
      "   (0.0033767195, 'look_like'),\n",
      "   (0.0033334938, 'look'),\n",
      "   (0.0033194737, 'need'),\n",
      "   (0.0032972964, 'people')],\n",
      "  -3.4485575181763757)]\n"
     ]
    }
   ],
   "source": [
    "top_topics = model_5_topics.top_topics(corpus)\n",
    "\n",
    "# Average topic coherence is the sum of topic coherences of all topics, divided by the number of topics.\n",
    "avg_topic_coherence = sum([t[1] for t in top_topics]) / num_topics\n",
    "print('Average topic coherence: %.4f.' % avg_topic_coherence)\n",
    "\n",
    "from pprint import pprint\n",
    "pprint(top_topics)"
   ]
  },
  {
   "cell_type": "markdown",
   "id": "6e66e446-33ff-48b8-955f-a3e984860c0c",
   "metadata": {},
   "source": [
    "## Clustering with Spacy & Scikit Learn\n",
    "\n",
    "Now we can try some clustering approaches instead."
   ]
  },
  {
   "cell_type": "code",
   "execution_count": 98,
   "id": "787b6118-e6d6-409d-a8cb-96e331f48efe",
   "metadata": {},
   "outputs": [],
   "source": [
    "# Tweaked this to also remove numbers\n",
    "\n",
    "def spacy_tokenizer(doc):\n",
    "    spacy_doc = nlp(doc)\n",
    "    tokens = [token.lemma_.lower() for token in spacy_doc if (\n",
    "        token.is_alpha == True and \\\n",
    "        token.like_num == False and \\\n",
    "        token.is_stop == False and \\\n",
    "        token.is_punct == False and \\\n",
    "        token.lemma_.strip()!= '')]\n",
    "    return tokens"
   ]
  },
  {
   "cell_type": "code",
   "execution_count": 99,
   "id": "19ecf990-7c2c-4b03-b9b7-1441b268ca38",
   "metadata": {},
   "outputs": [],
   "source": [
    "from sklearn.feature_extraction.text import TfidfVectorizer"
   ]
  },
  {
   "cell_type": "code",
   "execution_count": 100,
   "id": "b0297ed9-9af1-4ba0-9bc5-9d641017c1eb",
   "metadata": {},
   "outputs": [],
   "source": [
    "# Create a vectoriser for the tweet docs\n",
    "tfidf_vectorizer = TfidfVectorizer(input = 'content', tokenizer = spacy_tokenizer)"
   ]
  },
  {
   "cell_type": "code",
   "execution_count": 101,
   "id": "b66c110d-74c3-4eb6-bb6c-e81c7277691b",
   "metadata": {},
   "outputs": [],
   "source": [
    "result = tfidf_vectorizer.fit_transform(cleaned_data)"
   ]
  },
  {
   "cell_type": "code",
   "execution_count": 102,
   "id": "89f151ee-4de5-4a81-a3aa-30bb648d925b",
   "metadata": {},
   "outputs": [
    {
     "data": {
      "text/plain": [
       "<2935x7518 sparse matrix of type '<class 'numpy.float64'>'\n",
       "\twith 46967 stored elements in Compressed Sparse Row format>"
      ]
     },
     "execution_count": 102,
     "metadata": {},
     "output_type": "execute_result"
    }
   ],
   "source": [
    "result"
   ]
  },
  {
   "cell_type": "code",
   "execution_count": 103,
   "id": "d1bb3c83-81df-4de6-beff-08f66179e4cc",
   "metadata": {},
   "outputs": [
    {
     "data": {
      "text/plain": [
       "array(['aback', 'abandon', 'abdul', 'aberystwyth', 'abject', 'able',\n",
       "       'abnormally', 'abomination', 'abortion', 'abroad', 'absence',\n",
       "       'absent', 'absentmindedly', 'absolute', 'absolutely', 'abuse',\n",
       "       'abusive', 'ac', 'academic', 'acc', 'accent', 'accept',\n",
       "       'acceptable', 'acceptance', 'access', 'accessible', 'accident',\n",
       "       'accidentally', 'accidently', 'accompanying', 'accomplice',\n",
       "       'accomplishment', 'accord', 'account', 'accountancy', 'accountant',\n",
       "       'accounting', 'accuse', 'ache', 'acheive', 'achieve',\n",
       "       'achievement', 'acknowledge', 'acoustic', 'acquaintance',\n",
       "       'acquire', 'acrimonious', 'acrostic', 'act', 'acting', 'action',\n",
       "       'activate', 'actively', 'activity', 'actor', 'actress', 'actual',\n",
       "       'actually', 'ad', 'add', 'addicted', 'addiction', 'addition',\n",
       "       'additional', 'address', 'addressee', 'adhesive', 'adjacent',\n",
       "       'adjective', 'adjourn', 'adjust', 'admin', 'administer',\n",
       "       'administration', 'admire', 'admiring', 'admission', 'admit',\n",
       "       'adolf', 'adopt', 'adore', 'adrenaline', 'adrian', 'adric',\n",
       "       'adult', 'adultwork', 'advance', 'advantage', 'advent',\n",
       "       'adventure', 'adverb', 'advert', 'adverting', 'advertise',\n",
       "       'advertiser', 'advertising', 'advice', 'advise', 'aeroplane',\n",
       "       'aerosol', 'af', 'affair', 'affect', 'affection', 'affectionate',\n",
       "       'affluent', 'afford', 'afraid', 'africa', 'african', 'afterburner',\n",
       "       'afterlife', 'afternoon', 'aftershave', 'age', 'aged', 'agency',\n",
       "       'agenda', 'agent', 'aggressive', 'aggressively', 'agianst', 'ago',\n",
       "       'agonise', 'agony', 'agree', 'ah', 'ahead', 'ai', 'aid', 'aider',\n",
       "       'aim', 'ainsley', 'air', 'airbag', 'airbnb', 'airdrop', 'airline',\n",
       "       'airlines', 'airplane', 'airpod', 'airport', 'airways', 'aisle',\n",
       "       'aka', 'al', 'alan', 'alarm', 'albeit', 'albion', 'album',\n",
       "       'alcohol', 'alcoholic', 'aldi', 'alert', 'alexa', 'alfresco',\n",
       "       'algorithm', 'alien', 'alight', 'alive', 'allan', 'allegedly',\n",
       "       'allergic', 'allergy', 'alleyway', 'allocation', 'allow',\n",
       "       'allowance', 'almighty', 'aloft', 'alongside', 'alopecia', 'alot',\n",
       "       'aloud', 'alphabet', 'alright', 'altar', 'alter', 'alteration',\n",
       "       'alternate', 'alton', 'amanda', 'amass', 'amateur', 'amazed',\n",
       "       'amazing', 'amazon', 'amazonian', 'amble', 'ambulance', 'america',\n",
       "       'american', 'americano', 'americans', 'amicably', 'amount', 'amp',\n",
       "       'amphetamine', 'amuse', 'amusement', 'amusementpark', 'amusing',\n",
       "       'anaesthetic', 'anagram', 'anal', 'anally', 'analyse', 'analyst',\n",
       "       'anarchy', 'ancient', 'anderton', 'andorran', 'andre',\n",
       "       'androgynous', 'anecdote', 'anger', 'angle', 'angrier', 'angrily',\n",
       "       'angry', 'angus', 'animal', 'ankle', 'anniversary', 'announce',\n",
       "       'announcer', 'annoy', 'annoyed', 'annoying', 'annual', 'annually',\n",
       "       'anodyne', 'anomalous', 'anon', 'anonymous', 'anonymously', 'anpr',\n",
       "       'answer', 'answerphone', 'ant', 'anti', 'antibiotic', 'antic',\n",
       "       'anticipate', 'antidepressant', 'antiemetic', 'antique',\n",
       "       'antiques', 'anus', 'anxiety', 'anybody', 'anymore', 'anytime',\n",
       "       'anyways', 'aol', 'apart', 'apartment', 'apocalypse', 'apollo',\n",
       "       'apologetic', 'apologise', 'apology', 'app', 'appal', 'appalling',\n",
       "       'apparent', 'apparently', 'appeal', 'appear', 'appearance',\n",
       "       'appendicitis', 'appendix', 'apperance', 'apple', 'applicant',\n",
       "       'application', 'apply', 'appointment', 'appraisal', 'appreciate',\n",
       "       'approach', 'appropriate', 'appropriately', 'approve', 'approx',\n",
       "       'april', 'arbitrary', 'arcade', 'archaeologist', 'archer',\n",
       "       'architectural', 'archive', 'archway', 'area', 'argh', 'argos',\n",
       "       'argue', 'arguement', 'argument', 'argumentative', 'arie',\n",
       "       'aristocracy', 'arm', 'armageddon', 'armed', 'army', 'arouse',\n",
       "       'arrange', 'arrangement', 'arrear', 'arrest', 'arrival', 'arrive',\n",
       "       'arrogance', 'arrogant', 'arse', 'arsedly', 'arseface', 'arsehole',\n",
       "       'arsenal', 'arsewipe', 'arsis', 'art', 'arthur', 'article',\n",
       "       'artist', 'asap', 'ascertain', 'asda', 'ash', 'ashamed', 'ashe',\n",
       "       'asian', 'aside', 'ask', 'asleep', 'asmr', 'asparagus', 'ass',\n",
       "       'assault', 'assembly', 'assessment', 'asset', 'asshole', 'assign',\n",
       "       'assignment', 'assistance', 'assistant', 'assisted', 'associate',\n",
       "       'assorted', 'assume', 'assure', 'asterix', 'aston',\n",
       "       'astonishingly', 'astronaut', 'atheist', 'athletic', 'atmosphere',\n",
       "       'atrocious', 'attach', 'attachment', 'attack', 'attempt', 'attend',\n",
       "       'attendance', 'attendant', 'attention', 'attentiveness', 'attic',\n",
       "       'attitude', 'attract', 'attraction', 'attractive', 'auction',\n",
       "       'audacity', 'audi', 'audience', 'audio', 'audit', 'audition',\n",
       "       'auditor', 'august', 'auntie', 'aunty', 'auschwitz', 'author',\n",
       "       'authorise', 'authority', 'autism', 'autistic', 'autobiography',\n",
       "       'autocorrect', 'autocorrecte', 'autofill', 'autograph',\n",
       "       'autographed', 'automate', 'automatic', 'automatically',\n",
       "       'autosave', 'aux', 'availability', 'available', 'average',\n",
       "       'averse', 'avid', 'avoid', 'aw', 'await', 'awake', 'award',\n",
       "       'aware', 'away', 'awe', 'awesome', 'awful', 'awkward', 'awkwardly',\n",
       "       'awkwardness', 'awww', 'ayer', 'azura', 'b', 'babe', 'baby',\n",
       "       'babybel', 'babysat', 'back', 'background', 'backlit',\n",
       "       'backscratcher', 'backside', 'backwards', 'bacon', 'bacterial',\n",
       "       'bad', 'badge', 'badger', 'badly', 'bag', 'bail', 'bailey', 'bake',\n",
       "       'baked', 'baker', 'bakery', 'balance', 'balcony', 'bald', 'bale',\n",
       "       'ball', 'ballad', 'ballet', 'ballistic', 'balloon', 'ban',\n",
       "       'banana', 'bananas', 'band', 'bandwidth', 'bang', 'banjo', 'bank',\n",
       "       'banking', 'bankrupt', 'bankruptcy', 'banner', 'banter', 'baptise',\n",
       "       'bar', 'barb', 'barber', 'barbie', 'barcode', 'bare', 'barely',\n",
       "       'bargain', 'barista', 'bark', 'barnardo', 'barnet', 'barnsley',\n",
       "       'barold', 'barry', 'base', 'basic', 'basically', 'basin', 'basis',\n",
       "       'bask', 'basket', 'bass', 'bassist', 'bastard', 'bat', 'batch',\n",
       "       'bath'], dtype=object)"
      ]
     },
     "execution_count": 103,
     "metadata": {},
     "output_type": "execute_result"
    }
   ],
   "source": [
    "features = tfidf_vectorizer.get_feature_names_out(); features[0:500]"
   ]
  },
  {
   "cell_type": "code",
   "execution_count": 104,
   "id": "07c19d84-f66d-4a53-9c4f-fcbda33706df",
   "metadata": {},
   "outputs": [],
   "source": [
    "dense = result.todense()\n",
    "denselist = dense.tolist()\n",
    "df = pd.DataFrame(\n",
    "    denselist,columns=tfidf_vectorizer.get_feature_names_out())"
   ]
  },
  {
   "cell_type": "code",
   "execution_count": 106,
   "id": "5bcc4ca8-ceec-439f-802b-7e805a8e58ea",
   "metadata": {},
   "outputs": [
    {
     "data": {
      "text/html": [
       "<div>\n",
       "<style scoped>\n",
       "    .dataframe tbody tr th:only-of-type {\n",
       "        vertical-align: middle;\n",
       "    }\n",
       "\n",
       "    .dataframe tbody tr th {\n",
       "        vertical-align: top;\n",
       "    }\n",
       "\n",
       "    .dataframe thead th {\n",
       "        text-align: right;\n",
       "    }\n",
       "</style>\n",
       "<table border=\"1\" class=\"dataframe\">\n",
       "  <thead>\n",
       "    <tr style=\"text-align: right;\">\n",
       "      <th></th>\n",
       "      <th>aback</th>\n",
       "      <th>abandon</th>\n",
       "      <th>abdul</th>\n",
       "      <th>aberystwyth</th>\n",
       "      <th>abject</th>\n",
       "      <th>able</th>\n",
       "      <th>abnormally</th>\n",
       "      <th>abomination</th>\n",
       "      <th>abortion</th>\n",
       "      <th>abroad</th>\n",
       "      <th>...</th>\n",
       "      <th>zebra</th>\n",
       "      <th>zelda</th>\n",
       "      <th>zesty</th>\n",
       "      <th>ziplock</th>\n",
       "      <th>zit</th>\n",
       "      <th>zombie</th>\n",
       "      <th>zone</th>\n",
       "      <th>zoo</th>\n",
       "      <th>zoom</th>\n",
       "      <th>zx</th>\n",
       "    </tr>\n",
       "  </thead>\n",
       "  <tbody>\n",
       "    <tr>\n",
       "      <th>0</th>\n",
       "      <td>0.0</td>\n",
       "      <td>0.0</td>\n",
       "      <td>0.0</td>\n",
       "      <td>0.0</td>\n",
       "      <td>0.0</td>\n",
       "      <td>0.000000</td>\n",
       "      <td>0.0</td>\n",
       "      <td>0.0</td>\n",
       "      <td>0.0</td>\n",
       "      <td>0.0</td>\n",
       "      <td>...</td>\n",
       "      <td>0.0</td>\n",
       "      <td>0.0</td>\n",
       "      <td>0.0</td>\n",
       "      <td>0.0</td>\n",
       "      <td>0.0</td>\n",
       "      <td>0.0</td>\n",
       "      <td>0.0</td>\n",
       "      <td>0.0</td>\n",
       "      <td>0.0</td>\n",
       "      <td>0.0</td>\n",
       "    </tr>\n",
       "    <tr>\n",
       "      <th>1</th>\n",
       "      <td>0.0</td>\n",
       "      <td>0.0</td>\n",
       "      <td>0.0</td>\n",
       "      <td>0.0</td>\n",
       "      <td>0.0</td>\n",
       "      <td>0.000000</td>\n",
       "      <td>0.0</td>\n",
       "      <td>0.0</td>\n",
       "      <td>0.0</td>\n",
       "      <td>0.0</td>\n",
       "      <td>...</td>\n",
       "      <td>0.0</td>\n",
       "      <td>0.0</td>\n",
       "      <td>0.0</td>\n",
       "      <td>0.0</td>\n",
       "      <td>0.0</td>\n",
       "      <td>0.0</td>\n",
       "      <td>0.0</td>\n",
       "      <td>0.0</td>\n",
       "      <td>0.0</td>\n",
       "      <td>0.0</td>\n",
       "    </tr>\n",
       "    <tr>\n",
       "      <th>2</th>\n",
       "      <td>0.0</td>\n",
       "      <td>0.0</td>\n",
       "      <td>0.0</td>\n",
       "      <td>0.0</td>\n",
       "      <td>0.0</td>\n",
       "      <td>0.000000</td>\n",
       "      <td>0.0</td>\n",
       "      <td>0.0</td>\n",
       "      <td>0.0</td>\n",
       "      <td>0.0</td>\n",
       "      <td>...</td>\n",
       "      <td>0.0</td>\n",
       "      <td>0.0</td>\n",
       "      <td>0.0</td>\n",
       "      <td>0.0</td>\n",
       "      <td>0.0</td>\n",
       "      <td>0.0</td>\n",
       "      <td>0.0</td>\n",
       "      <td>0.0</td>\n",
       "      <td>0.0</td>\n",
       "      <td>0.0</td>\n",
       "    </tr>\n",
       "    <tr>\n",
       "      <th>3</th>\n",
       "      <td>0.0</td>\n",
       "      <td>0.0</td>\n",
       "      <td>0.0</td>\n",
       "      <td>0.0</td>\n",
       "      <td>0.0</td>\n",
       "      <td>0.268138</td>\n",
       "      <td>0.0</td>\n",
       "      <td>0.0</td>\n",
       "      <td>0.0</td>\n",
       "      <td>0.0</td>\n",
       "      <td>...</td>\n",
       "      <td>0.0</td>\n",
       "      <td>0.0</td>\n",
       "      <td>0.0</td>\n",
       "      <td>0.0</td>\n",
       "      <td>0.0</td>\n",
       "      <td>0.0</td>\n",
       "      <td>0.0</td>\n",
       "      <td>0.0</td>\n",
       "      <td>0.0</td>\n",
       "      <td>0.0</td>\n",
       "    </tr>\n",
       "    <tr>\n",
       "      <th>4</th>\n",
       "      <td>0.0</td>\n",
       "      <td>0.0</td>\n",
       "      <td>0.0</td>\n",
       "      <td>0.0</td>\n",
       "      <td>0.0</td>\n",
       "      <td>0.000000</td>\n",
       "      <td>0.0</td>\n",
       "      <td>0.0</td>\n",
       "      <td>0.0</td>\n",
       "      <td>0.0</td>\n",
       "      <td>...</td>\n",
       "      <td>0.0</td>\n",
       "      <td>0.0</td>\n",
       "      <td>0.0</td>\n",
       "      <td>0.0</td>\n",
       "      <td>0.0</td>\n",
       "      <td>0.0</td>\n",
       "      <td>0.0</td>\n",
       "      <td>0.0</td>\n",
       "      <td>0.0</td>\n",
       "      <td>0.0</td>\n",
       "    </tr>\n",
       "    <tr>\n",
       "      <th>...</th>\n",
       "      <td>...</td>\n",
       "      <td>...</td>\n",
       "      <td>...</td>\n",
       "      <td>...</td>\n",
       "      <td>...</td>\n",
       "      <td>...</td>\n",
       "      <td>...</td>\n",
       "      <td>...</td>\n",
       "      <td>...</td>\n",
       "      <td>...</td>\n",
       "      <td>...</td>\n",
       "      <td>...</td>\n",
       "      <td>...</td>\n",
       "      <td>...</td>\n",
       "      <td>...</td>\n",
       "      <td>...</td>\n",
       "      <td>...</td>\n",
       "      <td>...</td>\n",
       "      <td>...</td>\n",
       "      <td>...</td>\n",
       "      <td>...</td>\n",
       "    </tr>\n",
       "    <tr>\n",
       "      <th>2930</th>\n",
       "      <td>0.0</td>\n",
       "      <td>0.0</td>\n",
       "      <td>0.0</td>\n",
       "      <td>0.0</td>\n",
       "      <td>0.0</td>\n",
       "      <td>0.000000</td>\n",
       "      <td>0.0</td>\n",
       "      <td>0.0</td>\n",
       "      <td>0.0</td>\n",
       "      <td>0.0</td>\n",
       "      <td>...</td>\n",
       "      <td>0.0</td>\n",
       "      <td>0.0</td>\n",
       "      <td>0.0</td>\n",
       "      <td>0.0</td>\n",
       "      <td>0.0</td>\n",
       "      <td>0.0</td>\n",
       "      <td>0.0</td>\n",
       "      <td>0.0</td>\n",
       "      <td>0.0</td>\n",
       "      <td>0.0</td>\n",
       "    </tr>\n",
       "    <tr>\n",
       "      <th>2931</th>\n",
       "      <td>0.0</td>\n",
       "      <td>0.0</td>\n",
       "      <td>0.0</td>\n",
       "      <td>0.0</td>\n",
       "      <td>0.0</td>\n",
       "      <td>0.000000</td>\n",
       "      <td>0.0</td>\n",
       "      <td>0.0</td>\n",
       "      <td>0.0</td>\n",
       "      <td>0.0</td>\n",
       "      <td>...</td>\n",
       "      <td>0.0</td>\n",
       "      <td>0.0</td>\n",
       "      <td>0.0</td>\n",
       "      <td>0.0</td>\n",
       "      <td>0.0</td>\n",
       "      <td>0.0</td>\n",
       "      <td>0.0</td>\n",
       "      <td>0.0</td>\n",
       "      <td>0.0</td>\n",
       "      <td>0.0</td>\n",
       "    </tr>\n",
       "    <tr>\n",
       "      <th>2932</th>\n",
       "      <td>0.0</td>\n",
       "      <td>0.0</td>\n",
       "      <td>0.0</td>\n",
       "      <td>0.0</td>\n",
       "      <td>0.0</td>\n",
       "      <td>0.000000</td>\n",
       "      <td>0.0</td>\n",
       "      <td>0.0</td>\n",
       "      <td>0.0</td>\n",
       "      <td>0.0</td>\n",
       "      <td>...</td>\n",
       "      <td>0.0</td>\n",
       "      <td>0.0</td>\n",
       "      <td>0.0</td>\n",
       "      <td>0.0</td>\n",
       "      <td>0.0</td>\n",
       "      <td>0.0</td>\n",
       "      <td>0.0</td>\n",
       "      <td>0.0</td>\n",
       "      <td>0.0</td>\n",
       "      <td>0.0</td>\n",
       "    </tr>\n",
       "    <tr>\n",
       "      <th>2933</th>\n",
       "      <td>0.0</td>\n",
       "      <td>0.0</td>\n",
       "      <td>0.0</td>\n",
       "      <td>0.0</td>\n",
       "      <td>0.0</td>\n",
       "      <td>0.000000</td>\n",
       "      <td>0.0</td>\n",
       "      <td>0.0</td>\n",
       "      <td>0.0</td>\n",
       "      <td>0.0</td>\n",
       "      <td>...</td>\n",
       "      <td>0.0</td>\n",
       "      <td>0.0</td>\n",
       "      <td>0.0</td>\n",
       "      <td>0.0</td>\n",
       "      <td>0.0</td>\n",
       "      <td>0.0</td>\n",
       "      <td>0.0</td>\n",
       "      <td>0.0</td>\n",
       "      <td>0.0</td>\n",
       "      <td>0.0</td>\n",
       "    </tr>\n",
       "    <tr>\n",
       "      <th>2934</th>\n",
       "      <td>0.0</td>\n",
       "      <td>0.0</td>\n",
       "      <td>0.0</td>\n",
       "      <td>0.0</td>\n",
       "      <td>0.0</td>\n",
       "      <td>0.000000</td>\n",
       "      <td>0.0</td>\n",
       "      <td>0.0</td>\n",
       "      <td>0.0</td>\n",
       "      <td>0.0</td>\n",
       "      <td>...</td>\n",
       "      <td>0.0</td>\n",
       "      <td>0.0</td>\n",
       "      <td>0.0</td>\n",
       "      <td>0.0</td>\n",
       "      <td>0.0</td>\n",
       "      <td>0.0</td>\n",
       "      <td>0.0</td>\n",
       "      <td>0.0</td>\n",
       "      <td>0.0</td>\n",
       "      <td>0.0</td>\n",
       "    </tr>\n",
       "  </tbody>\n",
       "</table>\n",
       "<p>2935 rows × 7518 columns</p>\n",
       "</div>"
      ],
      "text/plain": [
       "      aback  abandon  abdul  aberystwyth  abject      able  abnormally  \\\n",
       "0       0.0      0.0    0.0          0.0     0.0  0.000000         0.0   \n",
       "1       0.0      0.0    0.0          0.0     0.0  0.000000         0.0   \n",
       "2       0.0      0.0    0.0          0.0     0.0  0.000000         0.0   \n",
       "3       0.0      0.0    0.0          0.0     0.0  0.268138         0.0   \n",
       "4       0.0      0.0    0.0          0.0     0.0  0.000000         0.0   \n",
       "...     ...      ...    ...          ...     ...       ...         ...   \n",
       "2930    0.0      0.0    0.0          0.0     0.0  0.000000         0.0   \n",
       "2931    0.0      0.0    0.0          0.0     0.0  0.000000         0.0   \n",
       "2932    0.0      0.0    0.0          0.0     0.0  0.000000         0.0   \n",
       "2933    0.0      0.0    0.0          0.0     0.0  0.000000         0.0   \n",
       "2934    0.0      0.0    0.0          0.0     0.0  0.000000         0.0   \n",
       "\n",
       "      abomination  abortion  abroad  ...  zebra  zelda  zesty  ziplock  zit  \\\n",
       "0             0.0       0.0     0.0  ...    0.0    0.0    0.0      0.0  0.0   \n",
       "1             0.0       0.0     0.0  ...    0.0    0.0    0.0      0.0  0.0   \n",
       "2             0.0       0.0     0.0  ...    0.0    0.0    0.0      0.0  0.0   \n",
       "3             0.0       0.0     0.0  ...    0.0    0.0    0.0      0.0  0.0   \n",
       "4             0.0       0.0     0.0  ...    0.0    0.0    0.0      0.0  0.0   \n",
       "...           ...       ...     ...  ...    ...    ...    ...      ...  ...   \n",
       "2930          0.0       0.0     0.0  ...    0.0    0.0    0.0      0.0  0.0   \n",
       "2931          0.0       0.0     0.0  ...    0.0    0.0    0.0      0.0  0.0   \n",
       "2932          0.0       0.0     0.0  ...    0.0    0.0    0.0      0.0  0.0   \n",
       "2933          0.0       0.0     0.0  ...    0.0    0.0    0.0      0.0  0.0   \n",
       "2934          0.0       0.0     0.0  ...    0.0    0.0    0.0      0.0  0.0   \n",
       "\n",
       "      zombie  zone  zoo  zoom   zx  \n",
       "0        0.0   0.0  0.0   0.0  0.0  \n",
       "1        0.0   0.0  0.0   0.0  0.0  \n",
       "2        0.0   0.0  0.0   0.0  0.0  \n",
       "3        0.0   0.0  0.0   0.0  0.0  \n",
       "4        0.0   0.0  0.0   0.0  0.0  \n",
       "...      ...   ...  ...   ...  ...  \n",
       "2930     0.0   0.0  0.0   0.0  0.0  \n",
       "2931     0.0   0.0  0.0   0.0  0.0  \n",
       "2932     0.0   0.0  0.0   0.0  0.0  \n",
       "2933     0.0   0.0  0.0   0.0  0.0  \n",
       "2934     0.0   0.0  0.0   0.0  0.0  \n",
       "\n",
       "[2935 rows x 7518 columns]"
      ]
     },
     "execution_count": 106,
     "metadata": {},
     "output_type": "execute_result"
    }
   ],
   "source": [
    "df"
   ]
  },
  {
   "cell_type": "code",
   "execution_count": 71,
   "id": "3758f3d0-38d9-4bb5-92a5-f4dd335b4dda",
   "metadata": {},
   "outputs": [
    {
     "name": "stderr",
     "output_type": "stream",
     "text": [
      "2022-07-17 12:24:36,631 : INFO : using autotuned alpha, starting with [0.1, 0.1, 0.1, 0.1, 0.1, 0.1, 0.1, 0.1, 0.1, 0.1]\n",
      "2022-07-17 12:24:36,633 : INFO : using serial LDA version on this node\n",
      "2022-07-17 12:24:36,638 : INFO : running online (multi-pass) LDA training, 10 topics, 20 passes over the supplied corpus of 2935 documents, updating model once every 2935 documents, evaluating perplexity every 0 documents, iterating 400x with a convergence threshold of 0.001000\n",
      "2022-07-17 12:24:36,639 : INFO : PROGRESS: pass 0, at document #2935/2935\n",
      "2022-07-17 12:24:37,934 : INFO : optimized alpha [0.07004665, 0.07151671, 0.07835673, 0.07398079, 0.080541484, 0.07157614, 0.07575834, 0.07633582, 0.083537795, 0.07283665]\n",
      "2022-07-17 12:24:37,938 : INFO : topic #0 (0.070): 0.009*\"go\" + 0.009*\"like\" + 0.007*\"time\" + 0.006*\"try\" + 0.006*\"year\" + 0.006*\"year_old\" + 0.006*\"day\" + 0.005*\"wife\" + 0.005*\"buy\" + 0.005*\"tell\"\n",
      "2022-07-17 12:24:37,939 : INFO : topic #1 (0.072): 0.009*\"year\" + 0.008*\"day\" + 0.007*\"like\" + 0.007*\"leave\" + 0.006*\"work\" + 0.006*\"know\" + 0.006*\"buy\" + 0.005*\"think\" + 0.005*\"find\" + 0.005*\"people\"\n",
      "2022-07-17 12:24:37,940 : INFO : topic #2 (0.078): 0.018*\"year_ago\" + 0.012*\"year\" + 0.009*\"day\" + 0.009*\"work\" + 0.008*\"know\" + 0.007*\"find\" + 0.007*\"ago\" + 0.006*\"tell\" + 0.006*\"husband\" + 0.005*\"get\"\n",
      "2022-07-17 12:24:37,940 : INFO : topic #4 (0.081): 0.015*\"year_old\" + 0.012*\"think\" + 0.011*\"year\" + 0.009*\"wife\" + 0.008*\"work\" + 0.007*\"old\" + 0.007*\"get\" + 0.007*\"look\" + 0.007*\"take\" + 0.006*\"day\"\n",
      "2022-07-17 12:24:37,941 : INFO : topic #8 (0.084): 0.011*\"time\" + 0.011*\"year\" + 0.011*\"go\" + 0.009*\"amp\" + 0.009*\"tell\" + 0.009*\"like\" + 0.008*\"work\" + 0.007*\"buy\" + 0.007*\"think\" + 0.006*\"year_old\"\n",
      "2022-07-17 12:24:37,941 : INFO : topic diff=7.304484, rho=1.000000\n",
      "2022-07-17 12:24:37,946 : INFO : PROGRESS: pass 1, at document #2935/2935\n",
      "2022-07-17 12:24:38,449 : INFO : optimized alpha [0.06111791, 0.06281461, 0.07095556, 0.0655614, 0.07386751, 0.0628397, 0.067716844, 0.06880376, 0.07698126, 0.064429805]\n",
      "2022-07-17 12:24:38,454 : INFO : topic #0 (0.061): 0.010*\"go\" + 0.009*\"like\" + 0.007*\"time\" + 0.006*\"try\" + 0.006*\"day\" + 0.006*\"wife\" + 0.006*\"year\" + 0.005*\"year_old\" + 0.005*\"buy\" + 0.005*\"tell\"\n",
      "2022-07-17 12:24:38,455 : INFO : topic #5 (0.063): 0.010*\"year\" + 0.009*\"know\" + 0.008*\"wife\" + 0.007*\"think\" + 0.006*\"work\" + 0.005*\"amp\" + 0.005*\"go\" + 0.005*\"get\" + 0.004*\"day\" + 0.004*\"buy\"\n",
      "2022-07-17 12:24:38,456 : INFO : topic #2 (0.071): 0.020*\"year_ago\" + 0.012*\"year\" + 0.009*\"day\" + 0.008*\"work\" + 0.008*\"know\" + 0.007*\"ago\" + 0.007*\"find\" + 0.006*\"tell\" + 0.006*\"husband\" + 0.005*\"start\"\n",
      "2022-07-17 12:24:38,457 : INFO : topic #4 (0.074): 0.017*\"year_old\" + 0.012*\"think\" + 0.011*\"year\" + 0.009*\"wife\" + 0.008*\"work\" + 0.008*\"old\" + 0.007*\"get\" + 0.007*\"look\" + 0.007*\"take\" + 0.006*\"time\"\n",
      "2022-07-17 12:24:38,458 : INFO : topic #8 (0.077): 0.012*\"time\" + 0.011*\"year\" + 0.011*\"go\" + 0.010*\"amp\" + 0.009*\"tell\" + 0.009*\"like\" + 0.008*\"work\" + 0.007*\"think\" + 0.007*\"buy\" + 0.006*\"year_old\"\n",
      "2022-07-17 12:24:38,458 : INFO : topic diff=0.019635, rho=0.577350\n",
      "2022-07-17 12:24:38,463 : INFO : PROGRESS: pass 2, at document #2935/2935\n",
      "2022-07-17 12:24:38,929 : INFO : optimized alpha [0.055107363, 0.056902703, 0.06580331, 0.05976928, 0.069153845, 0.056896202, 0.06213093, 0.06356101, 0.07221837, 0.05866365]\n",
      "2022-07-17 12:24:38,934 : INFO : topic #0 (0.055): 0.010*\"go\" + 0.009*\"like\" + 0.008*\"time\" + 0.006*\"wife\" + 0.006*\"try\" + 0.006*\"day\" + 0.005*\"year\" + 0.005*\"buy\" + 0.005*\"spend\" + 0.005*\"tell\"\n",
      "2022-07-17 12:24:38,935 : INFO : topic #5 (0.057): 0.010*\"year\" + 0.008*\"know\" + 0.008*\"wife\" + 0.007*\"think\" + 0.006*\"work\" + 0.005*\"amp\" + 0.005*\"go\" + 0.005*\"get\" + 0.004*\"day\" + 0.004*\"make\"\n",
      "2022-07-17 12:24:38,935 : INFO : topic #2 (0.066): 0.023*\"year_ago\" + 0.013*\"year\" + 0.009*\"day\" + 0.008*\"work\" + 0.008*\"ago\" + 0.008*\"know\" + 0.007*\"find\" + 0.006*\"husband\" + 0.006*\"tell\" + 0.006*\"wife\"\n",
      "2022-07-17 12:24:38,936 : INFO : topic #4 (0.069): 0.019*\"year_old\" + 0.012*\"think\" + 0.012*\"year\" + 0.009*\"wife\" + 0.009*\"old\" + 0.008*\"work\" + 0.007*\"get\" + 0.007*\"look\" + 0.007*\"take\" + 0.006*\"time\"\n",
      "2022-07-17 12:24:38,937 : INFO : topic #8 (0.072): 0.012*\"time\" + 0.011*\"go\" + 0.011*\"year\" + 0.010*\"amp\" + 0.009*\"tell\" + 0.009*\"like\" + 0.008*\"work\" + 0.007*\"buy\" + 0.006*\"think\" + 0.006*\"look_like\"\n",
      "2022-07-17 12:24:38,937 : INFO : topic diff=0.019947, rho=0.500000\n",
      "2022-07-17 12:24:38,943 : INFO : PROGRESS: pass 3, at document #2935/2935\n",
      "2022-07-17 12:24:39,401 : INFO : optimized alpha [0.050653625, 0.052497376, 0.061889105, 0.05543357, 0.06555458, 0.052479755, 0.057939485, 0.059573233, 0.06846485, 0.054374177]\n",
      "2022-07-17 12:24:39,405 : INFO : topic #0 (0.051): 0.010*\"go\" + 0.009*\"like\" + 0.008*\"time\" + 0.006*\"wife\" + 0.006*\"try\" + 0.006*\"day\" + 0.005*\"year\" + 0.005*\"buy\" + 0.005*\"spend\" + 0.005*\"tell\"\n",
      "2022-07-17 12:24:39,406 : INFO : topic #5 (0.052): 0.010*\"year\" + 0.008*\"know\" + 0.008*\"wife\" + 0.007*\"think\" + 0.006*\"work\" + 0.005*\"amp\" + 0.005*\"go\" + 0.005*\"get\" + 0.004*\"day\" + 0.004*\"make\"\n",
      "2022-07-17 12:24:39,407 : INFO : topic #2 (0.062): 0.025*\"year_ago\" + 0.013*\"year\" + 0.009*\"day\" + 0.009*\"ago\" + 0.008*\"work\" + 0.008*\"know\" + 0.007*\"find\" + 0.006*\"husband\" + 0.006*\"tell\" + 0.006*\"start\"\n",
      "2022-07-17 12:24:39,407 : INFO : topic #4 (0.066): 0.020*\"year_old\" + 0.013*\"think\" + 0.012*\"year\" + 0.009*\"old\" + 0.009*\"wife\" + 0.009*\"work\" + 0.007*\"get\" + 0.007*\"look\" + 0.007*\"take\" + 0.006*\"time\"\n",
      "2022-07-17 12:24:39,408 : INFO : topic #8 (0.068): 0.012*\"time\" + 0.011*\"go\" + 0.010*\"year\" + 0.010*\"amp\" + 0.009*\"tell\" + 0.009*\"like\" + 0.008*\"work\" + 0.007*\"buy\" + 0.007*\"look_like\" + 0.006*\"think\"\n",
      "2022-07-17 12:24:39,408 : INFO : topic diff=0.019422, rho=0.447214\n",
      "2022-07-17 12:24:39,413 : INFO : PROGRESS: pass 4, at document #2935/2935\n",
      "2022-07-17 12:24:39,859 : INFO : optimized alpha [0.04718093, 0.049047627, 0.058779605, 0.052024413, 0.062603496, 0.049038403, 0.054625027, 0.056394555, 0.06538459, 0.051034745]\n",
      "2022-07-17 12:24:39,863 : INFO : topic #0 (0.047): 0.010*\"go\" + 0.009*\"like\" + 0.008*\"time\" + 0.006*\"wife\" + 0.006*\"day\" + 0.005*\"try\" + 0.005*\"buy\" + 0.005*\"year\" + 0.005*\"spend\" + 0.005*\"tell\"\n",
      "2022-07-17 12:24:39,864 : INFO : topic #1 (0.049): 0.009*\"year\" + 0.008*\"day\" + 0.008*\"like\" + 0.007*\"leave\" + 0.006*\"buy\" + 0.006*\"work\" + 0.006*\"know\" + 0.006*\"think\" + 0.005*\"people\" + 0.005*\"love\"\n",
      "2022-07-17 12:24:39,865 : INFO : topic #2 (0.059): 0.027*\"year_ago\" + 0.014*\"year\" + 0.010*\"ago\" + 0.009*\"day\" + 0.008*\"work\" + 0.008*\"know\" + 0.007*\"find\" + 0.006*\"husband\" + 0.006*\"tell\" + 0.006*\"start\"\n",
      "2022-07-17 12:24:39,865 : INFO : topic #4 (0.063): 0.021*\"year_old\" + 0.013*\"think\" + 0.012*\"year\" + 0.010*\"old\" + 0.009*\"wife\" + 0.009*\"work\" + 0.007*\"get\" + 0.007*\"take\" + 0.007*\"look\" + 0.006*\"time\"\n",
      "2022-07-17 12:24:39,866 : INFO : topic #8 (0.065): 0.012*\"time\" + 0.011*\"go\" + 0.010*\"year\" + 0.010*\"amp\" + 0.010*\"like\" + 0.009*\"tell\" + 0.008*\"work\" + 0.007*\"look_like\" + 0.006*\"think\" + 0.006*\"buy\"\n",
      "2022-07-17 12:24:39,867 : INFO : topic diff=0.018535, rho=0.408248\n",
      "2022-07-17 12:24:39,875 : INFO : PROGRESS: pass 5, at document #2935/2935\n",
      "2022-07-17 12:24:40,317 : INFO : optimized alpha [0.044356603, 0.046245165, 0.056248613, 0.049218707, 0.06018044, 0.046235684, 0.051883683, 0.05380977, 0.06279744, 0.048305638]\n",
      "2022-07-17 12:24:40,322 : INFO : topic #0 (0.044): 0.010*\"go\" + 0.009*\"like\" + 0.008*\"time\" + 0.006*\"wife\" + 0.005*\"day\" + 0.005*\"try\" + 0.005*\"buy\" + 0.005*\"spend\" + 0.005*\"tell\" + 0.005*\"year\"\n",
      "2022-07-17 12:24:40,323 : INFO : topic #5 (0.046): 0.009*\"year\" + 0.008*\"know\" + 0.008*\"wife\" + 0.007*\"think\" + 0.006*\"work\" + 0.005*\"amp\" + 0.005*\"go\" + 0.005*\"get\" + 0.004*\"make\" + 0.004*\"day\"\n",
      "2022-07-17 12:24:40,324 : INFO : topic #2 (0.056): 0.028*\"year_ago\" + 0.014*\"year\" + 0.010*\"ago\" + 0.009*\"day\" + 0.008*\"work\" + 0.008*\"know\" + 0.007*\"find\" + 0.006*\"husband\" + 0.006*\"tell\" + 0.006*\"start\"\n",
      "2022-07-17 12:24:40,324 : INFO : topic #4 (0.060): 0.022*\"year_old\" + 0.013*\"think\" + 0.012*\"year\" + 0.010*\"old\" + 0.009*\"wife\" + 0.009*\"work\" + 0.007*\"get\" + 0.007*\"take\" + 0.007*\"look\" + 0.006*\"time\"\n",
      "2022-07-17 12:24:40,325 : INFO : topic #8 (0.063): 0.012*\"time\" + 0.011*\"go\" + 0.010*\"amp\" + 0.010*\"year\" + 0.010*\"like\" + 0.009*\"tell\" + 0.008*\"work\" + 0.007*\"look_like\" + 0.007*\"think\" + 0.006*\"buy\"\n",
      "2022-07-17 12:24:40,326 : INFO : topic diff=0.017803, rho=0.377964\n",
      "2022-07-17 12:24:40,334 : INFO : PROGRESS: pass 6, at document #2935/2935\n",
      "2022-07-17 12:24:40,786 : INFO : optimized alpha [0.0420015, 0.043906488, 0.0540972, 0.046875525, 0.058125112, 0.04390298, 0.04956036, 0.051650666, 0.060573198, 0.046010803]\n",
      "2022-07-17 12:24:40,791 : INFO : topic #0 (0.042): 0.010*\"go\" + 0.009*\"like\" + 0.008*\"time\" + 0.006*\"wife\" + 0.005*\"day\" + 0.005*\"try\" + 0.005*\"buy\" + 0.005*\"spend\" + 0.005*\"tell\" + 0.004*\"dog\"\n",
      "2022-07-17 12:24:40,791 : INFO : topic #1 (0.044): 0.008*\"year\" + 0.008*\"day\" + 0.008*\"like\" + 0.007*\"leave\" + 0.006*\"buy\" + 0.006*\"work\" + 0.006*\"know\" + 0.006*\"think\" + 0.005*\"people\" + 0.005*\"love\"\n",
      "2022-07-17 12:24:40,792 : INFO : topic #2 (0.054): 0.030*\"year_ago\" + 0.014*\"year\" + 0.011*\"ago\" + 0.009*\"day\" + 0.008*\"work\" + 0.008*\"know\" + 0.007*\"find\" + 0.006*\"husband\" + 0.006*\"start\" + 0.006*\"tell\"\n",
      "2022-07-17 12:24:40,793 : INFO : topic #4 (0.058): 0.023*\"year_old\" + 0.013*\"think\" + 0.012*\"year\" + 0.011*\"old\" + 0.009*\"wife\" + 0.009*\"work\" + 0.007*\"get\" + 0.007*\"take\" + 0.007*\"look\" + 0.006*\"time\"\n",
      "2022-07-17 12:24:40,793 : INFO : topic #8 (0.061): 0.012*\"time\" + 0.011*\"go\" + 0.010*\"amp\" + 0.010*\"year\" + 0.010*\"like\" + 0.009*\"tell\" + 0.008*\"work\" + 0.007*\"look_like\" + 0.006*\"buy\" + 0.006*\"think\"\n",
      "2022-07-17 12:24:40,794 : INFO : topic diff=0.016405, rho=0.353553\n",
      "2022-07-17 12:24:40,798 : INFO : PROGRESS: pass 7, at document #2935/2935\n",
      "2022-07-17 12:24:41,242 : INFO : optimized alpha [0.03999629, 0.041914403, 0.052243117, 0.044873696, 0.056324523, 0.041905113, 0.047554635, 0.04982805, 0.05863099, 0.044048786]\n",
      "2022-07-17 12:24:41,246 : INFO : topic #0 (0.040): 0.010*\"go\" + 0.009*\"like\" + 0.008*\"time\" + 0.006*\"wife\" + 0.005*\"day\" + 0.005*\"try\" + 0.005*\"buy\" + 0.005*\"spend\" + 0.005*\"tell\" + 0.004*\"dog\"\n",
      "2022-07-17 12:24:41,247 : INFO : topic #1 (0.042): 0.008*\"year\" + 0.008*\"day\" + 0.008*\"like\" + 0.007*\"leave\" + 0.006*\"buy\" + 0.006*\"work\" + 0.006*\"know\" + 0.006*\"think\" + 0.005*\"people\" + 0.005*\"love\"\n",
      "2022-07-17 12:24:41,248 : INFO : topic #2 (0.052): 0.031*\"year_ago\" + 0.015*\"year\" + 0.011*\"ago\" + 0.009*\"day\" + 0.008*\"work\" + 0.008*\"know\" + 0.007*\"find\" + 0.006*\"husband\" + 0.006*\"start\" + 0.006*\"tell\"\n",
      "2022-07-17 12:24:41,248 : INFO : topic #4 (0.056): 0.024*\"year_old\" + 0.013*\"think\" + 0.012*\"year\" + 0.011*\"old\" + 0.009*\"wife\" + 0.009*\"work\" + 0.007*\"get\" + 0.007*\"take\" + 0.007*\"look\" + 0.006*\"time\"\n",
      "2022-07-17 12:24:41,249 : INFO : topic #8 (0.059): 0.012*\"time\" + 0.011*\"go\" + 0.010*\"amp\" + 0.010*\"like\" + 0.010*\"year\" + 0.009*\"tell\" + 0.008*\"work\" + 0.008*\"look_like\" + 0.006*\"buy\" + 0.006*\"think\"\n",
      "2022-07-17 12:24:41,249 : INFO : topic diff=0.014943, rho=0.333333\n",
      "2022-07-17 12:24:41,257 : INFO : PROGRESS: pass 8, at document #2935/2935\n",
      "2022-07-17 12:24:41,690 : INFO : optimized alpha [0.03826052, 0.040185243, 0.050617557, 0.043146245, 0.054740794, 0.04017129, 0.04580817, 0.048226632, 0.05690732, 0.04234441]\n",
      "2022-07-17 12:24:41,699 : INFO : topic #0 (0.038): 0.010*\"go\" + 0.009*\"like\" + 0.008*\"time\" + 0.006*\"wife\" + 0.005*\"day\" + 0.005*\"try\" + 0.005*\"buy\" + 0.005*\"spend\" + 0.005*\"tell\" + 0.004*\"dog\"\n",
      "2022-07-17 12:24:41,699 : INFO : topic #1 (0.040): 0.008*\"year\" + 0.008*\"like\" + 0.008*\"day\" + 0.007*\"leave\" + 0.006*\"buy\" + 0.006*\"work\" + 0.006*\"know\" + 0.006*\"think\" + 0.005*\"people\" + 0.005*\"love\"\n",
      "2022-07-17 12:24:41,700 : INFO : topic #2 (0.051): 0.033*\"year_ago\" + 0.015*\"year\" + 0.012*\"ago\" + 0.009*\"day\" + 0.008*\"work\" + 0.008*\"know\" + 0.007*\"find\" + 0.006*\"husband\" + 0.006*\"start\" + 0.006*\"tell\"\n",
      "2022-07-17 12:24:41,701 : INFO : topic #4 (0.055): 0.024*\"year_old\" + 0.013*\"think\" + 0.013*\"year\" + 0.011*\"old\" + 0.009*\"wife\" + 0.009*\"work\" + 0.007*\"get\" + 0.007*\"take\" + 0.007*\"look\" + 0.006*\"time\"\n",
      "2022-07-17 12:24:41,702 : INFO : topic #8 (0.057): 0.012*\"time\" + 0.011*\"go\" + 0.010*\"amp\" + 0.010*\"like\" + 0.010*\"year\" + 0.010*\"tell\" + 0.009*\"work\" + 0.008*\"look_like\" + 0.006*\"buy\" + 0.006*\"think\"\n",
      "2022-07-17 12:24:41,702 : INFO : topic diff=0.013087, rho=0.316228\n",
      "2022-07-17 12:24:41,707 : INFO : PROGRESS: pass 9, at document #2935/2935\n",
      "2022-07-17 12:24:42,133 : INFO : optimized alpha [0.036737885, 0.038664855, 0.04917664, 0.041617792, 0.05331551, 0.038646996, 0.04426415, 0.04681417, 0.055394273, 0.04084094]\n",
      "2022-07-17 12:24:42,141 : INFO : topic #0 (0.037): 0.010*\"go\" + 0.009*\"like\" + 0.008*\"time\" + 0.007*\"wife\" + 0.005*\"day\" + 0.005*\"try\" + 0.005*\"buy\" + 0.005*\"spend\" + 0.005*\"tell\" + 0.004*\"dog\"\n",
      "2022-07-17 12:24:42,142 : INFO : topic #1 (0.039): 0.008*\"year\" + 0.008*\"like\" + 0.008*\"day\" + 0.007*\"leave\" + 0.006*\"buy\" + 0.006*\"work\" + 0.006*\"know\" + 0.006*\"think\" + 0.005*\"people\" + 0.005*\"love\"\n",
      "2022-07-17 12:24:42,142 : INFO : topic #2 (0.049): 0.033*\"year_ago\" + 0.015*\"year\" + 0.012*\"ago\" + 0.009*\"day\" + 0.008*\"work\" + 0.008*\"know\" + 0.007*\"find\" + 0.006*\"husband\" + 0.006*\"start\" + 0.006*\"tell\"\n",
      "2022-07-17 12:24:42,143 : INFO : topic #4 (0.053): 0.025*\"year_old\" + 0.013*\"think\" + 0.013*\"year\" + 0.011*\"old\" + 0.009*\"wife\" + 0.009*\"work\" + 0.007*\"get\" + 0.007*\"take\" + 0.007*\"look\" + 0.006*\"time\"\n",
      "2022-07-17 12:24:42,143 : INFO : topic #8 (0.055): 0.012*\"time\" + 0.011*\"go\" + 0.011*\"amp\" + 0.010*\"like\" + 0.010*\"tell\" + 0.009*\"year\" + 0.009*\"work\" + 0.008*\"look_like\" + 0.006*\"buy\" + 0.006*\"think\"\n",
      "2022-07-17 12:24:42,144 : INFO : topic diff=0.011591, rho=0.301511\n",
      "2022-07-17 12:24:42,148 : INFO : PROGRESS: pass 10, at document #2935/2935\n",
      "2022-07-17 12:24:42,572 : INFO : optimized alpha [0.03540277, 0.037317805, 0.04788832, 0.040260594, 0.05205625, 0.0372849, 0.042890053, 0.045547154, 0.05403776, 0.039501037]\n",
      "2022-07-17 12:24:42,576 : INFO : topic #0 (0.035): 0.010*\"go\" + 0.009*\"like\" + 0.008*\"time\" + 0.007*\"wife\" + 0.005*\"day\" + 0.005*\"try\" + 0.005*\"buy\" + 0.005*\"spend\" + 0.005*\"tell\" + 0.005*\"dog\"\n",
      "2022-07-17 12:24:42,577 : INFO : topic #5 (0.037): 0.009*\"year\" + 0.008*\"know\" + 0.008*\"wife\" + 0.007*\"think\" + 0.006*\"work\" + 0.005*\"amp\" + 0.005*\"go\" + 0.005*\"get\" + 0.004*\"make\" + 0.004*\"day\"\n",
      "2022-07-17 12:24:42,577 : INFO : topic #2 (0.048): 0.034*\"year_ago\" + 0.015*\"year\" + 0.013*\"ago\" + 0.009*\"day\" + 0.008*\"work\" + 0.008*\"know\" + 0.007*\"find\" + 0.006*\"husband\" + 0.006*\"start\" + 0.006*\"tell\"\n",
      "2022-07-17 12:24:42,578 : INFO : topic #4 (0.052): 0.025*\"year_old\" + 0.013*\"year\" + 0.013*\"think\" + 0.012*\"old\" + 0.009*\"wife\" + 0.009*\"work\" + 0.007*\"get\" + 0.007*\"take\" + 0.006*\"look\" + 0.006*\"time\"\n",
      "2022-07-17 12:24:42,578 : INFO : topic #8 (0.054): 0.012*\"time\" + 0.011*\"go\" + 0.011*\"amp\" + 0.010*\"like\" + 0.010*\"tell\" + 0.009*\"year\" + 0.009*\"work\" + 0.008*\"look_like\" + 0.006*\"think\" + 0.006*\"buy\"\n",
      "2022-07-17 12:24:42,579 : INFO : topic diff=0.010258, rho=0.288675\n",
      "2022-07-17 12:24:42,583 : INFO : PROGRESS: pass 11, at document #2935/2935\n",
      "2022-07-17 12:24:43,006 : INFO : optimized alpha [0.03420342, 0.036113348, 0.04672202, 0.039036285, 0.050913878, 0.03606399, 0.04165207, 0.0444156, 0.052806366, 0.038292266]\n",
      "2022-07-17 12:24:43,011 : INFO : topic #0 (0.034): 0.010*\"go\" + 0.009*\"like\" + 0.008*\"time\" + 0.007*\"wife\" + 0.005*\"try\" + 0.005*\"day\" + 0.005*\"buy\" + 0.005*\"spend\" + 0.005*\"tell\" + 0.005*\"dog\"\n",
      "2022-07-17 12:24:43,011 : INFO : topic #5 (0.036): 0.009*\"year\" + 0.008*\"know\" + 0.008*\"wife\" + 0.007*\"think\" + 0.006*\"work\" + 0.005*\"amp\" + 0.005*\"go\" + 0.005*\"get\" + 0.004*\"make\" + 0.004*\"day\"\n",
      "2022-07-17 12:24:43,012 : INFO : topic #2 (0.047): 0.035*\"year_ago\" + 0.015*\"year\" + 0.013*\"ago\" + 0.009*\"day\" + 0.008*\"work\" + 0.008*\"know\" + 0.007*\"find\" + 0.006*\"husband\" + 0.006*\"start\" + 0.006*\"tell\"\n",
      "2022-07-17 12:24:43,012 : INFO : topic #4 (0.051): 0.026*\"year_old\" + 0.013*\"year\" + 0.013*\"think\" + 0.012*\"old\" + 0.009*\"wife\" + 0.008*\"work\" + 0.007*\"get\" + 0.007*\"take\" + 0.006*\"look\" + 0.006*\"time\"\n",
      "2022-07-17 12:24:43,013 : INFO : topic #8 (0.053): 0.012*\"time\" + 0.011*\"go\" + 0.011*\"amp\" + 0.010*\"like\" + 0.010*\"tell\" + 0.009*\"year\" + 0.009*\"work\" + 0.009*\"look_like\" + 0.006*\"think\" + 0.006*\"buy\"\n",
      "2022-07-17 12:24:43,013 : INFO : topic diff=0.009109, rho=0.277350\n",
      "2022-07-17 12:24:43,021 : INFO : PROGRESS: pass 12, at document #2935/2935\n",
      "2022-07-17 12:24:43,439 : INFO : optimized alpha [0.033120908, 0.03502791, 0.045659155, 0.037920043, 0.049867347, 0.03496446, 0.04052858, 0.043380648, 0.051681407, 0.037204497]\n",
      "2022-07-17 12:24:43,443 : INFO : topic #0 (0.033): 0.010*\"go\" + 0.009*\"like\" + 0.008*\"time\" + 0.007*\"wife\" + 0.005*\"try\" + 0.005*\"day\" + 0.005*\"buy\" + 0.005*\"spend\" + 0.005*\"tell\" + 0.005*\"dog\"\n",
      "2022-07-17 12:24:43,444 : INFO : topic #5 (0.035): 0.009*\"year\" + 0.008*\"know\" + 0.008*\"wife\" + 0.007*\"think\" + 0.006*\"work\" + 0.005*\"amp\" + 0.005*\"go\" + 0.005*\"get\" + 0.004*\"make\" + 0.004*\"day\"\n",
      "2022-07-17 12:24:43,444 : INFO : topic #2 (0.046): 0.035*\"year_ago\" + 0.016*\"year\" + 0.013*\"ago\" + 0.009*\"day\" + 0.008*\"work\" + 0.008*\"know\" + 0.007*\"find\" + 0.006*\"husband\" + 0.006*\"start\" + 0.006*\"tell\"\n",
      "2022-07-17 12:24:43,445 : INFO : topic #4 (0.050): 0.026*\"year_old\" + 0.013*\"year\" + 0.013*\"think\" + 0.012*\"old\" + 0.009*\"wife\" + 0.008*\"work\" + 0.007*\"get\" + 0.007*\"take\" + 0.006*\"time\" + 0.006*\"look\"\n",
      "2022-07-17 12:24:43,446 : INFO : topic #8 (0.052): 0.012*\"time\" + 0.011*\"go\" + 0.011*\"amp\" + 0.010*\"like\" + 0.010*\"tell\" + 0.009*\"year\" + 0.009*\"look_like\" + 0.009*\"work\" + 0.006*\"think\" + 0.006*\"buy\"\n",
      "2022-07-17 12:24:43,446 : INFO : topic diff=0.008023, rho=0.267261\n",
      "2022-07-17 12:24:43,453 : INFO : PROGRESS: pass 13, at document #2935/2935\n",
      "2022-07-17 12:24:43,879 : INFO : optimized alpha [0.032137036, 0.03404313, 0.04468498, 0.036899384, 0.04890339, 0.033964425, 0.039502606, 0.04243281, 0.05064799, 0.036216]\n",
      "2022-07-17 12:24:43,883 : INFO : topic #0 (0.032): 0.010*\"go\" + 0.009*\"like\" + 0.008*\"time\" + 0.007*\"wife\" + 0.005*\"try\" + 0.005*\"day\" + 0.005*\"buy\" + 0.005*\"spend\" + 0.005*\"tell\" + 0.005*\"dog\"\n",
      "2022-07-17 12:24:43,883 : INFO : topic #5 (0.034): 0.009*\"year\" + 0.008*\"know\" + 0.008*\"wife\" + 0.007*\"think\" + 0.006*\"work\" + 0.005*\"amp\" + 0.005*\"go\" + 0.005*\"get\" + 0.004*\"make\" + 0.004*\"day\"\n",
      "2022-07-17 12:24:43,884 : INFO : topic #2 (0.045): 0.036*\"year_ago\" + 0.016*\"year\" + 0.013*\"ago\" + 0.009*\"day\" + 0.008*\"work\" + 0.008*\"know\" + 0.007*\"find\" + 0.006*\"husband\" + 0.006*\"start\" + 0.006*\"tell\"\n",
      "2022-07-17 12:24:43,885 : INFO : topic #4 (0.049): 0.026*\"year_old\" + 0.013*\"year\" + 0.013*\"think\" + 0.012*\"old\" + 0.009*\"wife\" + 0.008*\"work\" + 0.007*\"get\" + 0.007*\"take\" + 0.006*\"time\" + 0.006*\"look\"\n",
      "2022-07-17 12:24:43,885 : INFO : topic #8 (0.051): 0.012*\"time\" + 0.011*\"go\" + 0.011*\"amp\" + 0.010*\"like\" + 0.010*\"tell\" + 0.009*\"look_like\" + 0.009*\"year\" + 0.009*\"work\" + 0.006*\"think\" + 0.006*\"buy\"\n",
      "2022-07-17 12:24:43,886 : INFO : topic diff=0.007145, rho=0.258199\n",
      "2022-07-17 12:24:43,893 : INFO : PROGRESS: pass 14, at document #2935/2935\n",
      "2022-07-17 12:24:44,320 : INFO : optimized alpha [0.031240694, 0.03313849, 0.04380042, 0.035964463, 0.047998875, 0.03304965, 0.03856412, 0.041556768, 0.04970844, 0.03531599]\n",
      "2022-07-17 12:24:44,324 : INFO : topic #0 (0.031): 0.010*\"go\" + 0.009*\"like\" + 0.008*\"time\" + 0.007*\"wife\" + 0.005*\"try\" + 0.005*\"day\" + 0.005*\"buy\" + 0.005*\"spend\" + 0.005*\"tell\" + 0.005*\"dog\"\n",
      "2022-07-17 12:24:44,325 : INFO : topic #5 (0.033): 0.009*\"year\" + 0.008*\"know\" + 0.008*\"wife\" + 0.007*\"think\" + 0.006*\"work\" + 0.005*\"amp\" + 0.005*\"go\" + 0.004*\"get\" + 0.004*\"make\" + 0.004*\"day\"\n",
      "2022-07-17 12:24:44,326 : INFO : topic #2 (0.044): 0.036*\"year_ago\" + 0.016*\"year\" + 0.013*\"ago\" + 0.009*\"day\" + 0.008*\"work\" + 0.008*\"know\" + 0.007*\"find\" + 0.006*\"husband\" + 0.006*\"start\" + 0.006*\"tell\"\n",
      "2022-07-17 12:24:44,326 : INFO : topic #4 (0.048): 0.027*\"year_old\" + 0.013*\"year\" + 0.013*\"think\" + 0.012*\"old\" + 0.009*\"wife\" + 0.008*\"work\" + 0.007*\"get\" + 0.007*\"take\" + 0.006*\"time\" + 0.006*\"look\"\n",
      "2022-07-17 12:24:44,327 : INFO : topic #8 (0.050): 0.011*\"time\" + 0.011*\"go\" + 0.011*\"amp\" + 0.010*\"like\" + 0.010*\"tell\" + 0.009*\"look_like\" + 0.009*\"work\" + 0.009*\"year\" + 0.007*\"think\" + 0.006*\"buy\"\n",
      "2022-07-17 12:24:44,327 : INFO : topic diff=0.006501, rho=0.250000\n",
      "2022-07-17 12:24:44,332 : INFO : PROGRESS: pass 15, at document #2935/2935\n",
      "2022-07-17 12:24:44,759 : INFO : optimized alpha [0.030414058, 0.032308817, 0.042977948, 0.03510041, 0.04716756, 0.032208472, 0.03769801, 0.040743373, 0.04883303, 0.034489296]\n",
      "2022-07-17 12:24:44,767 : INFO : topic #0 (0.030): 0.010*\"go\" + 0.009*\"like\" + 0.008*\"time\" + 0.007*\"wife\" + 0.005*\"try\" + 0.005*\"day\" + 0.005*\"buy\" + 0.005*\"spend\" + 0.005*\"tell\" + 0.005*\"dog\"\n",
      "2022-07-17 12:24:44,768 : INFO : topic #5 (0.032): 0.009*\"year\" + 0.008*\"know\" + 0.008*\"wife\" + 0.007*\"think\" + 0.006*\"work\" + 0.005*\"amp\" + 0.005*\"go\" + 0.004*\"get\" + 0.004*\"make\" + 0.004*\"day\"\n",
      "2022-07-17 12:24:44,769 : INFO : topic #2 (0.043): 0.037*\"year_ago\" + 0.016*\"year\" + 0.014*\"ago\" + 0.009*\"day\" + 0.008*\"work\" + 0.008*\"know\" + 0.007*\"find\" + 0.006*\"husband\" + 0.006*\"start\" + 0.006*\"tell\"\n",
      "2022-07-17 12:24:44,769 : INFO : topic #4 (0.047): 0.027*\"year_old\" + 0.013*\"year\" + 0.012*\"think\" + 0.012*\"old\" + 0.009*\"wife\" + 0.008*\"work\" + 0.007*\"get\" + 0.007*\"take\" + 0.006*\"time\" + 0.006*\"look\"\n",
      "2022-07-17 12:24:44,769 : INFO : topic #8 (0.049): 0.011*\"time\" + 0.011*\"go\" + 0.011*\"amp\" + 0.011*\"like\" + 0.010*\"tell\" + 0.009*\"look_like\" + 0.009*\"work\" + 0.009*\"year\" + 0.007*\"think\" + 0.006*\"buy\"\n",
      "2022-07-17 12:24:44,770 : INFO : topic diff=0.006099, rho=0.242536\n",
      "2022-07-17 12:24:44,774 : INFO : PROGRESS: pass 16, at document #2935/2935\n",
      "2022-07-17 12:24:45,196 : INFO : optimized alpha [0.029650914, 0.031544514, 0.04221028, 0.034301303, 0.04638873, 0.031431325, 0.036895305, 0.039988432, 0.04801402, 0.03372346]\n",
      "2022-07-17 12:24:45,200 : INFO : topic #0 (0.030): 0.010*\"go\" + 0.009*\"like\" + 0.008*\"time\" + 0.007*\"wife\" + 0.005*\"try\" + 0.005*\"buy\" + 0.005*\"day\" + 0.005*\"spend\" + 0.005*\"tell\" + 0.005*\"dog\"\n",
      "2022-07-17 12:24:45,201 : INFO : topic #5 (0.031): 0.009*\"year\" + 0.008*\"know\" + 0.008*\"wife\" + 0.007*\"think\" + 0.006*\"work\" + 0.005*\"amp\" + 0.005*\"go\" + 0.004*\"get\" + 0.004*\"make\" + 0.004*\"day\"\n",
      "2022-07-17 12:24:45,201 : INFO : topic #2 (0.042): 0.037*\"year_ago\" + 0.016*\"year\" + 0.014*\"ago\" + 0.009*\"day\" + 0.008*\"work\" + 0.008*\"know\" + 0.007*\"find\" + 0.006*\"husband\" + 0.006*\"start\" + 0.006*\"tell\"\n",
      "2022-07-17 12:24:45,202 : INFO : topic #4 (0.046): 0.027*\"year_old\" + 0.013*\"year\" + 0.012*\"think\" + 0.012*\"old\" + 0.009*\"wife\" + 0.008*\"work\" + 0.007*\"get\" + 0.007*\"take\" + 0.006*\"time\" + 0.006*\"look\"\n",
      "2022-07-17 12:24:45,202 : INFO : topic #8 (0.048): 0.011*\"time\" + 0.011*\"go\" + 0.011*\"amp\" + 0.011*\"like\" + 0.010*\"look_like\" + 0.010*\"tell\" + 0.009*\"work\" + 0.009*\"year\" + 0.007*\"think\" + 0.006*\"buy\"\n",
      "2022-07-17 12:24:45,202 : INFO : topic diff=0.005434, rho=0.235702\n",
      "2022-07-17 12:24:45,207 : INFO : PROGRESS: pass 17, at document #2935/2935\n",
      "2022-07-17 12:24:45,624 : INFO : optimized alpha [0.028943509, 0.030835114, 0.041494947, 0.033562154, 0.045656946, 0.030710448, 0.03614857, 0.039285637, 0.047253497, 0.033011362]\n",
      "2022-07-17 12:24:45,632 : INFO : topic #0 (0.029): 0.010*\"go\" + 0.009*\"like\" + 0.008*\"time\" + 0.007*\"wife\" + 0.005*\"try\" + 0.005*\"buy\" + 0.005*\"day\" + 0.005*\"spend\" + 0.005*\"tell\" + 0.005*\"dog\"\n",
      "2022-07-17 12:24:45,632 : INFO : topic #5 (0.031): 0.009*\"year\" + 0.008*\"know\" + 0.008*\"wife\" + 0.007*\"think\" + 0.006*\"work\" + 0.005*\"amp\" + 0.005*\"go\" + 0.004*\"get\" + 0.004*\"make\" + 0.004*\"day\"\n",
      "2022-07-17 12:24:45,633 : INFO : topic #2 (0.041): 0.037*\"year_ago\" + 0.016*\"year\" + 0.014*\"ago\" + 0.009*\"day\" + 0.008*\"work\" + 0.008*\"know\" + 0.007*\"find\" + 0.006*\"husband\" + 0.006*\"tell\" + 0.006*\"start\"\n",
      "2022-07-17 12:24:45,634 : INFO : topic #4 (0.046): 0.027*\"year_old\" + 0.013*\"year\" + 0.012*\"old\" + 0.012*\"think\" + 0.009*\"wife\" + 0.008*\"work\" + 0.007*\"get\" + 0.007*\"take\" + 0.006*\"time\" + 0.006*\"look\"\n",
      "2022-07-17 12:24:45,635 : INFO : topic #8 (0.047): 0.011*\"time\" + 0.011*\"go\" + 0.011*\"amp\" + 0.011*\"like\" + 0.010*\"look_like\" + 0.010*\"tell\" + 0.009*\"work\" + 0.009*\"year\" + 0.007*\"think\" + 0.006*\"buy\"\n",
      "2022-07-17 12:24:45,636 : INFO : topic diff=0.004933, rho=0.229416\n",
      "2022-07-17 12:24:45,644 : INFO : PROGRESS: pass 18, at document #2935/2935\n",
      "2022-07-17 12:24:46,077 : INFO : optimized alpha [0.028285362, 0.030174237, 0.040826328, 0.032873254, 0.04496378, 0.030039355, 0.035454247, 0.038632356, 0.046541225, 0.03234687]\n",
      "2022-07-17 12:24:46,081 : INFO : topic #0 (0.028): 0.010*\"go\" + 0.009*\"like\" + 0.008*\"time\" + 0.007*\"wife\" + 0.005*\"try\" + 0.005*\"buy\" + 0.005*\"spend\" + 0.005*\"day\" + 0.005*\"tell\" + 0.005*\"dog\"\n",
      "2022-07-17 12:24:46,082 : INFO : topic #5 (0.030): 0.009*\"year\" + 0.008*\"know\" + 0.008*\"wife\" + 0.007*\"think\" + 0.006*\"work\" + 0.005*\"amp\" + 0.005*\"go\" + 0.004*\"get\" + 0.004*\"make\" + 0.004*\"day\"\n",
      "2022-07-17 12:24:46,082 : INFO : topic #2 (0.041): 0.038*\"year_ago\" + 0.016*\"year\" + 0.014*\"ago\" + 0.009*\"day\" + 0.008*\"work\" + 0.008*\"know\" + 0.007*\"find\" + 0.006*\"husband\" + 0.006*\"tell\" + 0.006*\"start\"\n",
      "2022-07-17 12:24:46,083 : INFO : topic #4 (0.045): 0.027*\"year_old\" + 0.013*\"year\" + 0.013*\"old\" + 0.012*\"think\" + 0.009*\"wife\" + 0.008*\"work\" + 0.007*\"get\" + 0.007*\"take\" + 0.006*\"time\" + 0.006*\"look\"\n",
      "2022-07-17 12:24:46,083 : INFO : topic #8 (0.047): 0.011*\"time\" + 0.011*\"go\" + 0.011*\"like\" + 0.011*\"amp\" + 0.010*\"look_like\" + 0.010*\"tell\" + 0.009*\"work\" + 0.009*\"year\" + 0.007*\"think\" + 0.006*\"buy\"\n",
      "2022-07-17 12:24:46,084 : INFO : topic diff=0.004475, rho=0.223607\n",
      "2022-07-17 12:24:46,088 : INFO : PROGRESS: pass 19, at document #2935/2935\n",
      "2022-07-17 12:24:46,509 : INFO : optimized alpha [0.027675437, 0.029556582, 0.040199574, 0.032229234, 0.044316433, 0.0294102, 0.034804024, 0.038020518, 0.04587658, 0.03172493]\n",
      "2022-07-17 12:24:46,514 : INFO : topic #0 (0.028): 0.010*\"go\" + 0.009*\"like\" + 0.008*\"time\" + 0.007*\"wife\" + 0.005*\"try\" + 0.005*\"buy\" + 0.005*\"spend\" + 0.005*\"tell\" + 0.005*\"day\" + 0.005*\"dog\"\n",
      "2022-07-17 12:24:46,514 : INFO : topic #5 (0.029): 0.009*\"year\" + 0.008*\"know\" + 0.008*\"wife\" + 0.007*\"think\" + 0.006*\"work\" + 0.005*\"amp\" + 0.005*\"go\" + 0.004*\"get\" + 0.004*\"make\" + 0.004*\"day\"\n",
      "2022-07-17 12:24:46,515 : INFO : topic #2 (0.040): 0.038*\"year_ago\" + 0.016*\"year\" + 0.014*\"ago\" + 0.009*\"day\" + 0.008*\"work\" + 0.008*\"know\" + 0.007*\"find\" + 0.006*\"husband\" + 0.006*\"tell\" + 0.006*\"start\"\n",
      "2022-07-17 12:24:46,516 : INFO : topic #4 (0.044): 0.028*\"year_old\" + 0.013*\"year\" + 0.013*\"old\" + 0.012*\"think\" + 0.009*\"wife\" + 0.008*\"work\" + 0.007*\"get\" + 0.007*\"take\" + 0.006*\"time\" + 0.006*\"look\"\n",
      "2022-07-17 12:24:46,516 : INFO : topic #8 (0.046): 0.011*\"time\" + 0.011*\"go\" + 0.011*\"like\" + 0.011*\"amp\" + 0.010*\"look_like\" + 0.010*\"tell\" + 0.009*\"work\" + 0.008*\"year\" + 0.007*\"think\" + 0.006*\"buy\"\n",
      "2022-07-17 12:24:46,517 : INFO : topic diff=0.004175, rho=0.218218\n",
      "2022-07-17 12:24:46,521 : INFO : LdaModel lifecycle event {'msg': 'trained LdaModel<num_terms=7880, num_topics=10, decay=0.5, chunksize=4000> in 9.88s', 'datetime': '2022-07-17T12:24:46.521574', 'gensim': '4.2.0', 'python': '3.8.5 (default, Sep  4 2020, 07:30:14) \\n[GCC 7.3.0]', 'platform': 'Linux-5.15.0-41-generic-x86_64-with-glibc2.10', 'event': 'created'}\n"
     ]
    }
   ],
   "source": [
    "# Train LDA model.\n",
    "from gensim.models import LdaModel\n",
    "\n",
    "# Set training parameters.\n",
    "num_topics = 10\n",
    "# Changed this to 4000 to cover all the docs as they are short and fit in memory\n",
    "chunksize = 4000\n",
    "passes = 20\n",
    "iterations = 400\n",
    "eval_every = None  # Don't evaluate model perplexity, takes too much time.\n",
    "\n",
    "# Make an index to word dictionary.\n",
    "temp = dictionary[0]  # This is only to \"load\" the dictionary.\n",
    "id2word = dictionary.id2token\n",
    "\n",
    "model = LdaModel(\n",
    "    corpus=corpus,\n",
    "    id2word=id2word,\n",
    "    chunksize=chunksize,\n",
    "    alpha='auto',\n",
    "    eta='auto',\n",
    "    iterations=iterations,\n",
    "    num_topics=num_topics,\n",
    "    passes=passes,\n",
    "    eval_every=eval_every\n",
    ")"
   ]
  },
  {
   "cell_type": "markdown",
   "id": "98a4c16b-5cd7-442e-918b-9e091f8aaeec",
   "metadata": {},
   "source": [
    "So we've got 2935 tweets and 7518 word tokens.\n",
    "\n",
    "Now let's try splitting into 5 clusters."
   ]
  },
  {
   "cell_type": "code",
   "execution_count": 107,
   "id": "c66fcf6e-7571-43cd-87ec-ffdef9bce25c",
   "metadata": {},
   "outputs": [],
   "source": [
    "from sklearn.cluster import KMeans\n",
    "kmeans = KMeans(n_clusters=2).fit(result)"
   ]
  },
  {
   "cell_type": "code",
   "execution_count": 109,
   "id": "eb85e08f-af05-4e0e-8bb9-979d34119faa",
   "metadata": {},
   "outputs": [
    {
     "data": {
      "text/plain": [
       "array([0, 0, 0, 1, 0, 0, 0, 0, 0, 0, 0, 0, 1, 1, 0, 0, 0, 0, 0, 0, 0, 0,\n",
       "       0, 0, 0, 0, 1, 0, 0, 1, 1, 0, 1, 0, 0, 1, 0, 0, 0, 0, 0, 0, 0, 0,\n",
       "       0, 0, 1, 0, 0, 0, 0, 1, 0, 1, 0, 0, 0, 0, 0, 0, 0, 0, 0, 0, 1, 0,\n",
       "       0, 1, 0, 1, 1, 0, 0, 1, 1, 0, 0, 0, 0, 1, 0, 0, 0, 0, 0, 0, 0, 0,\n",
       "       0, 0, 1, 0, 0, 0, 0, 0, 0, 0, 1, 0], dtype=int32)"
      ]
     },
     "execution_count": 109,
     "metadata": {},
     "output_type": "execute_result"
    }
   ],
   "source": [
    "# The labels provides a label of 0 and 1 to each tweet representing the cluster\n",
    "kmeans.labels_[0:100]"
   ]
  },
  {
   "cell_type": "code",
   "execution_count": 111,
   "id": "5282fed1-277c-4922-bdf8-2c7bbdb05f39",
   "metadata": {},
   "outputs": [
    {
     "name": "stdout",
     "output_type": "stream",
     "text": [
      "#0 Group: 0 - I forgot to scan a bottle of wine at Tesco Express and realised when I got home. Walked back and told them so I could pay for it. I am an utter loser.\n",
      "#1 Group: 0 - I saw half of an old episode of Thomas the Tank Engine recently, and someone snogged one of the engines. The idea that Percy the Green Engine has had more action than me over the past 12 months has probably sent me into a depressive spiral.\n",
      "#2 Group: 0 - I will instigate sex in the morning with my wife, knowing that she will rebuff my advances and instantly get up and make me coffee in bed\n",
      "#3 Group: 1 - I'm a 38 year old man and when I arrange the soft toys on my daughters bed while making it I'll position them in a way that they would be able to interact in case there is any consciousness in there.\n",
      "#4 Group: 0 - I fell in love with a woman created by the AI account \"This Person Does Not Exist\" and it kills me that we can never be together.\n",
      "#5 Group: 0 - Refunding kindle books can cost authors so I never do it but I've been buying &amp; returning all Tory MPs books I can find. If everyone does it it might make a difference\n",
      "#6 Group: 0 - My husband likes taking mucky photos of me in the nude. I don't mind, mainly because I've realised that he always does a brilliant job of tidying the bedroom up before we do it. I've started suggesting different rooms round the house; the en-suite needs a good scrub.\n",
      "#7 Group: 0 - My wife will not give anything away, old clothes, carpet offcuts, nothing; and regularly gets me to put it on Facebook to sell. Fuck that. I leave it a couple of days, take whatever it is to the tip, then give her the money out of my own pocket.\n",
      "#8 Group: 0 - Whenever a website asks me to sign up for their newsletter I do it, then flag all the emails as spam. I hope I am doing my bit to spoil the newsletter economy\n",
      "#9 Group: 0 - If I'm in a bad mood and I'm in the car, I don't drive aggressively - that dangerous and a total dick move. I drive at about ⅔ of the speed limit. Seriously pisses of the people behind me, and nothing helps a bad mood quite like spreading it around.\n",
      "#10 Group: 0 - I babysat for an awful family with two kids. The kids had a pet rabbit they abused horribly. One day I volunteered to take him to the vet, told the vet to write on his card that he was euthanized and dead.. I took the bunny home. He turns 8 this summer.\n",
      "#11 Group: 0 - My wife loves Bees. We found a dying one and gave it sugary water. Woke up the next day and it was gone. She was so happy. I don't have the heart to tell her it drowned so I chucked it next door.\n",
      "#12 Group: 1 - I suffered a severe double Inguinal Hernia 20 years ago lifting a heavy bag of compost. My employer kindly paid for the very painful operation as an emergency following doctor's advice. I lied. My wife &amp; I had spent an entire Easter weekend shagging, off our faces on ecstasy.\n",
      "#13 Group: 1 - When I was a kid, my parents were trying to think of a creative punishment and asked if taking the batteries out of a Gameboy would wipe the save games. \n",
      "It doesn't, but I told them it did and they used that as a way to punish me for years.\n",
      "#14 Group: 0 - My breakfast tasted awful and I thought it meant COVID. Took 2 days off work until the PCR test came back negative. Turned out the milk was off. Can't tell anyone though.\n",
      "#15 Group: 0 - When I was a teenager my mum bought one if those spaghetti measuring tools to see how much pasta you need to feed that's family. One afternoon I put my dick in it to see how many people it would feed. It was a family of 3.\n",
      "#16 Group: 0 - Aged five and six - me and my brother were having an epic game of marbles in rural Shropshire. Except we didn't bring any marbles with us and our parents explained to us we were playing with rabbit shit.\n",
      "#17 Group: 0 - As a secondary school English teacher, I often subcontract my marking to my own kids. Paying my daughter £10 to mark thirty crappy books seems like money well spent.\n",
      "#18 Group: 0 - Occasionally when I'm swiping on Tinder I come across the husbands of women I was in school with. I take screenshots of the profiles and send them to their wives under an anonymous Facebook account.\n",
      "#19 Group: 0 - I have been calling my lazy and inept coworker \"John\" instead of \"Joan\". She doesn't dare to correct me as I am not a native speaker. She hates it so much that I started looking for her to talk about the weather or other inane stuff JUST so I can call her John.\n",
      "#20 Group: 0 - When walking past traffic lights I press the button regardless of whether or not I'm about to cross the road. I enjoy the look on drivers faces when traffic is stopped unnecessarily.\n",
      "#21 Group: 0 - My wife and I have raised two children, a girl\n",
      "and a boy, who are now 20 and 18 respectively.\n",
      "We spent their childhoods providing them with every form of love, support and stability we could. Our kindness and softness has resulted in us raising two entitled, deluded wankers.\n",
      "#22 Group: 0 - Part of my job in a hospital is to book appointments for patients via text message. I deliberately give people from affluent areas really early ones so they have to deal with rush hour and an early morning. The working classes get a lie-in.\n",
      "#23 Group: 0 - I was working in a large store, suddenly I felt a thick hair on my chin, so I sneakily opened a pack of tweezers, went to the bathroom and plucked it out, then put them back in the packet and returned them to the shelf.\n",
      "#24 Group: 0 - My cat just scratched my penis. It was sitting on the toilet seat lid while I was innocently towelling myself dry after a shower - it's a cramped bathroom - and it suddenly attacked my cock. I can't tell my wife as it will sound like something weird was going on.\n",
      "#25 Group: 0 - I once unrolled the loo roll, drew a small spider and rolled it back again in an attempt to scare my partner. Hours later, I completely forgot about it and scared the literal shit out of myself instead.\n",
      "#26 Group: 1 - Clearing an old laptop I found some sex videos of me and the wife from ten years ago. While it was great to see ourselves younger, thinner, me with hair and the filth we got up to, the biggest surprise was how neat and tidy we used to keep the bedroom.\n",
      "#27 Group: 0 - If I'm really pissed off with my husband, I cut his toast in half in rectangles. If I'm not pissed off, he gets toast cut into triangles.\n",
      "#28 Group: 0 - I'm dating this girl. She's really lovely and sweet but I cringed hard when she said she was an \"influencer\" to some people on the table next to us whilst we were on a date. She has a little over 2000 followers on insta. I'm considering cutting it off.\n",
      "#29 Group: 1 - I rang the police anonymously on my neighbours saying I'd buried a dead body in the back garden 20 years ago, this was after a full garden landscape they had done. Watched from upstairs window as the police dug it all up.\n",
      "#30 Group: 1 - In the early 2000's I was mistaken in the street for Bruno Langley - Todd from Coronation Street - I didn't correct them, and instead posed for photos with a load of 14/15 year old girls, and told them stories about life on the cobbles.\n",
      "#31 Group: 0 - I once saw Jonny Ball at Slough station. I stalked him onto train and randomly sat next to him. Took 15mins to pluck courage to talk to him. Absolutely lovely man. You can meet your heros!\n",
      "#32 Group: 1 - Nineteen years ago the Mrs told me she was in labour with our first kid, made her wait until Metallica had been on Top Of The Pops before I took her to the maternity unit. Never been able to live it down, but Metallica rocked\n",
      "#33 Group: 0 - My sister-in-law annoys me, so when I take photos at family parties I deliberately upload the one where she looks worst to the family Facebook page.\n",
      "#34 Group: 0 - When I was a kid my mum used to tell me that cleaning products were poisonous and I shouldn't touch them. Several times I ate a spoonful of Jif or furniture polish before I went to bed, and woke up in the morning jubilant because I had proved she was a MASSIVE LIAR!\n",
      "#35 Group: 1 - I am absolutely skint and my 11yr old son asked if he could go to the cinema with his friends, I didn't want to let him down but with tickets bus fare and sweets it's £20 so I had to borrow it out of his money box to pay for it. Hope he doesn't realise before I can put it back.\n",
      "#36 Group: 0 - The sense of community I feel when oncoming cars flash to say there are speed cameras makes me feel tearful. Perhaps the only thing that's uniting the country at the moment?\n",
      "#37 Group: 0 - When I cut my nails, I take great care and ensure I've got every single one before I dispose of them. I have this worry that if I ever move house, and a murder took place after I'm gone, they could find a nail and place me at the scene, then pin it on me.\n",
      "#38 Group: 0 - My wife bought me a leaf blower. I find it excellent for blowing the cat shit into next door's garden.\n",
      "#39 Group: 0 - I've just married my wife and at the reception afterwards I realised I should've married her brother.\n",
      "#40 Group: 0 - When I walk past someone in some obnoxiously flash car, I always make the point of casting my eye over it and grimacing, hoping they see my disappointment. I like to think I'm helping to deflate their swollen egos.\n",
      "#41 Group: 0 - At McDonald's you get a free cheeseburger in addition to ordering a large meal with a valid Student Card. I have never been a student. I have received over 500 cheeseburgers by simply saying 'can I get a cheeseburger with my student card' Nobody has he ever asked to see it.\n",
      "#42 Group: 0 - Every night I pee in the kitchen sink and blame the cat because I can't be bothered going upstairs twice before bed\n",
      "#43 Group: 0 - When my dog met my boyfriend, he bit him and wouldn't let go of his hand, so I stuck my finger up the dog's bum to get him to let go. Three months later we broke up as he was cheating on me. So I anally fingered my dog for no reason, he must have known I was dating a prick.\n",
      "#44 Group: 0 - My wife and I are buying a house, to raise the deposit she wants me to sell my favourite motorcycle. So I've had to advertise it. She hasn't noticed that every ad has the wrong contact details on it.\n",
      "#45 Group: 0 - Before marrying my wife, I used to prep for dates by texting questions to large numbers of friends - then leaving my phone face-up on the table during the date so all the incoming messages would make me look popular.\n",
      "#46 Group: 1 - Years ago the neighbours starting getting it on rather loudly. Decided to whack one out but half way realised it was in fact a pigeon on the balcony. I was on the vinegar strokes so went the distance anyway\n",
      "#47 Group: 0 - My sisters father-in-law is Lib Dem Councillor. Every election, after a night on the piss, me and my brother would take Conservative flags from people's gardens and place them in his front garden. To this day he still grumbles about it, always brings a smile when I hear.\n",
      "#48 Group: 0 - The other day I backed the wife's car into a skip. When I got home I parked it to hide the damage. Now she's raging that she cannot find out who damaged her car, as she isn't allowed to see the camera recordings from her work's car park. God bless you, petty CCTV bureaucrats.\n",
      "#49 Group: 0 - When kids we'd put nails in the road &amp; when cars ran over them we'd follow the on our bikes &amp; offer to change peoples tyres hoping they'd give us a few pounds as we were such nice kids. lived just off a busy road, cars would hit traffic, so easy to follow until tyre went flat!\n",
      "#50 Group: 0 - If my wife ever figures out why there are so many odd socks in my laundry, I'm a dead man.\n",
      "#51 Group: 1 - When me and my partner met six years ago I wanted to impress and said I went to University of Nottingham when I actually went Nottingham Trent. Didn't realise we would still be together now and I've had to keep up this lie out of embarrassment.\n",
      "#52 Group: 0 - Back in the day when cash was king. I used to go to the local high street shops and find receipts on the floor of the high street. I would then take that receipt to the shop and pick the item of the shelf a get a cash refund. Best item was a Buzz Lightyear £35.\n",
      "#53 Group: 1 - After we'd moved home a couple of months ago, I remembered we had buried the cat in the garden. One night I went back to our old house and dug her up and she now is in our new garden.\n",
      "#54 Group: 0 - I once accidentally gave an ex-boyfriend someone else's boxers during the post-breakup exchange of belongings. It genuinely was an accident but I will definitely do it again for any future breakups just to seem like I'm already shagging someone new. Even if I have to buy them.\n",
      "#55 Group: 0 - During a game of FIFA I raged and threw my controller at the TV and broke it.\n",
      "I had to lie to my missus and tell her I accidentally tripped over the dog and fell into it.\n",
      "Cost us £100 insurance excess\n",
      "#56 Group: 0 - Ex compositor. Hundreds of screened pics in the background of forms you complete have hidden cocks in them. British Airways were the easiest but there are so many more.\n",
      "#57 Group: 0 - During my GCSEs my English teacher, frustrated at our essay-writing skills, wrote us an example of an A essay. It seemed so likely we'd be asked a similar question, I copied it word for word in a blank page in my copy of To Kill a Mockingbird. It became my Essay, and I got a...\n",
      "#58 Group: 0 - My neighbour keeps using my wheelie bin so he doesn't have to wheel his out to the pavement. I've padlocked mine shut and only open it on collection day, I take great pleasure watching him having to take his bin out now. It's the small victories in life.\n",
      "#59 Group: 0 - Booked an emergency doctors appointment because I thought my cock was going mouldy. Turns out it was just dye from the new pack of underwear I bought\n",
      "#60 Group: 0 - I accidentally got fanny hair removal cream in my hair and ended up with a bald patch. I told people at work I had stress related alopecia and would be wearing a hat until my hair had grown back. They all clubbed together and bought me a spa day to help me relax.\n",
      "#61 Group: 0 - Every time I pierce the film on a microwave curry, I pretend in my head that I'm Bishop doing the knife trick in Aliens.\n",
      "#62 Group: 0 - I was seeing this girl who absolutely hated her ex who does window fitting. When she went a bit mental I walked away. Her ex must be delighted though, he now has loads of positive Google Reviews and it's made me realise he's such a nice bloke, he even replies to them.\n",
      "#63 Group: 0 - Since working from home, my shit breaks have become so long that my watch usually congratulates me for standing up again at the end.\n",
      "#64 Group: 1 - Been paying breakdown insurance on washing machine for years, about to run out and too old to renew, so with the hope of getting a new machine I poured a lot of ready mix cement powder in there and set it off, fucked the machine &amp; drain, cost a fortune as too embarrassed to claim\n",
      "#65 Group: 0 - Surprised my Mrs with flowers and lunch in her work for our anniversary. She was made up and all her work friends think I'm wonderful. I only did it so I could get all our missing plates and cutlery that she keeps leaving in the office kitchen.\n",
      "#66 Group: 0 - Working in a shoe shop in the 90s when we had annoying customers we'd remove the insole and place a security tag sticker inside the shoe and replace the insole. They'd set shop alarms off everywhere they went when wearing those shoes!\n",
      "#67 Group: 1 - One of my relative's ex-partners was such an unpleasant, unmitigated, arsehole that even years after they split up it gives me great pleasure to go onto Amazon and \"mark as bought\" everything on their wish list at Christmas.\n",
      "#68 Group: 0 - At the station yesterday getting off a busy commuter train from London. I noticed a pair of AirPods just sat on the ground. I then proceeded to assure the one bloke that also saw them that I was going to give them in. I did not. I now have 2 pairs of Airpods.\n",
      "#69 Group: 1 - Years ago we had a popcorn media player. My son was only 4 and use to mix up his letters. He told his teacher he liked to watch cop porn with his Dad at night.\n",
      "#70 Group: 1 - When I was 14, I snapped the banjo string on my dick after a rather aggressive wank. I used one of my mum's bath towels because there was so much blood and then buried it in the garden. Whenever I go to mum's house and see that same place, I still wince after 40 years.\n",
      "#71 Group: 0 - When I owned a cobblers shop I'd take peoples shoes in to be stretched at £4 a time. I'd simply put them in a cupboard and leave them until they called back. I didn't even have a stretcher. You'd not believe how many people said I'd stretched them too much when they put them on.\n",
      "#72 Group: 0 - I keep forgetting the word neanderthal and keep calling my husband a Nathaniel\n",
      "#73 Group: 1 - My daughter caught me pissing in the bathroom sink. 15 years of near perfect parenting and this is what she'll remember.\n",
      "#74 Group: 1 - i stole a 'radar' key for the disabled loo from the pub that was closing down and made me redundant, that was 5 years ago and i have it on my key ring, full in the knowledge i can have a piss or shit in peace virtually anywhere\n",
      "#75 Group: 0 - Working from home I'm around to take in parcels for my neighbours, and I google the return address to work out what they have purchased. Struck lucky today. The 18\" rectangular parcel came from LoveHoney, so either he's got a fleshlight or she's got a massive dildo.\n",
      "#76 Group: 0 - When I get a takeaway, I put the rice on the plate and cut it up with the container lid. Feel like I'm cutting up a kilo of high grade cocaine.\n",
      "#77 Group: 0 - Whenever I get some son ready for cubs I look at the little Red Cross on his scarf and can't help but worry I'm sending off to a KKK meeting.\n",
      "#78 Group: 0 - Buried a dead cat in me nan's garden thinking it was my sister's cat. Said a little prayer. Got back and the fucker was sat on the doorstep. Don't know whose cat is buried in me nan's back garden but it's not my sister's.\n",
      "#79 Group: 1 - At Primary School, one of our friends kept bragging his uncle was a member of Shawaddywaddy. We mercilessly took the piss out of him, calling him a liar. Made his life an utter misery. A couple of years ago I found out he was telling the truth. Would still do the same now.\n",
      "#80 Group: 0 - I regularly seach Facebook marketplace for sports direct credit notes because every now and then some one forgets to cover the codes then I use them I've had about £600 worth of stuff for free\n",
      "#81 Group: 0 - I convinced my wife that I needed to spend 6 consecutive weekends studying for a promotion exam. She took the kids out shopping, took them on days out and visited in-laws alone. I played Xbox, watched war films and generally had a chilled weekend. Still passed the exam.\n",
      "#82 Group: 0 - Just before covid hit a pal gifted me one of her paintings. When she asks why I've not put it up yet I say it's because the framers was shut in lockdown. Now restrictions have lifted she's getting pushy. Sorry mate but the paintings awful, I don't want it on display in my house\n",
      "#83 Group: 0 - I work for 'digital agencies' and no amount of bean bags, beers &amp; free fruit make them any better than any other company. If anything they are filled with the most hateful people you will meet, working for the most hateful clients in the most hateful 'spaces' you will encounter\n",
      "#84 Group: 0 - I looked at the profile of my favourite pornstar on twitter and it turns out she's a massive conspiracy nutter. Can't crack one out to her stuff anymore as she just seems ridiculous now. Never meet your heroes.\n",
      "#85 Group: 0 - My two daughters live with their mum. Every night I message them that I love them. They get the same message, but I refuse to copy and paste as that's lazy. To make sure they know the message is written manually I make a spelling mistake in one of them every time\n",
      "#86 Group: 0 - When I'm talking to someone on my mobile, I can't be bothered to end the call properly so I just hang up, they just think I've gone into a tunnel or something.\n",
      "#87 Group: 0 - My apartment block neighbour charges his electric scooter from a socket in the communal hallway, essentially stealing electricity. I caught him in the act the other day, since then I've been playing my music 30% louder because I know he can't complain in case I shop him.\n",
      "#88 Group: 0 - Whenever I saw a criminal go down for 'racketeering' I always thought it was for making too much loud noise. Did wonder why the sentences were so harsh\n",
      "#89 Group: 0 - I used to have two copies of a prized UK psych single released on the Deram label in 1967. It's a real holy grail well-known to record collectors. I decided to melt one of the copies to make the other rarer.\n",
      "#90 Group: 1 - Someone would bully me and they lived across the road from the school so I knew their address, I spent two years sending fines for trains to their house in their name to get to college without paying.\n",
      "#91 Group: 0 - I work for a major bank. Our team keeps a list of the more interesting references customers use when transferring money to mates. \"Dildo refund\" or \"rent boy\" seems to be the most popular amongst presumably straight men.\n",
      "#92 Group: 0 - My southern husband is very sniffy about \"northern\" water and insists on buying posh bottled water from Waitrose. Little does he know this is what gets poured into the dogs water bowl and his bottle gets filled up with dirty northern muck.\n",
      "#93 Group: 0 - I live in Spain and in shops often pretend to be deaf so assistants will write stuff down for me, because I read Spanish well but can't understand the rapid fire speaking\n",
      "#94 Group: 0 - If I need a shit whilst out of the house I'll usually drive to Morrisons or Sainsburys. But I never use the toilet roll provided, instead I pick up a luxury one off the shelf on the way to the loo and leave it in there afterwards. I don't pay.\n",
      "#95 Group: 0 - The best thing to happen to my kids was me and the ex getting divorced amicably. Even better, we both got together with other divorcees. You've got kids who get undivided attention at both houses, happy parents who have a little break every week. Perfect\n",
      "#96 Group: 0 - I partake in a daily wank watching online porn. Of late i've started to worry about having a heart attack mid-wank and will i'll have enough time to ditch the tissue, shut down the page, delete my browsing history and pull up my trousers before i roll off my chair stone dead.\n",
      "#97 Group: 0 - I work in banking. One day I made a mistake at work that meant a client couldn't make his mortgage repayments, So I just wired him 2,000 from my own savings to cover it. I can never tell anyone or I'll lose my job for transacting on a client account.\n",
      "#98 Group: 1 - Teacher here. Most of the time your kid's school report is just copied and pasted from a similar kid the previous year. Even the \"personal comment\".\n",
      "#99 Group: 0 - Camping age 11 Sat on an old sink in the showers which cracked in half then shot off the wall. Cue projectile water fountain &amp; no water on campsite for 36hrs. Dad was so pissed off we went home early causing a massive row with my mum. I'm 55 now &amp; he still doesn't know it was me.\n"
     ]
    }
   ],
   "source": [
    "for i, tweet in enumerate(cleaned_data[0:100]):\n",
    "    print(f\"#{i} Group: {kmeans.labels_[i]} - {tweet}\") "
   ]
  },
  {
   "cell_type": "code",
   "execution_count": 113,
   "id": "598ae82b-a818-4e96-a451-bb103b78c24b",
   "metadata": {},
   "outputs": [
    {
     "name": "stdout",
     "output_type": "stream",
     "text": [
      "Top terms per cluster:\n",
      "Cluster 0: work like think day wife go time tell get know\n",
      "Cluster 1: year ago old get tell go work think wife know\n"
     ]
    }
   ],
   "source": [
    "print(\"Top terms per cluster:\")\n",
    "\n",
    "order_centroids = kmeans.cluster_centers_.argsort()[:, ::-1]\n",
    "\n",
    "terms = tfidf_vectorizer.get_feature_names_out()\n",
    "for i in range(2):\n",
    "    print(\"Cluster %d:\" % i, end=\"\")\n",
    "    for ind in order_centroids[i, :10]:\n",
    "        print(\" %s\" % terms[ind], end=\"\")\n",
    "    print()"
   ]
  },
  {
   "cell_type": "markdown",
   "id": "16aa5fc5-df3d-4af3-a39d-c06b30917a49",
   "metadata": {},
   "source": [
    "The two binary clusters are actually similar to the LDA terms...\n",
    "\n",
    "Let's have a look at 5 clusters..."
   ]
  },
  {
   "cell_type": "code",
   "execution_count": 116,
   "id": "15a33905-c726-4bc6-9d91-75166a700c3f",
   "metadata": {},
   "outputs": [
    {
     "name": "stdout",
     "output_type": "stream",
     "text": [
      "Top terms per cluster:\n",
      "Cluster 0: like look feel wife think year go amp time know\n",
      "Cluster 1: car park drive home amp key buy walk think window\n",
      "Cluster 2: work day home tell leave go get wife office time\n",
      "Cluster 3: year ago old tell get month pay card birthday go\n",
      "Cluster 4: think wife go time get tell know find kid night\n"
     ]
    }
   ],
   "source": [
    "k = 5\n",
    "kmeans5 = KMeans(n_clusters=k).fit(result)\n",
    "print(\"Top terms per cluster:\")\n",
    "\n",
    "order_centroids = kmeans5.cluster_centers_.argsort()[:, ::-1]\n",
    "\n",
    "terms = tfidf_vectorizer.get_feature_names_out()\n",
    "for i in range(k):\n",
    "    print(\"Cluster %d:\" % i, end=\"\")\n",
    "    for ind in order_centroids[i, :10]:\n",
    "        print(\" %s\" % terms[ind], end=\"\")\n",
    "    print()"
   ]
  },
  {
   "cell_type": "markdown",
   "id": "e0ff8177-4100-4d9a-bb96-113b1158ff46",
   "metadata": {},
   "source": [
    "We haven't got any fixed labels so we can't do any metric comparisons.\n",
    "\n",
    "We could try dimensionality reduction on the sparse matrix (e.g. using SVD/PCA) as per the scikit learn tutorial)."
   ]
  },
  {
   "cell_type": "code",
   "execution_count": 123,
   "id": "a5e3531e-5f00-4105-baa1-55d9602462c1",
   "metadata": {},
   "outputs": [
    {
     "name": "stdout",
     "output_type": "stream",
     "text": [
      "Performing dimensionality reduction using LSA\n",
      "done in 10.377955s\n",
      "Explained variance of the SVD step: 94%\n",
      "\n"
     ]
    }
   ],
   "source": [
    "from sklearn.decomposition import TruncatedSVD\n",
    "from sklearn.preprocessing import Normalizer\n",
    "from sklearn.pipeline import make_pipeline\n",
    "\n",
    "n_components = 2048\n",
    "\n",
    "print(\"Performing dimensionality reduction using LSA\")\n",
    "t0 = time.time()\n",
    "# Since LSA/SVD results are not normalized,\n",
    "# we redo the normalization to improve the k-means result.\n",
    "svd = TruncatedSVD(n_components)\n",
    "normalizer = Normalizer(copy=False)\n",
    "lsa = make_pipeline(svd, normalizer)\n",
    "\n",
    "X = lsa.fit_transform(result)\n",
    "\n",
    "print(\"done in %fs\" % (time.time() - t0))\n",
    "\n",
    "explained_variance = svd.explained_variance_ratio_.sum()\n",
    "print(\n",
    "        \"Explained variance of the SVD step: {}%\".format(int(explained_variance * 100))\n",
    ")\n",
    "\n",
    "print()"
   ]
  },
  {
   "cell_type": "markdown",
   "id": "dcd9d2e3-aa62-404a-8d54-643c149efa07",
   "metadata": {},
   "source": [
    "With dimensionality of 256:\n",
    "    ```Explained variance of the SVD step: 35%```\n",
    "   \n",
    "With dimensionality of 512:\n",
    "    ```Explained variance of the SVD step: 53%```\n",
    "    \n",
    "With dimensionality of 1024:\n",
    "    ```Explained variance of the SVD step: 74%```\n",
    "    \n",
    "With dimensionality of 2048:\n",
    "    ```Explained variance of the SVD step: 94%```"
   ]
  },
  {
   "cell_type": "markdown",
   "id": "562dc485-a02c-4155-a1d8-1a2eeb57213e",
   "metadata": {},
   "source": [
    "Resources:\n",
    "* Twitter API Guide - https://dev.to/twitterdev/a-comprehensive-guide-for-using-the-twitter-api-v2-using-tweepy-in-python-15d9\n",
    "* Getting an twitter ID from the username - https://commentpicker.com/twitter-id.php\n",
    "* Gensim LDA Tutorial - https://radimrehurek.com/gensim/auto_examples/tutorials/run_lda.html\n",
    "* Multicore LDA - https://radimrehurek.com/gensim/models/ldamulticore.html#module-gensim.models.ldamulticore\n",
    "* Clustering using Spacy and k-means - https://towardsdatascience.com/lovecraft-with-natural-language-processing-part-3-tf-idf-vectors-8c2d4df98621\n",
    "* Text Clustering - https://scikit-learn.org/stable/auto_examples/text/plot_document_clustering.html"
   ]
  },
  {
   "cell_type": "markdown",
   "id": "290e6f31-4432-4699-830b-3fcf52364608",
   "metadata": {},
   "source": [
    "## Vector Approaches\n",
    "\n",
    "Does Spacy's small model have the document and token vectors? "
   ]
  },
  {
   "cell_type": "code",
   "execution_count": 130,
   "id": "650b9629-ab76-4a6b-a35f-e867f745c9fc",
   "metadata": {},
   "outputs": [
    {
     "data": {
      "text/plain": [
       "array([ 0.18594387,  0.16888966,  0.28720382, -0.38914073, -0.21498613,\n",
       "        0.0081727 ,  0.27990252, -0.13706498,  0.18426497,  0.17324325,\n",
       "        0.09657438, -0.36668128, -0.25833127,  0.13369688, -0.07087755,\n",
       "       -0.02753761,  0.3461509 ,  0.15571254,  0.29998636, -0.24718584,\n",
       "       -0.10208539, -0.11834659, -0.15631823,  0.15458196, -0.00062301,\n",
       "        0.22753753,  0.25856328, -0.21417281, -0.21280351,  0.2066378 ,\n",
       "       -0.137276  ,  0.39799392, -0.19289292,  0.04366756, -0.16721827,\n",
       "        0.14674605,  0.06208356, -0.2569759 , -0.09906635,  0.2476246 ,\n",
       "        0.3009634 ,  0.33929887,  0.18252881, -0.3497901 , -0.11971787,\n",
       "        0.24228641,  0.06505639,  0.34647694, -0.16878408,  0.13640754,\n",
       "        0.10007541, -0.5262517 ,  0.2547306 ,  0.29229394, -0.19566934,\n",
       "        0.06341206,  0.23912658,  0.33801916, -0.33561698,  0.07155561,\n",
       "       -0.27544618,  0.1861917 , -0.23011814, -0.37493348, -0.17503904,\n",
       "       -0.35982522, -0.07995447, -0.01677367, -0.10707267, -0.04144854,\n",
       "       -0.18017863, -0.04412869, -0.23347998, -0.2145798 , -0.09337843,\n",
       "       -0.09844783,  0.19376813, -0.14908034, -0.5297602 ,  0.18776315,\n",
       "        0.03771137, -0.03474884,  0.31266758,  0.21624936, -0.02996908,\n",
       "       -0.27456957, -0.19403751,  0.41165695,  0.12817404,  0.07872989,\n",
       "       -0.2256617 , -0.1099399 ,  0.25968397, -0.27011606, -0.09464043,\n",
       "       -0.32731846], dtype=float32)"
      ]
     },
     "execution_count": 130,
     "metadata": {},
     "output_type": "execute_result"
    }
   ],
   "source": [
    "docs[0].vector"
   ]
  },
  {
   "cell_type": "code",
   "execution_count": 131,
   "id": "91e945b3-f65c-4589-892d-a4a6fe89ff24",
   "metadata": {},
   "outputs": [
    {
     "data": {
      "text/plain": [
       "array([-3.6765409e-01, -5.7722318e-01,  2.1194920e-01, -1.2547704e+00,\n",
       "       -1.4639720e-01, -1.0181818e+00, -2.5964144e-01,  8.4472358e-01,\n",
       "        1.0670036e+00, -1.2572292e+00,  4.8258346e-01, -2.4305277e-01,\n",
       "       -9.2291451e-01, -4.7000229e-01, -1.0484686e+00, -1.4504822e+00,\n",
       "       -3.0042210e-01,  6.6941988e-01,  2.3547079e-01, -8.6931884e-04,\n",
       "       -3.5365933e-01, -8.2129788e-01,  1.2119005e+00, -1.0266219e+00,\n",
       "        2.3740704e+00,  9.3580234e-01, -3.5084561e-02, -1.4832381e+00,\n",
       "       -2.8808919e-01,  1.3152186e+00, -2.4065751e-01, -5.8939821e-01,\n",
       "        6.0756266e-02,  6.4895257e-02, -1.3798523e-01, -3.6651823e-01,\n",
       "       -1.5674536e-01,  2.8770363e-01, -7.5796318e-01, -4.6383306e-01,\n",
       "        7.9316884e-02,  1.3314869e+00,  2.0101924e+00, -4.2304909e-01,\n",
       "       -2.4173671e-01, -5.5828965e-01,  1.8740424e+00,  5.1597446e-02,\n",
       "       -1.0434469e+00, -1.6145861e-01, -2.5521708e-01, -1.5776722e+00,\n",
       "        1.0559149e+00, -1.4191464e+00, -1.1082259e+00,  1.8252122e+00,\n",
       "        1.2753129e+00,  1.7594860e+00,  3.2660669e-01, -5.7340816e-02,\n",
       "       -1.0143212e+00,  2.9555333e-01,  6.5949523e-01, -2.5522614e-01,\n",
       "       -3.6359501e-01, -8.3530194e-01, -3.2251450e-01, -8.7651014e-01,\n",
       "        1.5780395e+00, -2.4255657e-01,  1.2437421e-01, -7.3450789e-02,\n",
       "       -1.4986361e+00, -1.9227462e+00,  1.1810350e+00, -1.4311604e+00,\n",
       "        4.9426264e-01, -5.8832145e-01, -3.1929821e-02,  1.5459676e+00,\n",
       "        1.4061290e+00,  7.2069788e-01, -8.9996421e-01,  2.9185445e+00,\n",
       "       -3.6529428e-01, -9.6528196e-01, -8.8699752e-01,  2.2627592e+00,\n",
       "        1.6930473e-01, -5.4522830e-01, -6.2255073e-01,  5.6094468e-01,\n",
       "        3.6480314e-01,  3.1927299e-01, -9.8574227e-01, -2.3198751e-01],\n",
       "      dtype=float32)"
      ]
     },
     "execution_count": 131,
     "metadata": {},
     "output_type": "execute_result"
    }
   ],
   "source": [
    "docs[0][0].vector"
   ]
  },
  {
   "cell_type": "markdown",
   "id": "f57dfdee-4fcc-48c8-99fa-dd8d8067a274",
   "metadata": {},
   "source": [
    "Yes - they do."
   ]
  },
  {
   "cell_type": "code",
   "execution_count": 133,
   "id": "96f2e4f0-232b-43b9-a4cb-3fb60e47e741",
   "metadata": {},
   "outputs": [
    {
     "data": {
      "text/plain": [
       "(96, 96)"
      ]
     },
     "execution_count": 133,
     "metadata": {},
     "output_type": "execute_result"
    }
   ],
   "source": [
    "len(docs[0].vector), len(docs[0][0].vector)"
   ]
  },
  {
   "cell_type": "code",
   "execution_count": 138,
   "id": "376ac2f6-529a-4ecb-ae16-4cf67c53120b",
   "metadata": {},
   "outputs": [
    {
     "data": {
      "text/plain": [
       "(array([[-3.6765409e-01, -5.7722318e-01,  2.1194920e-01, ...,\n",
       "          3.1927299e-01, -9.8574227e-01, -2.3198751e-01],\n",
       "        [ 1.4588490e-02,  1.4622711e+00, -3.9620340e-01, ...,\n",
       "         -3.4418225e-02, -3.0247152e-02, -3.5827222e-01],\n",
       "        [ 2.4611797e+00, -1.1400725e-01,  3.0050297e+00, ...,\n",
       "          1.6369969e-03, -5.9913552e-01, -5.9717619e-01],\n",
       "        ...,\n",
       "        [-5.9824848e-01, -6.7280948e-02, -7.6557112e-01, ...,\n",
       "          3.6814749e-02,  1.0736504e+00, -9.9289143e-01],\n",
       "        [-9.2127538e-01,  2.9165787e-01,  7.7765393e-01, ...,\n",
       "         -1.0747951e-01, -1.4419162e-01,  1.6308469e-01],\n",
       "        [-1.8552158e+00, -5.3190029e-01,  4.0953863e-01, ...,\n",
       "         -9.8345023e-01,  8.3542401e-01,  1.5334572e+00]], dtype=float32),\n",
       " (36, 96),\n",
       " 36)"
      ]
     },
     "execution_count": 138,
     "metadata": {},
     "output_type": "execute_result"
    }
   ],
   "source": [
    "docs[0].tensor, docs[0].tensor.shape, len(docs[0])"
   ]
  },
  {
   "cell_type": "markdown",
   "id": "125221ac-b22c-4f05-a208-2e9b1b4ec928",
   "metadata": {},
   "source": [
    "So we do have a 96-length document vector and a tensor of size num_tokens * 96, where each token has a 96-element vector as well.\n",
    "\n",
    "We can create a matrix for the set of documents by concatening the doc vectors, then use this to find similarity via a vector cross product."
   ]
  },
  {
   "cell_type": "code",
   "execution_count": 139,
   "id": "be651015-9613-4520-9ac7-1c0c5160bcac",
   "metadata": {},
   "outputs": [],
   "source": [
    "import numpy as np"
   ]
  },
  {
   "cell_type": "code",
   "execution_count": 145,
   "id": "82ecb675-37d1-4a61-99ee-14f3715b28a1",
   "metadata": {},
   "outputs": [],
   "source": [
    "docs_matrix = np.column_stack([d.vector for d in docs]).T"
   ]
  },
  {
   "cell_type": "code",
   "execution_count": 146,
   "id": "0a422549-3c9d-489d-a9f3-307ce1df1bb2",
   "metadata": {},
   "outputs": [
    {
     "data": {
      "text/plain": [
       "(2935, 96)"
      ]
     },
     "execution_count": 146,
     "metadata": {},
     "output_type": "execute_result"
    }
   ],
   "source": [
    "docs_matrix.shape"
   ]
  },
  {
   "cell_type": "code",
   "execution_count": 147,
   "id": "b2f61f76-fb15-4939-a141-24276386747b",
   "metadata": {},
   "outputs": [
    {
     "data": {
      "text/plain": [
       "array([ 0.18594387,  0.16888966,  0.28720382, -0.38914073, -0.21498613,\n",
       "        0.0081727 ,  0.27990252, -0.13706498,  0.18426497,  0.17324325,\n",
       "        0.09657438, -0.36668128, -0.25833127,  0.13369688, -0.07087755,\n",
       "       -0.02753761,  0.3461509 ,  0.15571254,  0.29998636, -0.24718584,\n",
       "       -0.10208539, -0.11834659, -0.15631823,  0.15458196, -0.00062301,\n",
       "        0.22753753,  0.25856328, -0.21417281, -0.21280351,  0.2066378 ,\n",
       "       -0.137276  ,  0.39799392, -0.19289292,  0.04366756, -0.16721827,\n",
       "        0.14674605,  0.06208356, -0.2569759 , -0.09906635,  0.2476246 ,\n",
       "        0.3009634 ,  0.33929887,  0.18252881, -0.3497901 , -0.11971787,\n",
       "        0.24228641,  0.06505639,  0.34647694, -0.16878408,  0.13640754,\n",
       "        0.10007541, -0.5262517 ,  0.2547306 ,  0.29229394, -0.19566934,\n",
       "        0.06341206,  0.23912658,  0.33801916, -0.33561698,  0.07155561,\n",
       "       -0.27544618,  0.1861917 , -0.23011814, -0.37493348, -0.17503904,\n",
       "       -0.35982522, -0.07995447, -0.01677367, -0.10707267, -0.04144854,\n",
       "       -0.18017863, -0.04412869, -0.23347998, -0.2145798 , -0.09337843,\n",
       "       -0.09844783,  0.19376813, -0.14908034, -0.5297602 ,  0.18776315,\n",
       "        0.03771137, -0.03474884,  0.31266758,  0.21624936, -0.02996908,\n",
       "       -0.27456957, -0.19403751,  0.41165695,  0.12817404,  0.07872989,\n",
       "       -0.2256617 , -0.1099399 ,  0.25968397, -0.27011606, -0.09464043,\n",
       "       -0.32731846], dtype=float32)"
      ]
     },
     "execution_count": 147,
     "metadata": {},
     "output_type": "execute_result"
    }
   ],
   "source": [
    "# Check this is the vector we extracted above for the first doc\n",
    "docs_matrix[0]"
   ]
  },
  {
   "cell_type": "markdown",
   "id": "6b59986e-dab9-45bf-aab1-63baba8fcddd",
   "metadata": {},
   "source": [
    "Yep - so this is a naive corpus matrix."
   ]
  },
  {
   "cell_type": "code",
   "execution_count": 149,
   "id": "ecb84d8c-7a77-487f-b3ff-1bed3b695d08",
   "metadata": {},
   "outputs": [],
   "source": [
    "sim_matrix = np.matmul(docs_matrix, docs_matrix.T)"
   ]
  },
  {
   "cell_type": "code",
   "execution_count": 150,
   "id": "7e2c7bb1-237e-409c-b22a-6f9c57273c0e",
   "metadata": {},
   "outputs": [
    {
     "data": {
      "text/plain": [
       "(2935, 2935)"
      ]
     },
     "execution_count": 150,
     "metadata": {},
     "output_type": "execute_result"
    }
   ],
   "source": [
    "sim_matrix.shape"
   ]
  },
  {
   "cell_type": "code",
   "execution_count": 153,
   "id": "a2667a3f-de03-4ae0-a212-1727b9cddb18",
   "metadata": {},
   "outputs": [
    {
     "data": {
      "text/plain": [
       "(array([4.9261904, 2.3974876, 2.7224295, ..., 2.6190352, 3.0411859,\n",
       "        2.6690173], dtype=float32),\n",
       " 4.9261904)"
      ]
     },
     "execution_count": 153,
     "metadata": {},
     "output_type": "execute_result"
    }
   ],
   "source": [
    "sim_matrix[0], sim_matrix[0].max()"
   ]
  },
  {
   "cell_type": "markdown",
   "id": "63f617d6-45a5-49e5-855d-2523a4916510",
   "metadata": {},
   "source": [
    "We want to normalise by the diagonal terms."
   ]
  },
  {
   "cell_type": "code",
   "execution_count": 155,
   "id": "73ec1f46-9f80-4037-a29e-b9108c565b6c",
   "metadata": {},
   "outputs": [
    {
     "data": {
      "text/plain": [
       "array([4.9261904, 4.4708366, 5.3287897, ..., 4.329993 , 4.0006404,\n",
       "       5.0607276], dtype=float32)"
      ]
     },
     "execution_count": 155,
     "metadata": {},
     "output_type": "execute_result"
    }
   ],
   "source": [
    "diag = sim_matrix.diagonal(); diag"
   ]
  },
  {
   "cell_type": "code",
   "execution_count": 156,
   "id": "d6baf620-39fb-49b7-a5e2-9da3aef0579a",
   "metadata": {},
   "outputs": [],
   "source": [
    "normalised_mat = sim_matrix / diag"
   ]
  },
  {
   "cell_type": "code",
   "execution_count": 157,
   "id": "131299dc-77b4-4314-9684-611d7e3615eb",
   "metadata": {},
   "outputs": [
    {
     "data": {
      "text/plain": [
       "array([[1.        , 0.53625035, 0.5108908 , ..., 0.60485905, 0.76017475,\n",
       "        0.52739793],\n",
       "       [0.48668188, 1.        , 0.3537342 , ..., 0.71608055, 0.5924681 ,\n",
       "        0.6576198 ],\n",
       "       [0.552644  , 0.42161575, 1.        , ..., 0.64410156, 0.6576288 ,\n",
       "        0.60892177],\n",
       "       ...,\n",
       "       [0.5316553 , 0.69352204, 0.5233749 , ..., 1.        , 0.5984148 ,\n",
       "        0.6563316 ],\n",
       "       [0.61735046, 0.5301584 , 0.49372116, ..., 0.5528975 , 1.        ,\n",
       "        0.48289704],\n",
       "       [0.5418015 , 0.7443874 , 0.5782902 , ..., 0.76709497, 0.6108548 ,\n",
       "        1.        ]], dtype=float32)"
      ]
     },
     "execution_count": 157,
     "metadata": {},
     "output_type": "execute_result"
    }
   ],
   "source": [
    "normalised_mat"
   ]
  },
  {
   "cell_type": "code",
   "execution_count": 167,
   "id": "394efb42-2379-4f4a-be13-096051251e5d",
   "metadata": {},
   "outputs": [
    {
     "data": {
      "text/plain": [
       "<matplotlib.image.AxesImage at 0x7fa31d3bb940>"
      ]
     },
     "execution_count": 167,
     "metadata": {},
     "output_type": "execute_result"
    },
    {
     "data": {
      "image/png": "[encoded data removed]",
      "text/plain": [
       "<Figure size 288x288 with 1 Axes>"
      ]
     },
     "metadata": {
      "needs_background": "light"
     },
     "output_type": "display_data"
    }
   ],
   "source": [
    "import matplotlib.pyplot as plt\n",
    "\n",
    "%matplotlib inline\n",
    "\n",
    "plt.matshow(normalised_mat)"
   ]
  },
  {
   "cell_type": "code",
   "execution_count": null,
   "id": "0bc7b49c-ecbb-44d3-b375-a9d9b6f108f3",
   "metadata": {},
   "outputs": [],
   "source": []
  }
 ],
 "metadata": {
  "kernelspec": {
   "display_name": "Python 3 (ipykernel)",
   "language": "python",
   "name": "python3"
  },
  "language_info": {
   "codemirror_mode": {
    "name": "ipython",
    "version": 3
   },
   "file_extension": ".py",
   "mimetype": "text/x-python",
   "name": "python",
   "nbconvert_exporter": "python",
   "pygments_lexer": "ipython3",
   "version": "3.8.5"
  }
 },
 "nbformat": 4,
 "nbformat_minor": 5
}
